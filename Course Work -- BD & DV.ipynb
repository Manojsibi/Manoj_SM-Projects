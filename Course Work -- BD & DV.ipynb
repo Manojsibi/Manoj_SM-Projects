{
 "cells": [
  {
   "cell_type": "code",
   "execution_count": 141,
   "metadata": {},
   "outputs": [],
   "source": [
    "from pyspark.sql import SparkSession\n",
    "from pyspark.sql.types import *\n",
    "from pyspark.sql.functions import *"
   ]
  },
  {
   "cell_type": "code",
   "execution_count": 142,
   "metadata": {},
   "outputs": [],
   "source": [
    "spark = SparkSession.builder.appName(\"Course Work -- BD & DV\").getOrCreate()"
   ]
  },
  {
   "cell_type": "code",
   "execution_count": 143,
   "metadata": {},
   "outputs": [],
   "source": [
    "dtFrame = spark.read.csv('/Users/manoj/desktop/employeeincomedetails.csv', header = True)"
   ]
  },
  {
   "cell_type": "code",
   "execution_count": 144,
   "metadata": {
    "scrolled": false
   },
   "outputs": [
    {
     "name": "stdout",
     "output_type": "stream",
     "text": [
      "+---+---------+------+------------+-------------+--------------+-----------------+-------------+-----+------+------------+------------+--------------+--------------+------+\n",
      "|age|workclass|fnlwgt|   education|education.num|marital.status|       occupation| relationship| race|   sex|capital.gain|capital.loss|hours.per.week|native.country|income|\n",
      "+---+---------+------+------------+-------------+--------------+-----------------+-------------+-----+------+------------+------------+--------------+--------------+------+\n",
      "| 90|        ?| 77053|     HS-grad|            9|       Widowed|                ?|Not-in-family|White|Female|           0|        4356|            40| United-States| <=50K|\n",
      "| 82|  Private|132870|     HS-grad|            9|       Widowed|  Exec-managerial|Not-in-family|White|Female|           0|        4356|            18| United-States| <=50K|\n",
      "| 66|        ?|186061|Some-college|           10|       Widowed|                ?|    Unmarried|Black|Female|           0|        4356|            40| United-States| <=50K|\n",
      "| 54|  Private|140359|     7th-8th|            4|      Divorced|Machine-op-inspct|    Unmarried|White|Female|           0|        3900|            40| United-States| <=50K|\n",
      "| 41|  Private|264663|Some-college|           10|     Separated|   Prof-specialty|    Own-child|White|Female|           0|        3900|            40| United-States| <=50K|\n",
      "+---+---------+------+------------+-------------+--------------+-----------------+-------------+-----+------+------------+------------+--------------+--------------+------+\n",
      "only showing top 5 rows\n",
      "\n"
     ]
    }
   ],
   "source": [
    "dtFrame.show (5)"
   ]
  },
  {
   "cell_type": "code",
   "execution_count": 145,
   "metadata": {},
   "outputs": [],
   "source": [
    "dtFrame2 = dtFrame.withColumnRenamed(\"age\", \"Age\").withColumnRenamed(\"workclass\", \"Sector\").withColumnRenamed(\"fnlwgt\", \"UID\").withColumnRenamed(\"education\", \"Educational_Qualification\").withColumnRenamed(\"education.num\", \"Education Grade\").withColumnRenamed(\"marital.status\", \"Marital_Status\").withColumnRenamed(\"occupation\", \"Occupation\").withColumnRenamed(\"relationship\", \"Relationship\").withColumnRenamed(\"race\", \"Race\").withColumnRenamed(\"sex\", \"Gender\").withColumnRenamed(\"capital.gain\", \"Capital Gain\").withColumnRenamed(\"capital.loss\", \"Capital Loss\").withColumnRenamed(\"native.country\", \"Country\").withColumnRenamed('hours.per.week', 'Hours Per Week').withColumnRenamed(\"income\", \"Income\")"
   ]
  },
  {
   "cell_type": "code",
   "execution_count": 146,
   "metadata": {
    "scrolled": false
   },
   "outputs": [
    {
     "name": "stdout",
     "output_type": "stream",
     "text": [
      "+---+-------+------+-------------------------+---------------+--------------+-----------------+-------------+-----+------+------------+------------+--------------+-------------+------+\n",
      "|Age| Sector|   UID|Educational_Qualification|Education Grade|Marital_Status|       Occupation| Relationship| Race|Gender|Capital Gain|Capital Loss|Hours Per Week|      Country|Income|\n",
      "+---+-------+------+-------------------------+---------------+--------------+-----------------+-------------+-----+------+------------+------------+--------------+-------------+------+\n",
      "| 90|      ?| 77053|                  HS-grad|              9|       Widowed|                ?|Not-in-family|White|Female|           0|        4356|            40|United-States| <=50K|\n",
      "| 82|Private|132870|                  HS-grad|              9|       Widowed|  Exec-managerial|Not-in-family|White|Female|           0|        4356|            18|United-States| <=50K|\n",
      "| 66|      ?|186061|             Some-college|             10|       Widowed|                ?|    Unmarried|Black|Female|           0|        4356|            40|United-States| <=50K|\n",
      "| 54|Private|140359|                  7th-8th|              4|      Divorced|Machine-op-inspct|    Unmarried|White|Female|           0|        3900|            40|United-States| <=50K|\n",
      "| 41|Private|264663|             Some-college|             10|     Separated|   Prof-specialty|    Own-child|White|Female|           0|        3900|            40|United-States| <=50K|\n",
      "+---+-------+------+-------------------------+---------------+--------------+-----------------+-------------+-----+------+------------+------------+--------------+-------------+------+\n",
      "only showing top 5 rows\n",
      "\n"
     ]
    }
   ],
   "source": [
    "dtFrame2.show(5)"
   ]
  },
  {
   "cell_type": "code",
   "execution_count": 147,
   "metadata": {},
   "outputs": [
    {
     "data": {
      "text/plain": [
       "32561"
      ]
     },
     "execution_count": 147,
     "metadata": {},
     "output_type": "execute_result"
    }
   ],
   "source": [
    "dtFrame2.count()"
   ]
  },
  {
   "cell_type": "code",
   "execution_count": 148,
   "metadata": {},
   "outputs": [],
   "source": [
    "dtFrame2 = dtFrame2.drop('Capital Gain', 'Capital Loss', 'UID', 'Hours Per Week', 'Education Grade')"
   ]
  },
  {
   "cell_type": "code",
   "execution_count": 149,
   "metadata": {},
   "outputs": [
    {
     "name": "stdout",
     "output_type": "stream",
     "text": [
      "+---+-------+-------------------------+--------------+-----------------+-------------+-----+------+-------------+------+\n",
      "|Age| Sector|Educational_Qualification|Marital_Status|       Occupation| Relationship| Race|Gender|      Country|Income|\n",
      "+---+-------+-------------------------+--------------+-----------------+-------------+-----+------+-------------+------+\n",
      "| 90|      ?|                  HS-grad|       Widowed|                ?|Not-in-family|White|Female|United-States| <=50K|\n",
      "| 82|Private|                  HS-grad|       Widowed|  Exec-managerial|Not-in-family|White|Female|United-States| <=50K|\n",
      "| 66|      ?|             Some-college|       Widowed|                ?|    Unmarried|Black|Female|United-States| <=50K|\n",
      "| 54|Private|                  7th-8th|      Divorced|Machine-op-inspct|    Unmarried|White|Female|United-States| <=50K|\n",
      "| 41|Private|             Some-college|     Separated|   Prof-specialty|    Own-child|White|Female|United-States| <=50K|\n",
      "+---+-------+-------------------------+--------------+-----------------+-------------+-----+------+-------------+------+\n",
      "only showing top 5 rows\n",
      "\n"
     ]
    }
   ],
   "source": [
    "dtFrame2.show(5)"
   ]
  },
  {
   "cell_type": "code",
   "execution_count": 150,
   "metadata": {},
   "outputs": [],
   "source": [
    "dtFrame3 = dtFrame2.replace(['<=50K', '>50K'], ['0', '1'], 'Income')"
   ]
  },
  {
   "cell_type": "code",
   "execution_count": 151,
   "metadata": {},
   "outputs": [
    {
     "name": "stdout",
     "output_type": "stream",
     "text": [
      "+---+-------+-------------------------+--------------+-----------------+-------------+-----+------+-------------+------+\n",
      "|Age| Sector|Educational_Qualification|Marital_Status|       Occupation| Relationship| Race|Gender|      Country|Income|\n",
      "+---+-------+-------------------------+--------------+-----------------+-------------+-----+------+-------------+------+\n",
      "| 90|      ?|                  HS-grad|       Widowed|                ?|Not-in-family|White|Female|United-States|     0|\n",
      "| 82|Private|                  HS-grad|       Widowed|  Exec-managerial|Not-in-family|White|Female|United-States|     0|\n",
      "| 66|      ?|             Some-college|       Widowed|                ?|    Unmarried|Black|Female|United-States|     0|\n",
      "| 54|Private|                  7th-8th|      Divorced|Machine-op-inspct|    Unmarried|White|Female|United-States|     0|\n",
      "| 41|Private|             Some-college|     Separated|   Prof-specialty|    Own-child|White|Female|United-States|     0|\n",
      "+---+-------+-------------------------+--------------+-----------------+-------------+-----+------+-------------+------+\n",
      "only showing top 5 rows\n",
      "\n"
     ]
    }
   ],
   "source": [
    "dtFrame3.show(5)"
   ]
  },
  {
   "cell_type": "code",
   "execution_count": 152,
   "metadata": {},
   "outputs": [],
   "source": [
    "dtFrame3 = dtFrame3.replace('?', 'Null')"
   ]
  },
  {
   "cell_type": "code",
   "execution_count": 153,
   "metadata": {},
   "outputs": [
    {
     "name": "stdout",
     "output_type": "stream",
     "text": [
      "+---+-------+-------------------------+--------------+-----------------+-------------+-----+------+-------------+------+\n",
      "|Age| Sector|Educational_Qualification|Marital_Status|       Occupation| Relationship| Race|Gender|      Country|Income|\n",
      "+---+-------+-------------------------+--------------+-----------------+-------------+-----+------+-------------+------+\n",
      "| 90|   Null|                  HS-grad|       Widowed|             Null|Not-in-family|White|Female|United-States|     0|\n",
      "| 82|Private|                  HS-grad|       Widowed|  Exec-managerial|Not-in-family|White|Female|United-States|     0|\n",
      "| 66|   Null|             Some-college|       Widowed|             Null|    Unmarried|Black|Female|United-States|     0|\n",
      "| 54|Private|                  7th-8th|      Divorced|Machine-op-inspct|    Unmarried|White|Female|United-States|     0|\n",
      "| 41|Private|             Some-college|     Separated|   Prof-specialty|    Own-child|White|Female|United-States|     0|\n",
      "+---+-------+-------------------------+--------------+-----------------+-------------+-----+------+-------------+------+\n",
      "only showing top 5 rows\n",
      "\n"
     ]
    }
   ],
   "source": [
    "dtFrame3.show(5)"
   ]
  },
  {
   "cell_type": "code",
   "execution_count": 154,
   "metadata": {},
   "outputs": [
    {
     "data": {
      "text/plain": [
       "DataFrame[Age: string, Sector: string, Educational_Qualification: string, Marital_Status: string, Occupation: string, Relationship: string, Race: string, Gender: string, Country: string, Income: string]"
      ]
     },
     "execution_count": 154,
     "metadata": {},
     "output_type": "execute_result"
    }
   ],
   "source": [
    "dtFrame3"
   ]
  },
  {
   "cell_type": "code",
   "execution_count": 155,
   "metadata": {},
   "outputs": [],
   "source": [
    "dtFrame4 = dtFrame3.withColumn(\"Age\", dtFrame3[\"Age\"].cast(IntegerType())) .withColumn(\"Sector\", dtFrame3[\"Sector\"].cast(StringType())) .withColumn(\"Educational_Qualification\", dtFrame3[\"Educational_Qualification\"].cast(StringType())) .withColumn(\"Marital_Status\", dtFrame3[\"Marital_Status\"].cast(StringType())) .withColumn(\"Occupation\", dtFrame3[\"Occupation\"].cast(StringType())) .withColumn(\"Relationship\", dtFrame3[\"Relationship\"].cast(StringType())) .withColumn(\"Gender\", dtFrame3[\"Gender\"].cast(StringType())) .withColumn(\"Country\", dtFrame3[\"Country\"].cast(StringType())) .withColumn(\"Income\", dtFrame3[\"Income\"].cast(IntegerType())) .withColumn(\"Race\", dtFrame3[\"Race\"].cast(StringType()))"
   ]
  },
  {
   "cell_type": "code",
   "execution_count": 156,
   "metadata": {},
   "outputs": [
    {
     "name": "stdout",
     "output_type": "stream",
     "text": [
      "root\n",
      " |-- Age: integer (nullable = true)\n",
      " |-- Sector: string (nullable = true)\n",
      " |-- Educational_Qualification: string (nullable = true)\n",
      " |-- Marital_Status: string (nullable = true)\n",
      " |-- Occupation: string (nullable = true)\n",
      " |-- Relationship: string (nullable = true)\n",
      " |-- Race: string (nullable = true)\n",
      " |-- Gender: string (nullable = true)\n",
      " |-- Country: string (nullable = true)\n",
      " |-- Income: integer (nullable = true)\n",
      "\n"
     ]
    }
   ],
   "source": [
    "dtFrame4.printSchema()"
   ]
  },
  {
   "cell_type": "code",
   "execution_count": 157,
   "metadata": {},
   "outputs": [
    {
     "data": {
      "text/plain": [
       "32561"
      ]
     },
     "execution_count": 157,
     "metadata": {},
     "output_type": "execute_result"
    }
   ],
   "source": [
    "dtFrame4.select('Age', 'Sector', 'Educational_Qualification', 'Marital_Status', 'Occupation', 'Relationship', 'Gender', 'Country', 'Income').count()"
   ]
  },
  {
   "cell_type": "code",
   "execution_count": 158,
   "metadata": {},
   "outputs": [],
   "source": [
    "dtFrame5 = dtFrame4.filter((dtFrame4.Sector != 'Null') & (dtFrame4.Occupation != 'Null') & (dtFrame4.Relationship != 'Null') & (dtFrame4.Gender != 'Null') & (dtFrame4.Country != 'Null') & (dtFrame4.Educational_Qualification != 'Null') & (dtFrame4.Marital_Status != 'Null'))"
   ]
  },
  {
   "cell_type": "code",
   "execution_count": 159,
   "metadata": {},
   "outputs": [
    {
     "name": "stdout",
     "output_type": "stream",
     "text": [
      "+---+-------+-------------------------+--------------+-----------------+-------------+-----+------+-------------+------+\n",
      "|Age| Sector|Educational_Qualification|Marital_Status|       Occupation| Relationship| Race|Gender|      Country|Income|\n",
      "+---+-------+-------------------------+--------------+-----------------+-------------+-----+------+-------------+------+\n",
      "| 82|Private|                  HS-grad|       Widowed|  Exec-managerial|Not-in-family|White|Female|United-States|     0|\n",
      "| 54|Private|                  7th-8th|      Divorced|Machine-op-inspct|    Unmarried|White|Female|United-States|     0|\n",
      "| 41|Private|             Some-college|     Separated|   Prof-specialty|    Own-child|White|Female|United-States|     0|\n",
      "| 34|Private|                  HS-grad|      Divorced|    Other-service|    Unmarried|White|Female|United-States|     0|\n",
      "| 38|Private|                     10th|     Separated|     Adm-clerical|    Unmarried|White|  Male|United-States|     0|\n",
      "+---+-------+-------------------------+--------------+-----------------+-------------+-----+------+-------------+------+\n",
      "only showing top 5 rows\n",
      "\n"
     ]
    }
   ],
   "source": [
    "dtFrame5.show(5)"
   ]
  },
  {
   "cell_type": "code",
   "execution_count": 160,
   "metadata": {},
   "outputs": [
    {
     "data": {
      "text/plain": [
       "30162"
      ]
     },
     "execution_count": 160,
     "metadata": {},
     "output_type": "execute_result"
    }
   ],
   "source": [
    "dtFrame5.select('Age', 'Sector', 'Educational_Qualification', 'Marital_Status', 'Occupation', 'Relationship', 'Gender', 'Country', 'Income').count()"
   ]
  },
  {
   "cell_type": "code",
   "execution_count": 161,
   "metadata": {},
   "outputs": [
    {
     "name": "stdout",
     "output_type": "stream",
     "text": [
      "+---+-----+\n",
      "|Age|count|\n",
      "+---+-----+\n",
      "| 36|  852|\n",
      "| 31|  851|\n",
      "| 33|  837|\n",
      "| 34|  836|\n",
      "| 37|  828|\n",
      "+---+-----+\n",
      "only showing top 5 rows\n",
      "\n"
     ]
    }
   ],
   "source": [
    "dtFrame5.groupBy('Age').count().sort(desc(\"count\")).show(5)"
   ]
  },
  {
   "cell_type": "code",
   "execution_count": 162,
   "metadata": {},
   "outputs": [
    {
     "name": "stdout",
     "output_type": "stream",
     "text": [
      "+----------------+-----+\n",
      "|          Sector|count|\n",
      "+----------------+-----+\n",
      "|         Private|22286|\n",
      "|Self-emp-not-inc| 2499|\n",
      "|       Local-gov| 2067|\n",
      "|       State-gov| 1279|\n",
      "|    Self-emp-inc| 1074|\n",
      "+----------------+-----+\n",
      "only showing top 5 rows\n",
      "\n"
     ]
    }
   ],
   "source": [
    "dtFrame5.groupBy('Sector').count().sort(desc(\"count\")).show(5)"
   ]
  },
  {
   "cell_type": "code",
   "execution_count": 163,
   "metadata": {},
   "outputs": [
    {
     "name": "stdout",
     "output_type": "stream",
     "text": [
      "+-------------------------+-----+\n",
      "|Educational_Qualification|count|\n",
      "+-------------------------+-----+\n",
      "|                  HS-grad| 9840|\n",
      "|             Some-college| 6678|\n",
      "|                Bachelors| 5044|\n",
      "|                  Masters| 1627|\n",
      "|                Assoc-voc| 1307|\n",
      "+-------------------------+-----+\n",
      "only showing top 5 rows\n",
      "\n"
     ]
    }
   ],
   "source": [
    "dtFrame5.groupBy('Educational_Qualification').count().sort(desc(\"count\")).show(5)"
   ]
  },
  {
   "cell_type": "code",
   "execution_count": 164,
   "metadata": {},
   "outputs": [
    {
     "name": "stdout",
     "output_type": "stream",
     "text": [
      "+------------------+-----+\n",
      "|    Marital_Status|count|\n",
      "+------------------+-----+\n",
      "|Married-civ-spouse|14065|\n",
      "|     Never-married| 9726|\n",
      "|          Divorced| 4214|\n",
      "|         Separated|  939|\n",
      "|           Widowed|  827|\n",
      "+------------------+-----+\n",
      "only showing top 5 rows\n",
      "\n"
     ]
    }
   ],
   "source": [
    "dtFrame5.groupBy('Marital_Status').count().sort(desc(\"count\")).show(5)"
   ]
  },
  {
   "cell_type": "code",
   "execution_count": 165,
   "metadata": {},
   "outputs": [
    {
     "name": "stdout",
     "output_type": "stream",
     "text": [
      "+---+-------+-------------------------+------------------+------------+------+-------------+------+-----+-----+\n",
      "|Age| Sector|Educational_Qualification|    Marital_Status|Relationship|Gender|      Country|Income| Race|count|\n",
      "+---+-------+-------------------------+------------------+------------+------+-------------+------+-----+-----+\n",
      "| 20|Private|             Some-college|     Never-married|   Own-child|Female|United-States|     0|White|   98|\n",
      "| 19|Private|             Some-college|     Never-married|   Own-child|Female|United-States|     0|White|   95|\n",
      "| 20|Private|             Some-college|     Never-married|   Own-child|  Male|United-States|     0|White|   85|\n",
      "| 21|Private|             Some-college|     Never-married|   Own-child|Female|United-States|     0|White|   77|\n",
      "| 19|Private|                  HS-grad|     Never-married|   Own-child|  Male|United-States|     0|White|   74|\n",
      "| 21|Private|             Some-college|     Never-married|   Own-child|  Male|United-States|     0|White|   72|\n",
      "| 35|Private|                  HS-grad|Married-civ-spouse|     Husband|  Male|United-States|     0|White|   70|\n",
      "| 33|Private|                  HS-grad|Married-civ-spouse|     Husband|  Male|United-States|     0|White|   64|\n",
      "| 19|Private|             Some-college|     Never-married|   Own-child|  Male|United-States|     0|White|   64|\n",
      "| 36|Private|                  HS-grad|Married-civ-spouse|     Husband|  Male|United-States|     0|White|   63|\n",
      "+---+-------+-------------------------+------------------+------------+------+-------------+------+-----+-----+\n",
      "only showing top 10 rows\n",
      "\n"
     ]
    }
   ],
   "source": [
    "dtFrame5.groupBy('Age', 'Sector', 'Educational_Qualification', 'Marital_Status', 'Relationship', 'Gender', 'Country', 'Income', 'Race').count().sort(desc(\"count\")).show(10)"
   ]
  },
  {
   "cell_type": "code",
   "execution_count": 166,
   "metadata": {},
   "outputs": [],
   "source": [
    "dtFrame5.write.csv('/Users/manoj/desktop/Course Work -- BD & DV.csv',header=True)"
   ]
  }
 ],
 "metadata": {
  "kernelspec": {
   "display_name": "Python 3",
   "language": "python",
   "name": "python3"
  },
  "language_info": {
   "codemirror_mode": {
    "name": "ipython",
    "version": 3
   },
   "file_extension": ".py",
   "mimetype": "text/x-python",
   "name": "python",
   "nbconvert_exporter": "python",
   "pygments_lexer": "ipython3",
   "version": "3.8.3"
  }
 },
 "nbformat": 4,
 "nbformat_minor": 4
}
