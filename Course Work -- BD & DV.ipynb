{
 "cells": [
  {
   "cell_type": "code",
   "execution_count": 46,
   "metadata": {},
   "outputs": [],
   "source": [
    "from pyspark.sql import SparkSession\n",
    "from pyspark.sql.types import *\n",
    "from pyspark.sql.functions import col, asc,desc"
   ]
  },
  {
   "cell_type": "code",
   "execution_count": 47,
   "metadata": {},
   "outputs": [],
   "source": [
    "spark = SparkSession.builder.appName(\"Course Work -- BD & DV\").getOrCreate()"
   ]
  },
  {
   "cell_type": "code",
   "execution_count": 48,
   "metadata": {},
   "outputs": [],
   "source": [
    "df = spark.read.csv('/Users/manoj/desktop/employeeincomedetails.csv', header = True)"
   ]
  },
  {
   "cell_type": "code",
   "execution_count": 49,
   "metadata": {},
   "outputs": [
    {
     "name": "stdout",
     "output_type": "stream",
     "text": [
      "+---+----------------+------+------------+-------------+--------------+-----------------+--------------+-----+------+------------+------------+--------------+--------------+------+\n",
      "|age|       workclass|fnlwgt|   education|education.num|marital.status|       occupation|  relationship| race|   sex|capital.gain|capital.loss|hours.per.week|native.country|income|\n",
      "+---+----------------+------+------------+-------------+--------------+-----------------+--------------+-----+------+------------+------------+--------------+--------------+------+\n",
      "| 90|               ?| 77053|     HS-grad|            9|       Widowed|                ?| Not-in-family|White|Female|           0|        4356|            40| United-States| <=50K|\n",
      "| 82|         Private|132870|     HS-grad|            9|       Widowed|  Exec-managerial| Not-in-family|White|Female|           0|        4356|            18| United-States| <=50K|\n",
      "| 66|               ?|186061|Some-college|           10|       Widowed|                ?|     Unmarried|Black|Female|           0|        4356|            40| United-States| <=50K|\n",
      "| 54|         Private|140359|     7th-8th|            4|      Divorced|Machine-op-inspct|     Unmarried|White|Female|           0|        3900|            40| United-States| <=50K|\n",
      "| 41|         Private|264663|Some-college|           10|     Separated|   Prof-specialty|     Own-child|White|Female|           0|        3900|            40| United-States| <=50K|\n",
      "| 34|         Private|216864|     HS-grad|            9|      Divorced|    Other-service|     Unmarried|White|Female|           0|        3770|            45| United-States| <=50K|\n",
      "| 38|         Private|150601|        10th|            6|     Separated|     Adm-clerical|     Unmarried|White|  Male|           0|        3770|            40| United-States| <=50K|\n",
      "| 74|       State-gov| 88638|   Doctorate|           16| Never-married|   Prof-specialty|Other-relative|White|Female|           0|        3683|            20| United-States|  >50K|\n",
      "| 68|     Federal-gov|422013|     HS-grad|            9|      Divorced|   Prof-specialty| Not-in-family|White|Female|           0|        3683|            40| United-States| <=50K|\n",
      "| 41|         Private| 70037|Some-college|           10| Never-married|     Craft-repair|     Unmarried|White|  Male|           0|        3004|            60|             ?|  >50K|\n",
      "| 45|         Private|172274|   Doctorate|           16|      Divorced|   Prof-specialty|     Unmarried|Black|Female|           0|        3004|            35| United-States|  >50K|\n",
      "| 38|Self-emp-not-inc|164526| Prof-school|           15| Never-married|   Prof-specialty| Not-in-family|White|  Male|           0|        2824|            45| United-States|  >50K|\n",
      "| 52|         Private|129177|   Bachelors|           13|       Widowed|    Other-service| Not-in-family|White|Female|           0|        2824|            20| United-States|  >50K|\n",
      "| 32|         Private|136204|     Masters|           14|     Separated|  Exec-managerial| Not-in-family|White|  Male|           0|        2824|            55| United-States|  >50K|\n",
      "| 51|               ?|172175|   Doctorate|           16| Never-married|                ?| Not-in-family|White|  Male|           0|        2824|            40| United-States|  >50K|\n",
      "| 46|         Private| 45363| Prof-school|           15|      Divorced|   Prof-specialty| Not-in-family|White|  Male|           0|        2824|            40| United-States|  >50K|\n",
      "| 45|         Private|172822|        11th|            7|      Divorced| Transport-moving| Not-in-family|White|  Male|           0|        2824|            76| United-States|  >50K|\n",
      "| 57|         Private|317847|     Masters|           14|      Divorced|  Exec-managerial| Not-in-family|White|  Male|           0|        2824|            50| United-States|  >50K|\n",
      "| 22|         Private|119592|  Assoc-acdm|           12| Never-married|Handlers-cleaners| Not-in-family|Black|  Male|           0|        2824|            40|             ?|  >50K|\n",
      "| 34|         Private|203034|   Bachelors|           13|     Separated|            Sales| Not-in-family|White|  Male|           0|        2824|            50| United-States|  >50K|\n",
      "+---+----------------+------+------------+-------------+--------------+-----------------+--------------+-----+------+------------+------------+--------------+--------------+------+\n",
      "only showing top 20 rows\n",
      "\n"
     ]
    }
   ],
   "source": [
    "df.show ()"
   ]
  },
  {
   "cell_type": "code",
   "execution_count": 50,
   "metadata": {},
   "outputs": [
    {
     "data": {
      "text/plain": [
       "DataFrame[age: string, workclass: string, fnlwgt: string, education: string, education.num: string, marital.status: string, occupation: string, relationship: string, race: string, sex: string, capital.gain: string, capital.loss: string, hours.per.week: string, native.country: string, income: string]"
      ]
     },
     "execution_count": 50,
     "metadata": {},
     "output_type": "execute_result"
    }
   ],
   "source": [
    "df"
   ]
  },
  {
   "cell_type": "code",
   "execution_count": 51,
   "metadata": {},
   "outputs": [],
   "source": [
    "df2 = df.withColumnRenamed(\"age\", \"Age\").withColumnRenamed(\"workclass\", \"Sector\").withColumnRenamed(\"fnlwgt\", \"UID\").withColumnRenamed(\"education\", \"Educational Qualification\").withColumnRenamed(\"education.num\", \"Education Grade\").withColumnRenamed(\"marital.status\", \"Marital Status\").withColumnRenamed(\"occupation\", \"Occupation\").withColumnRenamed(\"relationship\", \"Relationship\").withColumnRenamed(\"race\", \"Race\").withColumnRenamed(\"sex\", \"Gender\").withColumnRenamed(\"capital.gain\", \"Capital Gain\").withColumnRenamed(\"capital.loss\", \"Capital Loss\").withColumnRenamed(\"native.country\", \"Country\").withColumnRenamed('hours.per.week', 'Hours Per Week').withColumnRenamed(\"income\", \"Income\")"
   ]
  },
  {
   "cell_type": "code",
   "execution_count": 52,
   "metadata": {},
   "outputs": [
    {
     "name": "stdout",
     "output_type": "stream",
     "text": [
      "+---+----------------+------+-------------------------+---------------+--------------+-----------------+--------------+-----+------+------------+------------+--------------+-------------+------+\n",
      "|Age|          Sector|   UID|Educational Qualification|Education Grade|Marital Status|       Occupation|  Relationship| Race|Gender|Capital Gain|Capital Loss|Hours Per Week|      Country|Income|\n",
      "+---+----------------+------+-------------------------+---------------+--------------+-----------------+--------------+-----+------+------------+------------+--------------+-------------+------+\n",
      "| 90|               ?| 77053|                  HS-grad|              9|       Widowed|                ?| Not-in-family|White|Female|           0|        4356|            40|United-States| <=50K|\n",
      "| 82|         Private|132870|                  HS-grad|              9|       Widowed|  Exec-managerial| Not-in-family|White|Female|           0|        4356|            18|United-States| <=50K|\n",
      "| 66|               ?|186061|             Some-college|             10|       Widowed|                ?|     Unmarried|Black|Female|           0|        4356|            40|United-States| <=50K|\n",
      "| 54|         Private|140359|                  7th-8th|              4|      Divorced|Machine-op-inspct|     Unmarried|White|Female|           0|        3900|            40|United-States| <=50K|\n",
      "| 41|         Private|264663|             Some-college|             10|     Separated|   Prof-specialty|     Own-child|White|Female|           0|        3900|            40|United-States| <=50K|\n",
      "| 34|         Private|216864|                  HS-grad|              9|      Divorced|    Other-service|     Unmarried|White|Female|           0|        3770|            45|United-States| <=50K|\n",
      "| 38|         Private|150601|                     10th|              6|     Separated|     Adm-clerical|     Unmarried|White|  Male|           0|        3770|            40|United-States| <=50K|\n",
      "| 74|       State-gov| 88638|                Doctorate|             16| Never-married|   Prof-specialty|Other-relative|White|Female|           0|        3683|            20|United-States|  >50K|\n",
      "| 68|     Federal-gov|422013|                  HS-grad|              9|      Divorced|   Prof-specialty| Not-in-family|White|Female|           0|        3683|            40|United-States| <=50K|\n",
      "| 41|         Private| 70037|             Some-college|             10| Never-married|     Craft-repair|     Unmarried|White|  Male|           0|        3004|            60|            ?|  >50K|\n",
      "| 45|         Private|172274|                Doctorate|             16|      Divorced|   Prof-specialty|     Unmarried|Black|Female|           0|        3004|            35|United-States|  >50K|\n",
      "| 38|Self-emp-not-inc|164526|              Prof-school|             15| Never-married|   Prof-specialty| Not-in-family|White|  Male|           0|        2824|            45|United-States|  >50K|\n",
      "| 52|         Private|129177|                Bachelors|             13|       Widowed|    Other-service| Not-in-family|White|Female|           0|        2824|            20|United-States|  >50K|\n",
      "| 32|         Private|136204|                  Masters|             14|     Separated|  Exec-managerial| Not-in-family|White|  Male|           0|        2824|            55|United-States|  >50K|\n",
      "| 51|               ?|172175|                Doctorate|             16| Never-married|                ?| Not-in-family|White|  Male|           0|        2824|            40|United-States|  >50K|\n",
      "| 46|         Private| 45363|              Prof-school|             15|      Divorced|   Prof-specialty| Not-in-family|White|  Male|           0|        2824|            40|United-States|  >50K|\n",
      "| 45|         Private|172822|                     11th|              7|      Divorced| Transport-moving| Not-in-family|White|  Male|           0|        2824|            76|United-States|  >50K|\n",
      "| 57|         Private|317847|                  Masters|             14|      Divorced|  Exec-managerial| Not-in-family|White|  Male|           0|        2824|            50|United-States|  >50K|\n",
      "| 22|         Private|119592|               Assoc-acdm|             12| Never-married|Handlers-cleaners| Not-in-family|Black|  Male|           0|        2824|            40|            ?|  >50K|\n",
      "| 34|         Private|203034|                Bachelors|             13|     Separated|            Sales| Not-in-family|White|  Male|           0|        2824|            50|United-States|  >50K|\n",
      "+---+----------------+------+-------------------------+---------------+--------------+-----------------+--------------+-----+------+------------+------------+--------------+-------------+------+\n",
      "only showing top 20 rows\n",
      "\n"
     ]
    }
   ],
   "source": [
    "df2.show()"
   ]
  },
  {
   "cell_type": "code",
   "execution_count": 53,
   "metadata": {},
   "outputs": [],
   "source": [
    "df2 = df2.drop('Race')"
   ]
  },
  {
   "cell_type": "code",
   "execution_count": 54,
   "metadata": {},
   "outputs": [
    {
     "name": "stdout",
     "output_type": "stream",
     "text": [
      "+---+----------------+------+-------------------------+---------------+--------------+-----------------+--------------+------+------------+------------+--------------+-------------+------+\n",
      "|Age|          Sector|   UID|Educational Qualification|Education Grade|Marital Status|       Occupation|  Relationship|Gender|Capital Gain|Capital Loss|Hours Per Week|      Country|Income|\n",
      "+---+----------------+------+-------------------------+---------------+--------------+-----------------+--------------+------+------------+------------+--------------+-------------+------+\n",
      "| 90|               ?| 77053|                  HS-grad|              9|       Widowed|                ?| Not-in-family|Female|           0|        4356|            40|United-States| <=50K|\n",
      "| 82|         Private|132870|                  HS-grad|              9|       Widowed|  Exec-managerial| Not-in-family|Female|           0|        4356|            18|United-States| <=50K|\n",
      "| 66|               ?|186061|             Some-college|             10|       Widowed|                ?|     Unmarried|Female|           0|        4356|            40|United-States| <=50K|\n",
      "| 54|         Private|140359|                  7th-8th|              4|      Divorced|Machine-op-inspct|     Unmarried|Female|           0|        3900|            40|United-States| <=50K|\n",
      "| 41|         Private|264663|             Some-college|             10|     Separated|   Prof-specialty|     Own-child|Female|           0|        3900|            40|United-States| <=50K|\n",
      "| 34|         Private|216864|                  HS-grad|              9|      Divorced|    Other-service|     Unmarried|Female|           0|        3770|            45|United-States| <=50K|\n",
      "| 38|         Private|150601|                     10th|              6|     Separated|     Adm-clerical|     Unmarried|  Male|           0|        3770|            40|United-States| <=50K|\n",
      "| 74|       State-gov| 88638|                Doctorate|             16| Never-married|   Prof-specialty|Other-relative|Female|           0|        3683|            20|United-States|  >50K|\n",
      "| 68|     Federal-gov|422013|                  HS-grad|              9|      Divorced|   Prof-specialty| Not-in-family|Female|           0|        3683|            40|United-States| <=50K|\n",
      "| 41|         Private| 70037|             Some-college|             10| Never-married|     Craft-repair|     Unmarried|  Male|           0|        3004|            60|            ?|  >50K|\n",
      "| 45|         Private|172274|                Doctorate|             16|      Divorced|   Prof-specialty|     Unmarried|Female|           0|        3004|            35|United-States|  >50K|\n",
      "| 38|Self-emp-not-inc|164526|              Prof-school|             15| Never-married|   Prof-specialty| Not-in-family|  Male|           0|        2824|            45|United-States|  >50K|\n",
      "| 52|         Private|129177|                Bachelors|             13|       Widowed|    Other-service| Not-in-family|Female|           0|        2824|            20|United-States|  >50K|\n",
      "| 32|         Private|136204|                  Masters|             14|     Separated|  Exec-managerial| Not-in-family|  Male|           0|        2824|            55|United-States|  >50K|\n",
      "| 51|               ?|172175|                Doctorate|             16| Never-married|                ?| Not-in-family|  Male|           0|        2824|            40|United-States|  >50K|\n",
      "| 46|         Private| 45363|              Prof-school|             15|      Divorced|   Prof-specialty| Not-in-family|  Male|           0|        2824|            40|United-States|  >50K|\n",
      "| 45|         Private|172822|                     11th|              7|      Divorced| Transport-moving| Not-in-family|  Male|           0|        2824|            76|United-States|  >50K|\n",
      "| 57|         Private|317847|                  Masters|             14|      Divorced|  Exec-managerial| Not-in-family|  Male|           0|        2824|            50|United-States|  >50K|\n",
      "| 22|         Private|119592|               Assoc-acdm|             12| Never-married|Handlers-cleaners| Not-in-family|  Male|           0|        2824|            40|            ?|  >50K|\n",
      "| 34|         Private|203034|                Bachelors|             13|     Separated|            Sales| Not-in-family|  Male|           0|        2824|            50|United-States|  >50K|\n",
      "+---+----------------+------+-------------------------+---------------+--------------+-----------------+--------------+------+------------+------------+--------------+-------------+------+\n",
      "only showing top 20 rows\n",
      "\n"
     ]
    }
   ],
   "source": [
    "df2.show()"
   ]
  },
  {
   "cell_type": "code",
   "execution_count": 55,
   "metadata": {},
   "outputs": [],
   "source": [
    "df2 = df2.withColumn(\"Age\", df2[\"Age\"].cast(IntegerType())) .withColumn(\"Sector\", df2[\"Sector\"].cast(StringType())) .withColumn(\"UID\", df2[\"UID\"].cast(IntegerType())) .withColumn(\"Educational Qualification\", df2[\"Educational Qualification\"].cast(StringType())) .withColumn(\"Education Grade\", df2[\"Education Grade\"].cast(IntegerType())) .withColumn(\"Marital Status\", df2[\"Marital Status\"].cast(StringType())) .withColumn(\"Occupation\", df2[\"Occupation\"].cast(StringType())) .withColumn(\"Relationship\", df2[\"Relationship\"].cast(StringType())) .withColumn(\"Gender\", df2[\"Gender\"].cast(StringType())) .withColumn(\"Capital Gain\", df2[\"Capital Gain\"].cast(IntegerType())) .withColumn(\"Capital Loss\", df2[\"Capital Loss\"].cast(IntegerType())) .withColumn(\"Hours Per Week\", df2[\"Hours Per Week\"].cast(IntegerType())) .withColumn(\"Country\", df2[\"Country\"].cast(StringType())) .withColumn(\"Income\", df2[\"Income\"].cast(IntegerType()))"
   ]
  },
  {
   "cell_type": "code",
   "execution_count": 56,
   "metadata": {},
   "outputs": [
    {
     "data": {
      "text/plain": [
       "DataFrame[Age: int, Sector: string, UID: int, Educational Qualification: string, Education Grade: int, Marital Status: string, Occupation: string, Relationship: string, Gender: string, Capital Gain: int, Capital Loss: int, Hours Per Week: int, Country: string, Income: int]"
      ]
     },
     "execution_count": 56,
     "metadata": {},
     "output_type": "execute_result"
    }
   ],
   "source": [
    "df2"
   ]
  },
  {
   "cell_type": "code",
   "execution_count": 57,
   "metadata": {},
   "outputs": [
    {
     "name": "stdout",
     "output_type": "stream",
     "text": [
      "+---+----------------+------+-------------------------+---------------+--------------+-----------------+--------------+------+------------+------------+--------------+-------------+------+\n",
      "|Age|          Sector|   UID|Educational Qualification|Education Grade|Marital Status|       Occupation|  Relationship|Gender|Capital Gain|Capital Loss|Hours Per Week|      Country|Income|\n",
      "+---+----------------+------+-------------------------+---------------+--------------+-----------------+--------------+------+------------+------------+--------------+-------------+------+\n",
      "| 90|               ?| 77053|                  HS-grad|              9|       Widowed|                ?| Not-in-family|Female|           0|        4356|            40|United-States|  null|\n",
      "| 82|         Private|132870|                  HS-grad|              9|       Widowed|  Exec-managerial| Not-in-family|Female|           0|        4356|            18|United-States|  null|\n",
      "| 66|               ?|186061|             Some-college|             10|       Widowed|                ?|     Unmarried|Female|           0|        4356|            40|United-States|  null|\n",
      "| 54|         Private|140359|                  7th-8th|              4|      Divorced|Machine-op-inspct|     Unmarried|Female|           0|        3900|            40|United-States|  null|\n",
      "| 41|         Private|264663|             Some-college|             10|     Separated|   Prof-specialty|     Own-child|Female|           0|        3900|            40|United-States|  null|\n",
      "| 34|         Private|216864|                  HS-grad|              9|      Divorced|    Other-service|     Unmarried|Female|           0|        3770|            45|United-States|  null|\n",
      "| 38|         Private|150601|                     10th|              6|     Separated|     Adm-clerical|     Unmarried|  Male|           0|        3770|            40|United-States|  null|\n",
      "| 74|       State-gov| 88638|                Doctorate|             16| Never-married|   Prof-specialty|Other-relative|Female|           0|        3683|            20|United-States|  null|\n",
      "| 68|     Federal-gov|422013|                  HS-grad|              9|      Divorced|   Prof-specialty| Not-in-family|Female|           0|        3683|            40|United-States|  null|\n",
      "| 41|         Private| 70037|             Some-college|             10| Never-married|     Craft-repair|     Unmarried|  Male|           0|        3004|            60|            ?|  null|\n",
      "| 45|         Private|172274|                Doctorate|             16|      Divorced|   Prof-specialty|     Unmarried|Female|           0|        3004|            35|United-States|  null|\n",
      "| 38|Self-emp-not-inc|164526|              Prof-school|             15| Never-married|   Prof-specialty| Not-in-family|  Male|           0|        2824|            45|United-States|  null|\n",
      "| 52|         Private|129177|                Bachelors|             13|       Widowed|    Other-service| Not-in-family|Female|           0|        2824|            20|United-States|  null|\n",
      "| 32|         Private|136204|                  Masters|             14|     Separated|  Exec-managerial| Not-in-family|  Male|           0|        2824|            55|United-States|  null|\n",
      "| 51|               ?|172175|                Doctorate|             16| Never-married|                ?| Not-in-family|  Male|           0|        2824|            40|United-States|  null|\n",
      "| 46|         Private| 45363|              Prof-school|             15|      Divorced|   Prof-specialty| Not-in-family|  Male|           0|        2824|            40|United-States|  null|\n",
      "| 45|         Private|172822|                     11th|              7|      Divorced| Transport-moving| Not-in-family|  Male|           0|        2824|            76|United-States|  null|\n",
      "| 57|         Private|317847|                  Masters|             14|      Divorced|  Exec-managerial| Not-in-family|  Male|           0|        2824|            50|United-States|  null|\n",
      "| 22|         Private|119592|               Assoc-acdm|             12| Never-married|Handlers-cleaners| Not-in-family|  Male|           0|        2824|            40|            ?|  null|\n",
      "| 34|         Private|203034|                Bachelors|             13|     Separated|            Sales| Not-in-family|  Male|           0|        2824|            50|United-States|  null|\n",
      "+---+----------------+------+-------------------------+---------------+--------------+-----------------+--------------+------+------------+------------+--------------+-------------+------+\n",
      "only showing top 20 rows\n",
      "\n"
     ]
    }
   ],
   "source": [
    "df2.show()"
   ]
  },
  {
   "cell_type": "code",
   "execution_count": 58,
   "metadata": {},
   "outputs": [
    {
     "name": "stdout",
     "output_type": "stream",
     "text": [
      "root\n",
      " |-- Age: integer (nullable = true)\n",
      " |-- Sector: string (nullable = true)\n",
      " |-- UID: integer (nullable = true)\n",
      " |-- Educational Qualification: string (nullable = true)\n",
      " |-- Education Grade: integer (nullable = true)\n",
      " |-- Marital Status: string (nullable = true)\n",
      " |-- Occupation: string (nullable = true)\n",
      " |-- Relationship: string (nullable = true)\n",
      " |-- Gender: string (nullable = true)\n",
      " |-- Capital Gain: integer (nullable = true)\n",
      " |-- Capital Loss: integer (nullable = true)\n",
      " |-- Hours Per Week: integer (nullable = true)\n",
      " |-- Country: string (nullable = true)\n",
      " |-- Income: integer (nullable = true)\n",
      "\n"
     ]
    }
   ],
   "source": [
    "df2.printSchema()"
   ]
  },
  {
   "cell_type": "code",
   "execution_count": 65,
   "metadata": {},
   "outputs": [
    {
     "name": "stdout",
     "output_type": "stream",
     "text": [
      "+---+-----+\n",
      "|Age|count|\n",
      "+---+-----+\n",
      "| 31|  888|\n",
      "| 85|    3|\n",
      "| 65|  178|\n",
      "| 53|  464|\n",
      "| 78|   23|\n",
      "| 34|  886|\n",
      "| 81|   20|\n",
      "| 28|  867|\n",
      "| 76|   46|\n",
      "| 26|  785|\n",
      "| 27|  835|\n",
      "| 44|  724|\n",
      "| 22|  765|\n",
      "| 47|  708|\n",
      "| 52|  478|\n",
      "| 86|    1|\n",
      "| 40|  794|\n",
      "| 20|  753|\n",
      "| 57|  358|\n",
      "| 54|  415|\n",
      "+---+-----+\n",
      "only showing top 20 rows\n",
      "\n"
     ]
    }
   ],
   "source": [
    "df2.groupBy('Age').count().show()"
   ]
  },
  {
   "cell_type": "code",
   "execution_count": 66,
   "metadata": {},
   "outputs": [
    {
     "data": {
      "text/plain": [
       "73"
      ]
     },
     "execution_count": 66,
     "metadata": {},
     "output_type": "execute_result"
    }
   ],
   "source": [
    "df2.select('Age').distinct().count()"
   ]
  },
  {
   "cell_type": "code",
   "execution_count": 73,
   "metadata": {},
   "outputs": [
    {
     "name": "stdout",
     "output_type": "stream",
     "text": [
      "+---+------+---+-------------------------+---------------+--------------+----------+------------+------+------------+------------+--------------+-------+------+\n",
      "|Age|Sector|UID|Educational Qualification|Education Grade|Marital Status|Occupation|Relationship|Gender|Capital Gain|Capital Loss|Hours Per Week|Country|Income|\n",
      "+---+------+---+-------------------------+---------------+--------------+----------+------------+------+------------+------------+--------------+-------+------+\n",
      "+---+------+---+-------------------------+---------------+--------------+----------+------------+------+------------+------------+--------------+-------+------+\n",
      "\n"
     ]
    }
   ],
   "source": [
    "df2.filter(df2.Age.contains('?')).show()"
   ]
  },
  {
   "cell_type": "code",
   "execution_count": 88,
   "metadata": {},
   "outputs": [
    {
     "name": "stdout",
     "output_type": "stream",
     "text": [
      "+----------------+-----------------+-----+\n",
      "|          Sector|       Occupation|count|\n",
      "+----------------+-----------------+-----+\n",
      "|    Self-emp-inc|    Other-service|   27|\n",
      "|Self-emp-not-inc|     Craft-repair|  531|\n",
      "|       State-gov|     Adm-clerical|  253|\n",
      "|         Private| Transport-moving| 1266|\n",
      "|     Federal-gov|     Tech-support|   68|\n",
      "|Self-emp-not-inc| Transport-moving|  122|\n",
      "|Self-emp-not-inc|            Sales|  385|\n",
      "|     Without-pay|Handlers-cleaners|    1|\n",
      "|    Self-emp-inc|     Craft-repair|  106|\n",
      "|    Self-emp-inc| Transport-moving|   27|\n",
      "|    Self-emp-inc|  Farming-fishing|   51|\n",
      "|               ?|                ?| 1836|\n",
      "|         Private|Machine-op-inspct| 1913|\n",
      "|    Self-emp-inc|   Prof-specialty|  160|\n",
      "|       State-gov| Transport-moving|   41|\n",
      "|         Private|Handlers-cleaners| 1273|\n",
      "|       Local-gov|    Other-service|  193|\n",
      "|    Self-emp-inc|Machine-op-inspct|   13|\n",
      "|     Without-pay|     Adm-clerical|    3|\n",
      "|     Federal-gov|  Farming-fishing|    8|\n",
      "+----------------+-----------------+-----+\n",
      "only showing top 20 rows\n",
      "\n"
     ]
    }
   ],
   "source": [
    "df2.groupBy('Sector', 'Occupation').count().show()"
   ]
  },
  {
   "cell_type": "code",
   "execution_count": 77,
   "metadata": {},
   "outputs": [
    {
     "name": "stdout",
     "output_type": "stream",
     "text": [
      "+-------------------------+-----+\n",
      "|Educational Qualification|count|\n",
      "+-------------------------+-----+\n",
      "|                     10th|  933|\n",
      "|                  Masters| 1723|\n",
      "|                  5th-6th|  333|\n",
      "|               Assoc-acdm| 1067|\n",
      "|                Assoc-voc| 1382|\n",
      "|                  7th-8th|  646|\n",
      "|                      9th|  514|\n",
      "|                  HS-grad|10501|\n",
      "|                Bachelors| 5355|\n",
      "|                     11th| 1175|\n",
      "|                  1st-4th|  168|\n",
      "|                Preschool|   51|\n",
      "|                     12th|  433|\n",
      "|                Doctorate|  413|\n",
      "|             Some-college| 7291|\n",
      "|              Prof-school|  576|\n",
      "+-------------------------+-----+\n",
      "\n"
     ]
    }
   ],
   "source": [
    "df2.groupBy('Educational Qualification').count().show()"
   ]
  },
  {
   "cell_type": "code",
   "execution_count": 78,
   "metadata": {},
   "outputs": [
    {
     "name": "stdout",
     "output_type": "stream",
     "text": [
      "+---------------+-----+\n",
      "|Education Grade|count|\n",
      "+---------------+-----+\n",
      "|             12| 1067|\n",
      "|              1|   51|\n",
      "|             13| 5355|\n",
      "|              6|  933|\n",
      "|             16|  413|\n",
      "|              3|  333|\n",
      "|              5|  514|\n",
      "|             15|  576|\n",
      "|              9|10501|\n",
      "|              4|  646|\n",
      "|              8|  433|\n",
      "|              7| 1175|\n",
      "|             10| 7291|\n",
      "|             11| 1382|\n",
      "|             14| 1723|\n",
      "|              2|  168|\n",
      "+---------------+-----+\n",
      "\n"
     ]
    }
   ],
   "source": [
    "df2.groupBy('Education Grade').count().show()"
   ]
  },
  {
   "cell_type": "code",
   "execution_count": 79,
   "metadata": {},
   "outputs": [
    {
     "name": "stdout",
     "output_type": "stream",
     "text": [
      "+--------------------+-----+\n",
      "|      Marital Status|count|\n",
      "+--------------------+-----+\n",
      "|           Separated| 1025|\n",
      "|       Never-married|10683|\n",
      "|Married-spouse-ab...|  418|\n",
      "|            Divorced| 4443|\n",
      "|             Widowed|  993|\n",
      "|   Married-AF-spouse|   23|\n",
      "|  Married-civ-spouse|14976|\n",
      "+--------------------+-----+\n",
      "\n"
     ]
    }
   ],
   "source": [
    "df2.groupBy('Marital Status').count().show()"
   ]
  },
  {
   "cell_type": "code",
   "execution_count": 80,
   "metadata": {},
   "outputs": [
    {
     "name": "stdout",
     "output_type": "stream",
     "text": [
      "+-----------------+-----+\n",
      "|       Occupation|count|\n",
      "+-----------------+-----+\n",
      "|            Sales| 3650|\n",
      "|  Exec-managerial| 4066|\n",
      "|   Prof-specialty| 4140|\n",
      "|Handlers-cleaners| 1370|\n",
      "|  Farming-fishing|  994|\n",
      "|     Craft-repair| 4099|\n",
      "| Transport-moving| 1597|\n",
      "|  Priv-house-serv|  149|\n",
      "|  Protective-serv|  649|\n",
      "|    Other-service| 3295|\n",
      "|     Tech-support|  928|\n",
      "|Machine-op-inspct| 2002|\n",
      "|     Armed-Forces|    9|\n",
      "|                ?| 1843|\n",
      "|     Adm-clerical| 3770|\n",
      "+-----------------+-----+\n",
      "\n"
     ]
    }
   ],
   "source": [
    "df2.groupBy('Occupation').count().show()"
   ]
  },
  {
   "cell_type": "code",
   "execution_count": 81,
   "metadata": {},
   "outputs": [
    {
     "name": "stdout",
     "output_type": "stream",
     "text": [
      "+--------------+-----+\n",
      "|  Relationship|count|\n",
      "+--------------+-----+\n",
      "|     Own-child| 5068|\n",
      "| Not-in-family| 8305|\n",
      "|     Unmarried| 3446|\n",
      "|          Wife| 1568|\n",
      "|Other-relative|  981|\n",
      "|       Husband|13193|\n",
      "+--------------+-----+\n",
      "\n"
     ]
    }
   ],
   "source": [
    "df2.groupBy('Relationship').count().show()"
   ]
  },
  {
   "cell_type": "code",
   "execution_count": 82,
   "metadata": {},
   "outputs": [
    {
     "name": "stdout",
     "output_type": "stream",
     "text": [
      "+------+-----+\n",
      "|Gender|count|\n",
      "+------+-----+\n",
      "|Female|10771|\n",
      "|  Male|21790|\n",
      "+------+-----+\n",
      "\n"
     ]
    }
   ],
   "source": [
    "df2.groupBy('Gender').count().show()"
   ]
  },
  {
   "cell_type": "code",
   "execution_count": 83,
   "metadata": {},
   "outputs": [
    {
     "name": "stdout",
     "output_type": "stream",
     "text": [
      "+------------+-----+\n",
      "|Capital Gain|count|\n",
      "+------------+-----+\n",
      "|        4101|   20|\n",
      "|        2580|   12|\n",
      "|        2387|    1|\n",
      "|       22040|    1|\n",
      "|       10605|   12|\n",
      "|        5178|   97|\n",
      "|        9562|    4|\n",
      "|        4865|   17|\n",
      "|        2907|   11|\n",
      "|        2463|   11|\n",
      "|       15024|  347|\n",
      "|         914|    8|\n",
      "|        3411|   24|\n",
      "|        3456|    2|\n",
      "|        2062|    2|\n",
      "|        2228|    5|\n",
      "|        3325|   53|\n",
      "|        2961|    3|\n",
      "|        2407|   19|\n",
      "|        1848|    6|\n",
      "+------------+-----+\n",
      "only showing top 20 rows\n",
      "\n"
     ]
    }
   ],
   "source": [
    "df2.groupBy('Capital Gain').count().show()"
   ]
  },
  {
   "cell_type": "code",
   "execution_count": 84,
   "metadata": {},
   "outputs": [
    {
     "name": "stdout",
     "output_type": "stream",
     "text": [
      "+------------+-----+\n",
      "|Capital Loss|count|\n",
      "+------------+-----+\n",
      "|        1721|   18|\n",
      "|        2231|    3|\n",
      "|        2392|    9|\n",
      "|        1977|  168|\n",
      "|        2559|   12|\n",
      "|        2238|    2|\n",
      "|         974|    2|\n",
      "|         155|    1|\n",
      "|        1974|   18|\n",
      "|        2467|    1|\n",
      "|        1816|    2|\n",
      "|        2754|    2|\n",
      "|        1564|   25|\n",
      "|        1848|   51|\n",
      "|         625|   12|\n",
      "|        2042|    9|\n",
      "|        2051|   21|\n",
      "|        1944|    1|\n",
      "|        2339|   17|\n",
      "|        1590|   40|\n",
      "+------------+-----+\n",
      "only showing top 20 rows\n",
      "\n"
     ]
    }
   ],
   "source": [
    "df2.groupBy('Capital Loss').count().show()"
   ]
  },
  {
   "cell_type": "code",
   "execution_count": 85,
   "metadata": {},
   "outputs": [
    {
     "name": "stdout",
     "output_type": "stream",
     "text": [
      "+--------------+-----+\n",
      "|Hours Per Week|count|\n",
      "+--------------+-----+\n",
      "|            31|    5|\n",
      "|            85|   13|\n",
      "|            65|  244|\n",
      "|            53|   25|\n",
      "|            78|    8|\n",
      "|            34|   28|\n",
      "|            81|    3|\n",
      "|            28|   86|\n",
      "|            76|    3|\n",
      "|            26|   30|\n",
      "|            27|   30|\n",
      "|            44|  212|\n",
      "|            12|  173|\n",
      "|            91|    3|\n",
      "|            22|   44|\n",
      "|            47|   49|\n",
      "|             1|   20|\n",
      "|            52|  138|\n",
      "|            13|   23|\n",
      "|             6|   64|\n",
      "+--------------+-----+\n",
      "only showing top 20 rows\n",
      "\n"
     ]
    }
   ],
   "source": [
    "df2.groupBy('Hours Per Week').count().show()"
   ]
  },
  {
   "cell_type": "code",
   "execution_count": 86,
   "metadata": {},
   "outputs": [
    {
     "name": "stdout",
     "output_type": "stream",
     "text": [
      "+------------------+-----+\n",
      "|           Country|count|\n",
      "+------------------+-----+\n",
      "|       Philippines|  198|\n",
      "|           Germany|  137|\n",
      "|          Cambodia|   19|\n",
      "|            France|   29|\n",
      "|            Greece|   29|\n",
      "|            Taiwan|   51|\n",
      "|           Ecuador|   28|\n",
      "|         Nicaragua|   34|\n",
      "|              Hong|   20|\n",
      "|              Peru|   31|\n",
      "|             China|   75|\n",
      "|             India|  100|\n",
      "|Holand-Netherlands|    1|\n",
      "|             Italy|   73|\n",
      "|              Cuba|   95|\n",
      "|             South|   80|\n",
      "|              Iran|   43|\n",
      "|           Ireland|   24|\n",
      "|              Laos|   18|\n",
      "|          Thailand|   18|\n",
      "+------------------+-----+\n",
      "only showing top 20 rows\n",
      "\n"
     ]
    }
   ],
   "source": [
    "df2.groupBy('Country').count().show()"
   ]
  },
  {
   "cell_type": "code",
   "execution_count": 87,
   "metadata": {},
   "outputs": [
    {
     "name": "stdout",
     "output_type": "stream",
     "text": [
      "+------+-----+\n",
      "|Income|count|\n",
      "+------+-----+\n",
      "|  null|32561|\n",
      "+------+-----+\n",
      "\n"
     ]
    }
   ],
   "source": [
    "df2.groupBy('Income').count().show()"
   ]
  },
  {
   "cell_type": "code",
   "execution_count": 89,
   "metadata": {},
   "outputs": [
    {
     "name": "stdout",
     "output_type": "stream",
     "text": [
      "+---+----------------+-----------------+-------------+------+------------------+-----+\n",
      "|Age|          Sector|       Occupation|      Country|Gender|    Marital Status|count|\n",
      "+---+----------------+-----------------+-------------+------+------------------+-----+\n",
      "| 61|         Private|            Sales|United-States|Female|          Divorced|    3|\n",
      "| 42|     Federal-gov|   Prof-specialty|United-States|  Male|Married-civ-spouse|    3|\n",
      "| 33|         Private|     Adm-clerical|United-States|Female|Married-civ-spouse|    8|\n",
      "| 31|         Private|Machine-op-inspct|United-States|  Male|Married-civ-spouse|   26|\n",
      "| 47|         Private|Handlers-cleaners|United-States|  Male|          Divorced|    3|\n",
      "| 65|       Local-gov|  Exec-managerial|United-States|  Male|Married-civ-spouse|    1|\n",
      "| 47|         Private|     Craft-repair|United-States|  Male|          Divorced|    5|\n",
      "| 56|Self-emp-not-inc|     Adm-clerical|United-States|Female|           Widowed|    1|\n",
      "| 58|         Private|   Prof-specialty|United-States|Female|Married-civ-spouse|    1|\n",
      "| 79|               ?|                ?|       Poland|  Male|Married-civ-spouse|    1|\n",
      "| 36|    Self-emp-inc|            Sales|United-States|  Male|Married-civ-spouse|    4|\n",
      "| 30|         Private|   Prof-specialty|United-States|  Male|          Divorced|    1|\n",
      "| 45|     Federal-gov|     Tech-support|    Guatemala|  Male|Married-civ-spouse|    1|\n",
      "| 59|         Private|     Tech-support|United-States|  Male|Married-civ-spouse|    4|\n",
      "| 53|         Private|     Craft-repair|  Puerto-Rico|  Male|Married-civ-spouse|    2|\n",
      "| 52|       State-gov|     Craft-repair|United-States|  Male|Married-civ-spouse|    1|\n",
      "| 23|         Private|     Adm-clerical|United-States|Female|Married-civ-spouse|    3|\n",
      "| 78|         Private|            Sales|United-States|Female|           Widowed|    1|\n",
      "| 34|         Private| Transport-moving|      Germany|Female|          Divorced|    1|\n",
      "| 34|         Private|     Tech-support|United-States|Female|          Divorced|    3|\n",
      "+---+----------------+-----------------+-------------+------+------------------+-----+\n",
      "only showing top 20 rows\n",
      "\n"
     ]
    }
   ],
   "source": [
    "df2.groupBy('Age', 'Sector', 'Occupation', 'Country', 'Gender', 'Marital Status').count().show()"
   ]
  },
  {
   "cell_type": "code",
   "execution_count": null,
   "metadata": {},
   "outputs": [],
   "source": []
  }
 ],
 "metadata": {
  "kernelspec": {
   "display_name": "Python 3",
   "language": "python",
   "name": "python3"
  },
  "language_info": {
   "codemirror_mode": {
    "name": "ipython",
    "version": 3
   },
   "file_extension": ".py",
   "mimetype": "text/x-python",
   "name": "python",
   "nbconvert_exporter": "python",
   "pygments_lexer": "ipython3",
   "version": "3.8.3"
  }
 },
 "nbformat": 4,
 "nbformat_minor": 4
}
