{
 "cells": [
  {
   "cell_type": "code",
   "execution_count": 65,
   "metadata": {},
   "outputs": [],
   "source": [
    "from pyspark.sql import SparkSession\n",
    "from pyspark.sql.types import *\n",
    "from pyspark.sql.functions import *"
   ]
  },
  {
   "cell_type": "code",
   "execution_count": 66,
   "metadata": {},
   "outputs": [],
   "source": [
    "spark = SparkSession.builder.appName(\"Course Work -- BD & DV\").getOrCreate()"
   ]
  },
  {
   "cell_type": "code",
   "execution_count": 67,
   "metadata": {},
   "outputs": [],
   "source": [
    "df = spark.read.csv('/Users/manoj/desktop/employeeincomedetails.csv', header = True)"
   ]
  },
  {
   "cell_type": "code",
   "execution_count": 68,
   "metadata": {},
   "outputs": [
    {
     "name": "stdout",
     "output_type": "stream",
     "text": [
      "+---+----------------+------+------------+-------------+--------------+-----------------+--------------+-----+------+------------+------------+--------------+--------------+------+\n",
      "|age|       workclass|fnlwgt|   education|education.num|marital.status|       occupation|  relationship| race|   sex|capital.gain|capital.loss|hours.per.week|native.country|income|\n",
      "+---+----------------+------+------------+-------------+--------------+-----------------+--------------+-----+------+------------+------------+--------------+--------------+------+\n",
      "| 90|               ?| 77053|     HS-grad|            9|       Widowed|                ?| Not-in-family|White|Female|           0|        4356|            40| United-States| <=50K|\n",
      "| 82|         Private|132870|     HS-grad|            9|       Widowed|  Exec-managerial| Not-in-family|White|Female|           0|        4356|            18| United-States| <=50K|\n",
      "| 66|               ?|186061|Some-college|           10|       Widowed|                ?|     Unmarried|Black|Female|           0|        4356|            40| United-States| <=50K|\n",
      "| 54|         Private|140359|     7th-8th|            4|      Divorced|Machine-op-inspct|     Unmarried|White|Female|           0|        3900|            40| United-States| <=50K|\n",
      "| 41|         Private|264663|Some-college|           10|     Separated|   Prof-specialty|     Own-child|White|Female|           0|        3900|            40| United-States| <=50K|\n",
      "| 34|         Private|216864|     HS-grad|            9|      Divorced|    Other-service|     Unmarried|White|Female|           0|        3770|            45| United-States| <=50K|\n",
      "| 38|         Private|150601|        10th|            6|     Separated|     Adm-clerical|     Unmarried|White|  Male|           0|        3770|            40| United-States| <=50K|\n",
      "| 74|       State-gov| 88638|   Doctorate|           16| Never-married|   Prof-specialty|Other-relative|White|Female|           0|        3683|            20| United-States|  >50K|\n",
      "| 68|     Federal-gov|422013|     HS-grad|            9|      Divorced|   Prof-specialty| Not-in-family|White|Female|           0|        3683|            40| United-States| <=50K|\n",
      "| 41|         Private| 70037|Some-college|           10| Never-married|     Craft-repair|     Unmarried|White|  Male|           0|        3004|            60|             ?|  >50K|\n",
      "| 45|         Private|172274|   Doctorate|           16|      Divorced|   Prof-specialty|     Unmarried|Black|Female|           0|        3004|            35| United-States|  >50K|\n",
      "| 38|Self-emp-not-inc|164526| Prof-school|           15| Never-married|   Prof-specialty| Not-in-family|White|  Male|           0|        2824|            45| United-States|  >50K|\n",
      "| 52|         Private|129177|   Bachelors|           13|       Widowed|    Other-service| Not-in-family|White|Female|           0|        2824|            20| United-States|  >50K|\n",
      "| 32|         Private|136204|     Masters|           14|     Separated|  Exec-managerial| Not-in-family|White|  Male|           0|        2824|            55| United-States|  >50K|\n",
      "| 51|               ?|172175|   Doctorate|           16| Never-married|                ?| Not-in-family|White|  Male|           0|        2824|            40| United-States|  >50K|\n",
      "| 46|         Private| 45363| Prof-school|           15|      Divorced|   Prof-specialty| Not-in-family|White|  Male|           0|        2824|            40| United-States|  >50K|\n",
      "| 45|         Private|172822|        11th|            7|      Divorced| Transport-moving| Not-in-family|White|  Male|           0|        2824|            76| United-States|  >50K|\n",
      "| 57|         Private|317847|     Masters|           14|      Divorced|  Exec-managerial| Not-in-family|White|  Male|           0|        2824|            50| United-States|  >50K|\n",
      "| 22|         Private|119592|  Assoc-acdm|           12| Never-married|Handlers-cleaners| Not-in-family|Black|  Male|           0|        2824|            40|             ?|  >50K|\n",
      "| 34|         Private|203034|   Bachelors|           13|     Separated|            Sales| Not-in-family|White|  Male|           0|        2824|            50| United-States|  >50K|\n",
      "+---+----------------+------+------------+-------------+--------------+-----------------+--------------+-----+------+------------+------------+--------------+--------------+------+\n",
      "only showing top 20 rows\n",
      "\n"
     ]
    }
   ],
   "source": [
    "df.show ()"
   ]
  },
  {
   "cell_type": "code",
   "execution_count": 69,
   "metadata": {},
   "outputs": [],
   "source": [
    "df2 = df.withColumnRenamed(\"age\", \"Age\").withColumnRenamed(\"workclass\", \"Sector\").withColumnRenamed(\"fnlwgt\", \"UID\").withColumnRenamed(\"education\", \"Educational_Qualification\").withColumnRenamed(\"education.num\", \"Education Grade\").withColumnRenamed(\"marital.status\", \"Marital_Status\").withColumnRenamed(\"occupation\", \"Occupation\").withColumnRenamed(\"relationship\", \"Relationship\").withColumnRenamed(\"race\", \"Race\").withColumnRenamed(\"sex\", \"Gender\").withColumnRenamed(\"capital.gain\", \"Capital Gain\").withColumnRenamed(\"capital.loss\", \"Capital Loss\").withColumnRenamed(\"native.country\", \"Country\").withColumnRenamed('hours.per.week', 'Hours Per Week').withColumnRenamed(\"income\", \"Income\")"
   ]
  },
  {
   "cell_type": "code",
   "execution_count": 70,
   "metadata": {},
   "outputs": [
    {
     "name": "stdout",
     "output_type": "stream",
     "text": [
      "+---+----------------+------+-------------------------+---------------+--------------+-----------------+--------------+-----+------+------------+------------+--------------+-------------+------+\n",
      "|Age|          Sector|   UID|Educational_Qualification|Education Grade|Marital_Status|       Occupation|  Relationship| Race|Gender|Capital Gain|Capital Loss|Hours Per Week|      Country|Income|\n",
      "+---+----------------+------+-------------------------+---------------+--------------+-----------------+--------------+-----+------+------------+------------+--------------+-------------+------+\n",
      "| 90|               ?| 77053|                  HS-grad|              9|       Widowed|                ?| Not-in-family|White|Female|           0|        4356|            40|United-States| <=50K|\n",
      "| 82|         Private|132870|                  HS-grad|              9|       Widowed|  Exec-managerial| Not-in-family|White|Female|           0|        4356|            18|United-States| <=50K|\n",
      "| 66|               ?|186061|             Some-college|             10|       Widowed|                ?|     Unmarried|Black|Female|           0|        4356|            40|United-States| <=50K|\n",
      "| 54|         Private|140359|                  7th-8th|              4|      Divorced|Machine-op-inspct|     Unmarried|White|Female|           0|        3900|            40|United-States| <=50K|\n",
      "| 41|         Private|264663|             Some-college|             10|     Separated|   Prof-specialty|     Own-child|White|Female|           0|        3900|            40|United-States| <=50K|\n",
      "| 34|         Private|216864|                  HS-grad|              9|      Divorced|    Other-service|     Unmarried|White|Female|           0|        3770|            45|United-States| <=50K|\n",
      "| 38|         Private|150601|                     10th|              6|     Separated|     Adm-clerical|     Unmarried|White|  Male|           0|        3770|            40|United-States| <=50K|\n",
      "| 74|       State-gov| 88638|                Doctorate|             16| Never-married|   Prof-specialty|Other-relative|White|Female|           0|        3683|            20|United-States|  >50K|\n",
      "| 68|     Federal-gov|422013|                  HS-grad|              9|      Divorced|   Prof-specialty| Not-in-family|White|Female|           0|        3683|            40|United-States| <=50K|\n",
      "| 41|         Private| 70037|             Some-college|             10| Never-married|     Craft-repair|     Unmarried|White|  Male|           0|        3004|            60|            ?|  >50K|\n",
      "| 45|         Private|172274|                Doctorate|             16|      Divorced|   Prof-specialty|     Unmarried|Black|Female|           0|        3004|            35|United-States|  >50K|\n",
      "| 38|Self-emp-not-inc|164526|              Prof-school|             15| Never-married|   Prof-specialty| Not-in-family|White|  Male|           0|        2824|            45|United-States|  >50K|\n",
      "| 52|         Private|129177|                Bachelors|             13|       Widowed|    Other-service| Not-in-family|White|Female|           0|        2824|            20|United-States|  >50K|\n",
      "| 32|         Private|136204|                  Masters|             14|     Separated|  Exec-managerial| Not-in-family|White|  Male|           0|        2824|            55|United-States|  >50K|\n",
      "| 51|               ?|172175|                Doctorate|             16| Never-married|                ?| Not-in-family|White|  Male|           0|        2824|            40|United-States|  >50K|\n",
      "| 46|         Private| 45363|              Prof-school|             15|      Divorced|   Prof-specialty| Not-in-family|White|  Male|           0|        2824|            40|United-States|  >50K|\n",
      "| 45|         Private|172822|                     11th|              7|      Divorced| Transport-moving| Not-in-family|White|  Male|           0|        2824|            76|United-States|  >50K|\n",
      "| 57|         Private|317847|                  Masters|             14|      Divorced|  Exec-managerial| Not-in-family|White|  Male|           0|        2824|            50|United-States|  >50K|\n",
      "| 22|         Private|119592|               Assoc-acdm|             12| Never-married|Handlers-cleaners| Not-in-family|Black|  Male|           0|        2824|            40|            ?|  >50K|\n",
      "| 34|         Private|203034|                Bachelors|             13|     Separated|            Sales| Not-in-family|White|  Male|           0|        2824|            50|United-States|  >50K|\n",
      "+---+----------------+------+-------------------------+---------------+--------------+-----------------+--------------+-----+------+------------+------------+--------------+-------------+------+\n",
      "only showing top 20 rows\n",
      "\n"
     ]
    }
   ],
   "source": [
    "df2.show()"
   ]
  },
  {
   "cell_type": "code",
   "execution_count": 71,
   "metadata": {},
   "outputs": [
    {
     "data": {
      "text/plain": [
       "32561"
      ]
     },
     "execution_count": 71,
     "metadata": {},
     "output_type": "execute_result"
    }
   ],
   "source": [
    "df2.count()"
   ]
  },
  {
   "cell_type": "code",
   "execution_count": 72,
   "metadata": {},
   "outputs": [],
   "source": [
    "df2 = df2.drop('Capital Gain', 'Capital Loss', 'UID', 'Hours Per Week', 'Education Grade')"
   ]
  },
  {
   "cell_type": "code",
   "execution_count": 73,
   "metadata": {},
   "outputs": [
    {
     "name": "stdout",
     "output_type": "stream",
     "text": [
      "+---+----------------+-------------------------+--------------+-----------------+--------------+-----+------+-------------+------+\n",
      "|Age|          Sector|Educational_Qualification|Marital_Status|       Occupation|  Relationship| Race|Gender|      Country|Income|\n",
      "+---+----------------+-------------------------+--------------+-----------------+--------------+-----+------+-------------+------+\n",
      "| 90|               ?|                  HS-grad|       Widowed|                ?| Not-in-family|White|Female|United-States| <=50K|\n",
      "| 82|         Private|                  HS-grad|       Widowed|  Exec-managerial| Not-in-family|White|Female|United-States| <=50K|\n",
      "| 66|               ?|             Some-college|       Widowed|                ?|     Unmarried|Black|Female|United-States| <=50K|\n",
      "| 54|         Private|                  7th-8th|      Divorced|Machine-op-inspct|     Unmarried|White|Female|United-States| <=50K|\n",
      "| 41|         Private|             Some-college|     Separated|   Prof-specialty|     Own-child|White|Female|United-States| <=50K|\n",
      "| 34|         Private|                  HS-grad|      Divorced|    Other-service|     Unmarried|White|Female|United-States| <=50K|\n",
      "| 38|         Private|                     10th|     Separated|     Adm-clerical|     Unmarried|White|  Male|United-States| <=50K|\n",
      "| 74|       State-gov|                Doctorate| Never-married|   Prof-specialty|Other-relative|White|Female|United-States|  >50K|\n",
      "| 68|     Federal-gov|                  HS-grad|      Divorced|   Prof-specialty| Not-in-family|White|Female|United-States| <=50K|\n",
      "| 41|         Private|             Some-college| Never-married|     Craft-repair|     Unmarried|White|  Male|            ?|  >50K|\n",
      "| 45|         Private|                Doctorate|      Divorced|   Prof-specialty|     Unmarried|Black|Female|United-States|  >50K|\n",
      "| 38|Self-emp-not-inc|              Prof-school| Never-married|   Prof-specialty| Not-in-family|White|  Male|United-States|  >50K|\n",
      "| 52|         Private|                Bachelors|       Widowed|    Other-service| Not-in-family|White|Female|United-States|  >50K|\n",
      "| 32|         Private|                  Masters|     Separated|  Exec-managerial| Not-in-family|White|  Male|United-States|  >50K|\n",
      "| 51|               ?|                Doctorate| Never-married|                ?| Not-in-family|White|  Male|United-States|  >50K|\n",
      "| 46|         Private|              Prof-school|      Divorced|   Prof-specialty| Not-in-family|White|  Male|United-States|  >50K|\n",
      "| 45|         Private|                     11th|      Divorced| Transport-moving| Not-in-family|White|  Male|United-States|  >50K|\n",
      "| 57|         Private|                  Masters|      Divorced|  Exec-managerial| Not-in-family|White|  Male|United-States|  >50K|\n",
      "| 22|         Private|               Assoc-acdm| Never-married|Handlers-cleaners| Not-in-family|Black|  Male|            ?|  >50K|\n",
      "| 34|         Private|                Bachelors|     Separated|            Sales| Not-in-family|White|  Male|United-States|  >50K|\n",
      "+---+----------------+-------------------------+--------------+-----------------+--------------+-----+------+-------------+------+\n",
      "only showing top 20 rows\n",
      "\n"
     ]
    }
   ],
   "source": [
    "df2.show()"
   ]
  },
  {
   "cell_type": "code",
   "execution_count": 74,
   "metadata": {},
   "outputs": [],
   "source": [
    "df3 = df2.replace(['<=50K', '>50K'], ['0', '1'], 'Income')"
   ]
  },
  {
   "cell_type": "code",
   "execution_count": 75,
   "metadata": {},
   "outputs": [
    {
     "name": "stdout",
     "output_type": "stream",
     "text": [
      "+---+----------------+-------------------------+--------------+-----------------+--------------+-----+------+-------------+------+\n",
      "|Age|          Sector|Educational_Qualification|Marital_Status|       Occupation|  Relationship| Race|Gender|      Country|Income|\n",
      "+---+----------------+-------------------------+--------------+-----------------+--------------+-----+------+-------------+------+\n",
      "| 90|               ?|                  HS-grad|       Widowed|                ?| Not-in-family|White|Female|United-States|     0|\n",
      "| 82|         Private|                  HS-grad|       Widowed|  Exec-managerial| Not-in-family|White|Female|United-States|     0|\n",
      "| 66|               ?|             Some-college|       Widowed|                ?|     Unmarried|Black|Female|United-States|     0|\n",
      "| 54|         Private|                  7th-8th|      Divorced|Machine-op-inspct|     Unmarried|White|Female|United-States|     0|\n",
      "| 41|         Private|             Some-college|     Separated|   Prof-specialty|     Own-child|White|Female|United-States|     0|\n",
      "| 34|         Private|                  HS-grad|      Divorced|    Other-service|     Unmarried|White|Female|United-States|     0|\n",
      "| 38|         Private|                     10th|     Separated|     Adm-clerical|     Unmarried|White|  Male|United-States|     0|\n",
      "| 74|       State-gov|                Doctorate| Never-married|   Prof-specialty|Other-relative|White|Female|United-States|     1|\n",
      "| 68|     Federal-gov|                  HS-grad|      Divorced|   Prof-specialty| Not-in-family|White|Female|United-States|     0|\n",
      "| 41|         Private|             Some-college| Never-married|     Craft-repair|     Unmarried|White|  Male|            ?|     1|\n",
      "| 45|         Private|                Doctorate|      Divorced|   Prof-specialty|     Unmarried|Black|Female|United-States|     1|\n",
      "| 38|Self-emp-not-inc|              Prof-school| Never-married|   Prof-specialty| Not-in-family|White|  Male|United-States|     1|\n",
      "| 52|         Private|                Bachelors|       Widowed|    Other-service| Not-in-family|White|Female|United-States|     1|\n",
      "| 32|         Private|                  Masters|     Separated|  Exec-managerial| Not-in-family|White|  Male|United-States|     1|\n",
      "| 51|               ?|                Doctorate| Never-married|                ?| Not-in-family|White|  Male|United-States|     1|\n",
      "| 46|         Private|              Prof-school|      Divorced|   Prof-specialty| Not-in-family|White|  Male|United-States|     1|\n",
      "| 45|         Private|                     11th|      Divorced| Transport-moving| Not-in-family|White|  Male|United-States|     1|\n",
      "| 57|         Private|                  Masters|      Divorced|  Exec-managerial| Not-in-family|White|  Male|United-States|     1|\n",
      "| 22|         Private|               Assoc-acdm| Never-married|Handlers-cleaners| Not-in-family|Black|  Male|            ?|     1|\n",
      "| 34|         Private|                Bachelors|     Separated|            Sales| Not-in-family|White|  Male|United-States|     1|\n",
      "+---+----------------+-------------------------+--------------+-----------------+--------------+-----+------+-------------+------+\n",
      "only showing top 20 rows\n",
      "\n"
     ]
    }
   ],
   "source": [
    "df3.show()"
   ]
  },
  {
   "cell_type": "code",
   "execution_count": 76,
   "metadata": {},
   "outputs": [],
   "source": [
    "df3 = df3.replace('?', 'Null')"
   ]
  },
  {
   "cell_type": "code",
   "execution_count": 77,
   "metadata": {},
   "outputs": [
    {
     "name": "stdout",
     "output_type": "stream",
     "text": [
      "+---+----------------+-------------------------+--------------+-----------------+--------------+-----+------+-------------+------+\n",
      "|Age|          Sector|Educational_Qualification|Marital_Status|       Occupation|  Relationship| Race|Gender|      Country|Income|\n",
      "+---+----------------+-------------------------+--------------+-----------------+--------------+-----+------+-------------+------+\n",
      "| 90|            Null|                  HS-grad|       Widowed|             Null| Not-in-family|White|Female|United-States|     0|\n",
      "| 82|         Private|                  HS-grad|       Widowed|  Exec-managerial| Not-in-family|White|Female|United-States|     0|\n",
      "| 66|            Null|             Some-college|       Widowed|             Null|     Unmarried|Black|Female|United-States|     0|\n",
      "| 54|         Private|                  7th-8th|      Divorced|Machine-op-inspct|     Unmarried|White|Female|United-States|     0|\n",
      "| 41|         Private|             Some-college|     Separated|   Prof-specialty|     Own-child|White|Female|United-States|     0|\n",
      "| 34|         Private|                  HS-grad|      Divorced|    Other-service|     Unmarried|White|Female|United-States|     0|\n",
      "| 38|         Private|                     10th|     Separated|     Adm-clerical|     Unmarried|White|  Male|United-States|     0|\n",
      "| 74|       State-gov|                Doctorate| Never-married|   Prof-specialty|Other-relative|White|Female|United-States|     1|\n",
      "| 68|     Federal-gov|                  HS-grad|      Divorced|   Prof-specialty| Not-in-family|White|Female|United-States|     0|\n",
      "| 41|         Private|             Some-college| Never-married|     Craft-repair|     Unmarried|White|  Male|         Null|     1|\n",
      "| 45|         Private|                Doctorate|      Divorced|   Prof-specialty|     Unmarried|Black|Female|United-States|     1|\n",
      "| 38|Self-emp-not-inc|              Prof-school| Never-married|   Prof-specialty| Not-in-family|White|  Male|United-States|     1|\n",
      "| 52|         Private|                Bachelors|       Widowed|    Other-service| Not-in-family|White|Female|United-States|     1|\n",
      "| 32|         Private|                  Masters|     Separated|  Exec-managerial| Not-in-family|White|  Male|United-States|     1|\n",
      "| 51|            Null|                Doctorate| Never-married|             Null| Not-in-family|White|  Male|United-States|     1|\n",
      "| 46|         Private|              Prof-school|      Divorced|   Prof-specialty| Not-in-family|White|  Male|United-States|     1|\n",
      "| 45|         Private|                     11th|      Divorced| Transport-moving| Not-in-family|White|  Male|United-States|     1|\n",
      "| 57|         Private|                  Masters|      Divorced|  Exec-managerial| Not-in-family|White|  Male|United-States|     1|\n",
      "| 22|         Private|               Assoc-acdm| Never-married|Handlers-cleaners| Not-in-family|Black|  Male|         Null|     1|\n",
      "| 34|         Private|                Bachelors|     Separated|            Sales| Not-in-family|White|  Male|United-States|     1|\n",
      "+---+----------------+-------------------------+--------------+-----------------+--------------+-----+------+-------------+------+\n",
      "only showing top 20 rows\n",
      "\n"
     ]
    }
   ],
   "source": [
    "df3.show()"
   ]
  },
  {
   "cell_type": "code",
   "execution_count": 78,
   "metadata": {},
   "outputs": [
    {
     "data": {
      "text/plain": [
       "DataFrame[Age: string, Sector: string, Educational_Qualification: string, Marital_Status: string, Occupation: string, Relationship: string, Race: string, Gender: string, Country: string, Income: string]"
      ]
     },
     "execution_count": 78,
     "metadata": {},
     "output_type": "execute_result"
    }
   ],
   "source": [
    "df3"
   ]
  },
  {
   "cell_type": "code",
   "execution_count": 79,
   "metadata": {},
   "outputs": [],
   "source": [
    "df4 = df3.withColumn(\"Age\", df3[\"Age\"].cast(IntegerType())) .withColumn(\"Sector\", df3[\"Sector\"].cast(StringType())) .withColumn(\"Educational_Qualification\", df3[\"Educational_Qualification\"].cast(StringType())) .withColumn(\"Marital_Status\", df3[\"Marital_Status\"].cast(StringType())) .withColumn(\"Occupation\", df3[\"Occupation\"].cast(StringType())) .withColumn(\"Relationship\", df3[\"Relationship\"].cast(StringType())) .withColumn(\"Gender\", df3[\"Gender\"].cast(StringType())) .withColumn(\"Country\", df3[\"Country\"].cast(StringType())) .withColumn(\"Income\", df3[\"Income\"].cast(IntegerType())) .withColumn(\"Race\", df3[\"Race\"].cast(StringType()))"
   ]
  },
  {
   "cell_type": "code",
   "execution_count": 80,
   "metadata": {},
   "outputs": [
    {
     "name": "stdout",
     "output_type": "stream",
     "text": [
      "+---+----------------+-------------------------+--------------+-----------------+--------------+-----+------+-------------+------+\n",
      "|Age|          Sector|Educational_Qualification|Marital_Status|       Occupation|  Relationship| Race|Gender|      Country|Income|\n",
      "+---+----------------+-------------------------+--------------+-----------------+--------------+-----+------+-------------+------+\n",
      "| 90|            Null|                  HS-grad|       Widowed|             Null| Not-in-family|White|Female|United-States|     0|\n",
      "| 82|         Private|                  HS-grad|       Widowed|  Exec-managerial| Not-in-family|White|Female|United-States|     0|\n",
      "| 66|            Null|             Some-college|       Widowed|             Null|     Unmarried|Black|Female|United-States|     0|\n",
      "| 54|         Private|                  7th-8th|      Divorced|Machine-op-inspct|     Unmarried|White|Female|United-States|     0|\n",
      "| 41|         Private|             Some-college|     Separated|   Prof-specialty|     Own-child|White|Female|United-States|     0|\n",
      "| 34|         Private|                  HS-grad|      Divorced|    Other-service|     Unmarried|White|Female|United-States|     0|\n",
      "| 38|         Private|                     10th|     Separated|     Adm-clerical|     Unmarried|White|  Male|United-States|     0|\n",
      "| 74|       State-gov|                Doctorate| Never-married|   Prof-specialty|Other-relative|White|Female|United-States|     1|\n",
      "| 68|     Federal-gov|                  HS-grad|      Divorced|   Prof-specialty| Not-in-family|White|Female|United-States|     0|\n",
      "| 41|         Private|             Some-college| Never-married|     Craft-repair|     Unmarried|White|  Male|         Null|     1|\n",
      "| 45|         Private|                Doctorate|      Divorced|   Prof-specialty|     Unmarried|Black|Female|United-States|     1|\n",
      "| 38|Self-emp-not-inc|              Prof-school| Never-married|   Prof-specialty| Not-in-family|White|  Male|United-States|     1|\n",
      "| 52|         Private|                Bachelors|       Widowed|    Other-service| Not-in-family|White|Female|United-States|     1|\n",
      "| 32|         Private|                  Masters|     Separated|  Exec-managerial| Not-in-family|White|  Male|United-States|     1|\n",
      "| 51|            Null|                Doctorate| Never-married|             Null| Not-in-family|White|  Male|United-States|     1|\n",
      "| 46|         Private|              Prof-school|      Divorced|   Prof-specialty| Not-in-family|White|  Male|United-States|     1|\n",
      "| 45|         Private|                     11th|      Divorced| Transport-moving| Not-in-family|White|  Male|United-States|     1|\n",
      "| 57|         Private|                  Masters|      Divorced|  Exec-managerial| Not-in-family|White|  Male|United-States|     1|\n",
      "| 22|         Private|               Assoc-acdm| Never-married|Handlers-cleaners| Not-in-family|Black|  Male|         Null|     1|\n",
      "| 34|         Private|                Bachelors|     Separated|            Sales| Not-in-family|White|  Male|United-States|     1|\n",
      "+---+----------------+-------------------------+--------------+-----------------+--------------+-----+------+-------------+------+\n",
      "only showing top 20 rows\n",
      "\n"
     ]
    }
   ],
   "source": [
    "df4.show()"
   ]
  },
  {
   "cell_type": "code",
   "execution_count": 81,
   "metadata": {},
   "outputs": [
    {
     "name": "stdout",
     "output_type": "stream",
     "text": [
      "root\n",
      " |-- Age: integer (nullable = true)\n",
      " |-- Sector: string (nullable = true)\n",
      " |-- Educational_Qualification: string (nullable = true)\n",
      " |-- Marital_Status: string (nullable = true)\n",
      " |-- Occupation: string (nullable = true)\n",
      " |-- Relationship: string (nullable = true)\n",
      " |-- Race: string (nullable = true)\n",
      " |-- Gender: string (nullable = true)\n",
      " |-- Country: string (nullable = true)\n",
      " |-- Income: integer (nullable = true)\n",
      "\n"
     ]
    }
   ],
   "source": [
    "df4.printSchema()"
   ]
  },
  {
   "cell_type": "code",
   "execution_count": 82,
   "metadata": {},
   "outputs": [
    {
     "data": {
      "text/plain": [
       "32561"
      ]
     },
     "execution_count": 82,
     "metadata": {},
     "output_type": "execute_result"
    }
   ],
   "source": [
    "df4.select('Age', 'Sector', 'Educational_Qualification', 'Marital_Status', 'Occupation', 'Relationship', 'Gender', 'Country', 'Income').count()"
   ]
  },
  {
   "cell_type": "code",
   "execution_count": 85,
   "metadata": {},
   "outputs": [],
   "source": [
    "df5 = df4.filter((df4.Sector != 'Null') & (df4.Occupation != 'Null') & (df4.Relationship != 'Null') & (df4.Gender != 'Null') & (df4.Country != 'Null') & (df4.Educational_Qualification != 'Null') & (df4.Marital_Status != 'Null'))"
   ]
  },
  {
   "cell_type": "code",
   "execution_count": 86,
   "metadata": {},
   "outputs": [
    {
     "name": "stdout",
     "output_type": "stream",
     "text": [
      "+---+----------------+-------------------------+------------------+-----------------+--------------+-----+------+-------------+------+\n",
      "|Age|          Sector|Educational_Qualification|    Marital_Status|       Occupation|  Relationship| Race|Gender|      Country|Income|\n",
      "+---+----------------+-------------------------+------------------+-----------------+--------------+-----+------+-------------+------+\n",
      "| 82|         Private|                  HS-grad|           Widowed|  Exec-managerial| Not-in-family|White|Female|United-States|     0|\n",
      "| 54|         Private|                  7th-8th|          Divorced|Machine-op-inspct|     Unmarried|White|Female|United-States|     0|\n",
      "| 41|         Private|             Some-college|         Separated|   Prof-specialty|     Own-child|White|Female|United-States|     0|\n",
      "| 34|         Private|                  HS-grad|          Divorced|    Other-service|     Unmarried|White|Female|United-States|     0|\n",
      "| 38|         Private|                     10th|         Separated|     Adm-clerical|     Unmarried|White|  Male|United-States|     0|\n",
      "| 74|       State-gov|                Doctorate|     Never-married|   Prof-specialty|Other-relative|White|Female|United-States|     1|\n",
      "| 68|     Federal-gov|                  HS-grad|          Divorced|   Prof-specialty| Not-in-family|White|Female|United-States|     0|\n",
      "| 45|         Private|                Doctorate|          Divorced|   Prof-specialty|     Unmarried|Black|Female|United-States|     1|\n",
      "| 38|Self-emp-not-inc|              Prof-school|     Never-married|   Prof-specialty| Not-in-family|White|  Male|United-States|     1|\n",
      "| 52|         Private|                Bachelors|           Widowed|    Other-service| Not-in-family|White|Female|United-States|     1|\n",
      "| 32|         Private|                  Masters|         Separated|  Exec-managerial| Not-in-family|White|  Male|United-States|     1|\n",
      "| 46|         Private|              Prof-school|          Divorced|   Prof-specialty| Not-in-family|White|  Male|United-States|     1|\n",
      "| 45|         Private|                     11th|          Divorced| Transport-moving| Not-in-family|White|  Male|United-States|     1|\n",
      "| 57|         Private|                  Masters|          Divorced|  Exec-managerial| Not-in-family|White|  Male|United-States|     1|\n",
      "| 34|         Private|                Bachelors|         Separated|            Sales| Not-in-family|White|  Male|United-States|     1|\n",
      "| 37|         Private|                Bachelors|     Never-married|  Exec-managerial| Not-in-family|White|  Male|United-States|     1|\n",
      "| 29|         Private|                     11th|         Separated|            Sales| Not-in-family|White|Female|United-States|     0|\n",
      "| 61|         Private|                  HS-grad|          Divorced|            Sales|     Unmarried|White|Female|United-States|     0|\n",
      "| 51|         Private|             Some-college|Married-civ-spouse| Transport-moving|       Husband|White|  Male|United-States|     0|\n",
      "| 21|         Private|                Assoc-voc|Married-civ-spouse|     Craft-repair|       Husband|White|  Male|United-States|     0|\n",
      "+---+----------------+-------------------------+------------------+-----------------+--------------+-----+------+-------------+------+\n",
      "only showing top 20 rows\n",
      "\n"
     ]
    }
   ],
   "source": [
    "df5.show()"
   ]
  },
  {
   "cell_type": "code",
   "execution_count": 88,
   "metadata": {},
   "outputs": [
    {
     "data": {
      "text/plain": [
       "30162"
      ]
     },
     "execution_count": 88,
     "metadata": {},
     "output_type": "execute_result"
    }
   ],
   "source": [
    "df5.select('Age', 'Sector', 'Educational_Qualification', 'Marital_Status', 'Occupation', 'Relationship', 'Gender', 'Country', 'Income').count()"
   ]
  },
  {
   "cell_type": "code",
   "execution_count": 91,
   "metadata": {},
   "outputs": [
    {
     "name": "stdout",
     "output_type": "stream",
     "text": [
      "+---+-----+\n",
      "|Age|count|\n",
      "+---+-----+\n",
      "| 36|  852|\n",
      "| 31|  851|\n",
      "| 33|  837|\n",
      "| 34|  836|\n",
      "| 37|  828|\n",
      "+---+-----+\n",
      "only showing top 5 rows\n",
      "\n"
     ]
    }
   ],
   "source": [
    "df5.groupBy('Age').count().sort(desc(\"count\")).show(5)"
   ]
  },
  {
   "cell_type": "code",
   "execution_count": 92,
   "metadata": {},
   "outputs": [
    {
     "name": "stdout",
     "output_type": "stream",
     "text": [
      "+----------------+-----+\n",
      "|          Sector|count|\n",
      "+----------------+-----+\n",
      "|         Private|22286|\n",
      "|Self-emp-not-inc| 2499|\n",
      "|       Local-gov| 2067|\n",
      "|       State-gov| 1279|\n",
      "|    Self-emp-inc| 1074|\n",
      "+----------------+-----+\n",
      "only showing top 5 rows\n",
      "\n"
     ]
    }
   ],
   "source": [
    "df5.groupBy('Sector').count().sort(desc(\"count\")).show(5)"
   ]
  },
  {
   "cell_type": "code",
   "execution_count": 93,
   "metadata": {},
   "outputs": [
    {
     "name": "stdout",
     "output_type": "stream",
     "text": [
      "+-------------------------+-----+\n",
      "|Educational_Qualification|count|\n",
      "+-------------------------+-----+\n",
      "|                  HS-grad| 9840|\n",
      "|             Some-college| 6678|\n",
      "|                Bachelors| 5044|\n",
      "|                  Masters| 1627|\n",
      "|                Assoc-voc| 1307|\n",
      "+-------------------------+-----+\n",
      "only showing top 5 rows\n",
      "\n"
     ]
    }
   ],
   "source": [
    "df5.groupBy('Educational_Qualification').count().sort(desc(\"count\")).show(5)"
   ]
  },
  {
   "cell_type": "code",
   "execution_count": 94,
   "metadata": {},
   "outputs": [
    {
     "name": "stdout",
     "output_type": "stream",
     "text": [
      "+------------------+-----+\n",
      "|    Marital_Status|count|\n",
      "+------------------+-----+\n",
      "|Married-civ-spouse|14065|\n",
      "|     Never-married| 9726|\n",
      "|          Divorced| 4214|\n",
      "|         Separated|  939|\n",
      "|           Widowed|  827|\n",
      "+------------------+-----+\n",
      "only showing top 5 rows\n",
      "\n"
     ]
    }
   ],
   "source": [
    "df5.groupBy('Marital_Status').count().sort(desc(\"count\")).show(5)"
   ]
  },
  {
   "cell_type": "code",
   "execution_count": 95,
   "metadata": {},
   "outputs": [
    {
     "name": "stdout",
     "output_type": "stream",
     "text": [
      "+---+-------+-------------------------+------------------+------------+------+-------------+------+-----+-----+\n",
      "|Age| Sector|Educational_Qualification|    Marital_Status|Relationship|Gender|      Country|Income| Race|count|\n",
      "+---+-------+-------------------------+------------------+------------+------+-------------+------+-----+-----+\n",
      "| 20|Private|             Some-college|     Never-married|   Own-child|Female|United-States|     0|White|   98|\n",
      "| 19|Private|             Some-college|     Never-married|   Own-child|Female|United-States|     0|White|   95|\n",
      "| 20|Private|             Some-college|     Never-married|   Own-child|  Male|United-States|     0|White|   85|\n",
      "| 21|Private|             Some-college|     Never-married|   Own-child|Female|United-States|     0|White|   77|\n",
      "| 19|Private|                  HS-grad|     Never-married|   Own-child|  Male|United-States|     0|White|   74|\n",
      "| 21|Private|             Some-college|     Never-married|   Own-child|  Male|United-States|     0|White|   72|\n",
      "| 35|Private|                  HS-grad|Married-civ-spouse|     Husband|  Male|United-States|     0|White|   70|\n",
      "| 33|Private|                  HS-grad|Married-civ-spouse|     Husband|  Male|United-States|     0|White|   64|\n",
      "| 19|Private|             Some-college|     Never-married|   Own-child|  Male|United-States|     0|White|   64|\n",
      "| 36|Private|                  HS-grad|Married-civ-spouse|     Husband|  Male|United-States|     0|White|   63|\n",
      "+---+-------+-------------------------+------------------+------------+------+-------------+------+-----+-----+\n",
      "only showing top 10 rows\n",
      "\n"
     ]
    }
   ],
   "source": [
    "df5.groupBy('Age', 'Sector', 'Educational_Qualification', 'Marital_Status', 'Relationship', 'Gender', 'Country', 'Income', 'Race').count().sort(desc(\"count\")).show(10)"
   ]
  },
  {
   "cell_type": "code",
   "execution_count": 97,
   "metadata": {},
   "outputs": [],
   "source": [
    "df5.write.csv('/Users/manoj/desktop/Course Work -- BD & DV.csv',header=True)"
   ]
  },
  {
   "cell_type": "code",
   "execution_count": null,
   "metadata": {},
   "outputs": [],
   "source": []
  }
 ],
 "metadata": {
  "kernelspec": {
   "display_name": "Python 3",
   "language": "python",
   "name": "python3"
  },
  "language_info": {
   "codemirror_mode": {
    "name": "ipython",
    "version": 3
   },
   "file_extension": ".py",
   "mimetype": "text/x-python",
   "name": "python",
   "nbconvert_exporter": "python",
   "pygments_lexer": "ipython3",
   "version": "3.8.3"
  }
 },
 "nbformat": 4,
 "nbformat_minor": 4
}
