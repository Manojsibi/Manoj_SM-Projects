{
 "cells": [
  {
   "cell_type": "code",
   "execution_count": 43,
   "metadata": {},
   "outputs": [],
   "source": [
    "from pyspark.sql import SparkSession\n",
    "from pyspark.ml.regression import LinearRegression\n",
    "from pyspark.ml.feature import VectorAssembler\n",
    "from pyspark.sql.functions import corr\n",
    "spark = SparkSession.builder.appName('lrex').getOrCreate()"
   ]
  },
  {
   "cell_type": "code",
   "execution_count": 44,
   "metadata": {},
   "outputs": [],
   "source": [
    "dtFrame = spark.read.csv(path='/Users/manoj/desktop/cleaneddata.csv', header = True, inferSchema = True)"
   ]
  },
  {
   "cell_type": "code",
   "execution_count": 45,
   "metadata": {},
   "outputs": [
    {
     "name": "stdout",
     "output_type": "stream",
     "text": [
      "(30162, 10)\n"
     ]
    }
   ],
   "source": [
    "print((dtFrame.count(), len(dtFrame.columns)))"
   ]
  },
  {
   "cell_type": "code",
   "execution_count": 46,
   "metadata": {},
   "outputs": [
    {
     "name": "stdout",
     "output_type": "stream",
     "text": [
      "root\n",
      " |-- Age: integer (nullable = true)\n",
      " |-- Sector: string (nullable = true)\n",
      " |-- Educational_Qualification: string (nullable = true)\n",
      " |-- Marital_Status: string (nullable = true)\n",
      " |-- Occupation: string (nullable = true)\n",
      " |-- Relationship: string (nullable = true)\n",
      " |-- Race: string (nullable = true)\n",
      " |-- Gender: string (nullable = true)\n",
      " |-- Country: string (nullable = true)\n",
      " |-- Income: integer (nullable = true)\n",
      "\n"
     ]
    }
   ],
   "source": [
    "dtFrame.printSchema()"
   ]
  },
  {
   "cell_type": "code",
   "execution_count": 47,
   "metadata": {},
   "outputs": [
    {
     "name": "stdout",
     "output_type": "stream",
     "text": [
      "+-------+------------------+-----------+-------------------------+--------------+----------------+------------+------------------+------+----------+-------------------+\n",
      "|summary|               Age|     Sector|Educational_Qualification|Marital_Status|      Occupation|Relationship|              Race|Gender|   Country|             Income|\n",
      "+-------+------------------+-----------+-------------------------+--------------+----------------+------------+------------------+------+----------+-------------------+\n",
      "|  count|             30162|      30162|                    30162|         30162|           30162|       30162|             30162| 30162|     30162|              30162|\n",
      "|   mean|38.437901995888865|       null|                     null|          null|            null|        null|              null|  null|      null|0.24892248524633645|\n",
      "| stddev|13.134664776856031|       null|                     null|          null|            null|        null|              null|  null|      null| 0.4323959763009978|\n",
      "|    min|                17|Federal-gov|                     10th|      Divorced|    Adm-clerical|     Husband|Amer-Indian-Eskimo|Female|  Cambodia|                  0|\n",
      "|    max|                90|Without-pay|             Some-college|       Widowed|Transport-moving|        Wife|             White|  Male|Yugoslavia|                  1|\n",
      "+-------+------------------+-----------+-------------------------+--------------+----------------+------------+------------------+------+----------+-------------------+\n",
      "\n"
     ]
    }
   ],
   "source": [
    "dtFrame1 = dtFrame.describe().show(5)"
   ]
  },
  {
   "cell_type": "code",
   "execution_count": 48,
   "metadata": {},
   "outputs": [
    {
     "name": "stdout",
     "output_type": "stream",
     "text": [
      "+-------------------+\n",
      "|  corr(Age, Income)|\n",
      "+-------------------+\n",
      "|0.24199813626611658|\n",
      "+-------------------+\n",
      "\n"
     ]
    }
   ],
   "source": [
    "dtFrame.select(corr('Age','Income')).show()"
   ]
  },
  {
   "cell_type": "code",
   "execution_count": 49,
   "metadata": {},
   "outputs": [],
   "source": [
    "assembler = VectorAssembler(inputCols=['Income'], outputCol='features')\n",
    "dtFrame2 = assembler.transform(dtFrame)"
   ]
  },
  {
   "cell_type": "code",
   "execution_count": 50,
   "metadata": {},
   "outputs": [],
   "source": [
    "dtFrame2 = dtFrame2.select(['features','Age'])"
   ]
  },
  {
   "cell_type": "code",
   "execution_count": 86,
   "metadata": {},
   "outputs": [],
   "source": [
    "train,test = dtFrame2.randomSplit([0.7, 0.3])"
   ]
  },
  {
   "cell_type": "code",
   "execution_count": 87,
   "metadata": {},
   "outputs": [
    {
     "name": "stdout",
     "output_type": "stream",
     "text": [
      "+--------+---+\n",
      "|features|Age|\n",
      "+--------+---+\n",
      "|   [0.0]| 17|\n",
      "|   [0.0]| 17|\n",
      "|   [0.0]| 17|\n",
      "|   [0.0]| 17|\n",
      "|   [0.0]| 17|\n",
      "+--------+---+\n",
      "only showing top 5 rows\n",
      "\n"
     ]
    }
   ],
   "source": [
    "train.show(5)"
   ]
  },
  {
   "cell_type": "code",
   "execution_count": 88,
   "metadata": {},
   "outputs": [
    {
     "name": "stdout",
     "output_type": "stream",
     "text": [
      "+--------+---+\n",
      "|features|Age|\n",
      "+--------+---+\n",
      "|   [0.0]| 17|\n",
      "|   [0.0]| 17|\n",
      "|   [0.0]| 17|\n",
      "|   [0.0]| 17|\n",
      "|   [0.0]| 17|\n",
      "+--------+---+\n",
      "only showing top 5 rows\n",
      "\n"
     ]
    }
   ],
   "source": [
    "test.show(5)"
   ]
  },
  {
   "cell_type": "code",
   "execution_count": 89,
   "metadata": {},
   "outputs": [],
   "source": [
    "lr = LinearRegression(featuresCol = 'features', labelCol='Age')\n",
    "lrModel = lr.fit(train)"
   ]
  },
  {
   "cell_type": "code",
   "execution_count": 90,
   "metadata": {},
   "outputs": [
    {
     "name": "stdout",
     "output_type": "stream",
     "text": [
      "Intercept: 36.690519456106266\n",
      "Coefficient: [7.23600961]\n"
     ]
    }
   ],
   "source": [
    "print(f'Intercept: {lrModel.intercept}\\nCoefficient: {lrModel.coefficients.values}')"
   ]
  },
  {
   "cell_type": "code",
   "execution_count": 91,
   "metadata": {},
   "outputs": [
    {
     "name": "stdout",
     "output_type": "stream",
     "text": [
      "RMSE: 12.770703\n",
      "\n",
      "r2: 0.056583\n"
     ]
    }
   ],
   "source": [
    "trainSummary = lrModel.summary\n",
    "print(\"RMSE: %f\" % trainSummary.rootMeanSquaredError)\n",
    "print(\"\\nr2: %f\" % trainSummary.r2)"
   ]
  },
  {
   "cell_type": "code",
   "execution_count": 92,
   "metadata": {},
   "outputs": [
    {
     "name": "stdout",
     "output_type": "stream",
     "text": [
      "+------------------+---+------------------+--------+\n",
      "|        prediction|Age|          Accuracy|features|\n",
      "+------------------+---+------------------+--------+\n",
      "|36.690519456106266| 17|115.82658503591921|   [0.0]|\n",
      "|36.690519456106266| 17|115.82658503591921|   [0.0]|\n",
      "|36.690519456106266| 17|115.82658503591921|   [0.0]|\n",
      "|36.690519456106266| 17|115.82658503591921|   [0.0]|\n",
      "|36.690519456106266| 17|115.82658503591921|   [0.0]|\n",
      "+------------------+---+------------------+--------+\n",
      "only showing top 5 rows\n",
      "\n"
     ]
    }
   ],
   "source": [
    "from  pyspark.sql.functions import abs\n",
    "predictions = lrModel.transform(test)\n",
    "x =((predictions['Age']-predictions['prediction'])/predictions['Age'])*100\n",
    "predictions = predictions.withColumn('Accuracy',abs(x))\n",
    "predictions.select(\"prediction\",\"Age\",\"Accuracy\",\"features\").show(5)"
   ]
  },
  {
   "cell_type": "code",
   "execution_count": 93,
   "metadata": {},
   "outputs": [
    {
     "name": "stdout",
     "output_type": "stream",
     "text": [
      "R Squared (R2) on test data = 0.0630872\n"
     ]
    }
   ],
   "source": [
    "from pyspark.ml.evaluation import RegressionEvaluator\n",
    "pred_evaluator = RegressionEvaluator(predictionCol=\"prediction\", labelCol=\"Age\",metricName=\"r2\")\n",
    "print(\"R Squared (R2) on test data = %g\" % pred_evaluator.evaluate(predictions))"
   ]
  },
  {
   "cell_type": "code",
   "execution_count": 94,
   "metadata": {},
   "outputs": [],
   "source": [
    "r2 = trainSummary.r2\n",
    "n = dtFrame.count()\n",
    "p = len(dtFrame.columns)\n",
    "adjusted_r2 = 1-(1-r2)*(n-1)/(n-p-1)"
   ]
  },
  {
   "cell_type": "code",
   "execution_count": 95,
   "metadata": {},
   "outputs": [],
   "source": [
    "lin_reg = LinearRegression(featuresCol = 'features', labelCol='Age',maxIter=50, regParam=0.12, elasticNetParam=0.2)\n",
    "linear_model = lin_reg.fit(train)"
   ]
  },
  {
   "cell_type": "code",
   "execution_count": 96,
   "metadata": {},
   "outputs": [
    {
     "data": {
      "text/plain": [
       "12.77078802265797"
      ]
     },
     "execution_count": 96,
     "metadata": {},
     "output_type": "execute_result"
    }
   ],
   "source": [
    "linear_model.summary.rootMeanSquaredError"
   ]
  }
 ],
 "metadata": {
  "kernelspec": {
   "display_name": "Python 3",
   "language": "python",
   "name": "python3"
  },
  "language_info": {
   "codemirror_mode": {
    "name": "ipython",
    "version": 3
   },
   "file_extension": ".py",
   "mimetype": "text/x-python",
   "name": "python",
   "nbconvert_exporter": "python",
   "pygments_lexer": "ipython3",
   "version": "3.8.3"
  }
 },
 "nbformat": 4,
 "nbformat_minor": 4
}
