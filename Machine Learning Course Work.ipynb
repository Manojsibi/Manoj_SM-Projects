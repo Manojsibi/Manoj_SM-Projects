{
 "cells": [
  {
   "cell_type": "code",
   "execution_count": 1,
   "metadata": {},
   "outputs": [],
   "source": [
    "#dataset cleaning"
   ]
  },
  {
   "cell_type": "code",
   "execution_count": 2,
   "metadata": {},
   "outputs": [],
   "source": [
    "import numpy as np\n",
    "import pandas as pd\n",
    "import matplotlib.pyplot as plt\n",
    "from sklearn import datasets\n",
    "from sklearn.neighbors import KNeighborsClassifier\n",
    "from sklearn import preprocessing\n",
    "from sklearn.model_selection import train_test_split\n",
    "from sklearn.discriminant_analysis import LinearDiscriminantAnalysis\n",
    "from sklearn.naive_bayes import GaussianNB\n",
    "from sklearn.tree import DecisionTreeClassifier\n",
    "from sklearn.svm import SVC\n",
    "from matplotlib import style\n",
    "from sklearn.model_selection import cross_val_score\n",
    "from sklearn.metrics import accuracy_score"
   ]
  },
  {
   "cell_type": "code",
   "execution_count": 3,
   "metadata": {},
   "outputs": [],
   "source": [
    "ML = pd.read_csv('/Users/manoj/desktop/WeatherData10years.csv')"
   ]
  },
  {
   "cell_type": "code",
   "execution_count": 4,
   "metadata": {},
   "outputs": [
    {
     "data": {
      "text/html": [
       "<div>\n",
       "<style scoped>\n",
       "    .dataframe tbody tr th:only-of-type {\n",
       "        vertical-align: middle;\n",
       "    }\n",
       "\n",
       "    .dataframe tbody tr th {\n",
       "        vertical-align: top;\n",
       "    }\n",
       "\n",
       "    .dataframe thead th {\n",
       "        text-align: right;\n",
       "    }\n",
       "</style>\n",
       "<table border=\"1\" class=\"dataframe\">\n",
       "  <thead>\n",
       "    <tr style=\"text-align: right;\">\n",
       "      <th></th>\n",
       "      <th>Formatted Date</th>\n",
       "      <th>Summary</th>\n",
       "      <th>Precip Type</th>\n",
       "      <th>Temperature (C)</th>\n",
       "      <th>Apparent Temperature (C)</th>\n",
       "      <th>Humidity</th>\n",
       "      <th>Wind Speed (km/h)</th>\n",
       "      <th>Wind Bearing (degrees)</th>\n",
       "      <th>Visibility (km)</th>\n",
       "      <th>Loud Cover</th>\n",
       "      <th>Pressure (millibars)</th>\n",
       "      <th>Daily Summary</th>\n",
       "    </tr>\n",
       "  </thead>\n",
       "  <tbody>\n",
       "    <tr>\n",
       "      <th>0</th>\n",
       "      <td>2006-04-01 00:00:00.000 +0200</td>\n",
       "      <td>Partly Cloudy</td>\n",
       "      <td>rain</td>\n",
       "      <td>9.472222</td>\n",
       "      <td>7.388889</td>\n",
       "      <td>0.89</td>\n",
       "      <td>14.1197</td>\n",
       "      <td>251.0</td>\n",
       "      <td>15.8263</td>\n",
       "      <td>0.0</td>\n",
       "      <td>1015.13</td>\n",
       "      <td>Partly cloudy throughout the day.</td>\n",
       "    </tr>\n",
       "    <tr>\n",
       "      <th>1</th>\n",
       "      <td>2006-04-01 01:00:00.000 +0200</td>\n",
       "      <td>Partly Cloudy</td>\n",
       "      <td>rain</td>\n",
       "      <td>9.355556</td>\n",
       "      <td>7.227778</td>\n",
       "      <td>0.86</td>\n",
       "      <td>14.2646</td>\n",
       "      <td>259.0</td>\n",
       "      <td>15.8263</td>\n",
       "      <td>0.0</td>\n",
       "      <td>1015.63</td>\n",
       "      <td>Partly cloudy throughout the day.</td>\n",
       "    </tr>\n",
       "    <tr>\n",
       "      <th>2</th>\n",
       "      <td>2006-04-01 02:00:00.000 +0200</td>\n",
       "      <td>Mostly Cloudy</td>\n",
       "      <td>rain</td>\n",
       "      <td>9.377778</td>\n",
       "      <td>9.377778</td>\n",
       "      <td>0.89</td>\n",
       "      <td>3.9284</td>\n",
       "      <td>204.0</td>\n",
       "      <td>14.9569</td>\n",
       "      <td>0.0</td>\n",
       "      <td>1015.94</td>\n",
       "      <td>Partly cloudy throughout the day.</td>\n",
       "    </tr>\n",
       "  </tbody>\n",
       "</table>\n",
       "</div>"
      ],
      "text/plain": [
       "                  Formatted Date        Summary Precip Type  Temperature (C)  \\\n",
       "0  2006-04-01 00:00:00.000 +0200  Partly Cloudy        rain         9.472222   \n",
       "1  2006-04-01 01:00:00.000 +0200  Partly Cloudy        rain         9.355556   \n",
       "2  2006-04-01 02:00:00.000 +0200  Mostly Cloudy        rain         9.377778   \n",
       "\n",
       "   Apparent Temperature (C)  Humidity  Wind Speed (km/h)  \\\n",
       "0                  7.388889      0.89            14.1197   \n",
       "1                  7.227778      0.86            14.2646   \n",
       "2                  9.377778      0.89             3.9284   \n",
       "\n",
       "   Wind Bearing (degrees)  Visibility (km)  Loud Cover  Pressure (millibars)  \\\n",
       "0                   251.0          15.8263         0.0               1015.13   \n",
       "1                   259.0          15.8263         0.0               1015.63   \n",
       "2                   204.0          14.9569         0.0               1015.94   \n",
       "\n",
       "                       Daily Summary  \n",
       "0  Partly cloudy throughout the day.  \n",
       "1  Partly cloudy throughout the day.  \n",
       "2  Partly cloudy throughout the day.  "
      ]
     },
     "execution_count": 4,
     "metadata": {},
     "output_type": "execute_result"
    }
   ],
   "source": [
    "ML.head(3)"
   ]
  },
  {
   "cell_type": "code",
   "execution_count": 5,
   "metadata": {},
   "outputs": [],
   "source": [
    "ML = ML.rename(columns={\"Formatted Date\": \"Formatted_Date\", \"Summary\": \"Forecast\", \"Precip Type\": \"Precipitation_Type\", \"Apparent Temperature (C)\": \"Apparent_Temperature(C)\", \"Temperature (C)\": \"Temperature(C)\", \"Wind Speed (km/h)\": \"Wind_Speed(km/h)\", \"Wind Bearing (degrees)\": \"Wind_Bearing(degrees)\", \"Visibility (km)\": \"Visibility(km)\", \"Pressure (millibars)\":  \"Pressure(millibars)\", \"Daily Summary\": \"Daily_Summary\"})"
   ]
  },
  {
   "cell_type": "code",
   "execution_count": 6,
   "metadata": {},
   "outputs": [
    {
     "data": {
      "text/html": [
       "<div>\n",
       "<style scoped>\n",
       "    .dataframe tbody tr th:only-of-type {\n",
       "        vertical-align: middle;\n",
       "    }\n",
       "\n",
       "    .dataframe tbody tr th {\n",
       "        vertical-align: top;\n",
       "    }\n",
       "\n",
       "    .dataframe thead th {\n",
       "        text-align: right;\n",
       "    }\n",
       "</style>\n",
       "<table border=\"1\" class=\"dataframe\">\n",
       "  <thead>\n",
       "    <tr style=\"text-align: right;\">\n",
       "      <th></th>\n",
       "      <th>Formatted_Date</th>\n",
       "      <th>Forecast</th>\n",
       "      <th>Precipitation_Type</th>\n",
       "      <th>Temperature(C)</th>\n",
       "      <th>Apparent_Temperature(C)</th>\n",
       "      <th>Humidity</th>\n",
       "      <th>Wind_Speed(km/h)</th>\n",
       "      <th>Wind_Bearing(degrees)</th>\n",
       "      <th>Visibility(km)</th>\n",
       "      <th>Loud Cover</th>\n",
       "      <th>Pressure(millibars)</th>\n",
       "      <th>Daily_Summary</th>\n",
       "    </tr>\n",
       "  </thead>\n",
       "  <tbody>\n",
       "    <tr>\n",
       "      <th>0</th>\n",
       "      <td>2006-04-01 00:00:00.000 +0200</td>\n",
       "      <td>Partly Cloudy</td>\n",
       "      <td>rain</td>\n",
       "      <td>9.472222</td>\n",
       "      <td>7.388889</td>\n",
       "      <td>0.89</td>\n",
       "      <td>14.1197</td>\n",
       "      <td>251.0</td>\n",
       "      <td>15.8263</td>\n",
       "      <td>0.0</td>\n",
       "      <td>1015.13</td>\n",
       "      <td>Partly cloudy throughout the day.</td>\n",
       "    </tr>\n",
       "    <tr>\n",
       "      <th>1</th>\n",
       "      <td>2006-04-01 01:00:00.000 +0200</td>\n",
       "      <td>Partly Cloudy</td>\n",
       "      <td>rain</td>\n",
       "      <td>9.355556</td>\n",
       "      <td>7.227778</td>\n",
       "      <td>0.86</td>\n",
       "      <td>14.2646</td>\n",
       "      <td>259.0</td>\n",
       "      <td>15.8263</td>\n",
       "      <td>0.0</td>\n",
       "      <td>1015.63</td>\n",
       "      <td>Partly cloudy throughout the day.</td>\n",
       "    </tr>\n",
       "    <tr>\n",
       "      <th>2</th>\n",
       "      <td>2006-04-01 02:00:00.000 +0200</td>\n",
       "      <td>Mostly Cloudy</td>\n",
       "      <td>rain</td>\n",
       "      <td>9.377778</td>\n",
       "      <td>9.377778</td>\n",
       "      <td>0.89</td>\n",
       "      <td>3.9284</td>\n",
       "      <td>204.0</td>\n",
       "      <td>14.9569</td>\n",
       "      <td>0.0</td>\n",
       "      <td>1015.94</td>\n",
       "      <td>Partly cloudy throughout the day.</td>\n",
       "    </tr>\n",
       "  </tbody>\n",
       "</table>\n",
       "</div>"
      ],
      "text/plain": [
       "                  Formatted_Date       Forecast Precipitation_Type  \\\n",
       "0  2006-04-01 00:00:00.000 +0200  Partly Cloudy               rain   \n",
       "1  2006-04-01 01:00:00.000 +0200  Partly Cloudy               rain   \n",
       "2  2006-04-01 02:00:00.000 +0200  Mostly Cloudy               rain   \n",
       "\n",
       "   Temperature(C)  Apparent_Temperature(C)  Humidity  Wind_Speed(km/h)  \\\n",
       "0        9.472222                 7.388889      0.89           14.1197   \n",
       "1        9.355556                 7.227778      0.86           14.2646   \n",
       "2        9.377778                 9.377778      0.89            3.9284   \n",
       "\n",
       "   Wind_Bearing(degrees)  Visibility(km)  Loud Cover  Pressure(millibars)  \\\n",
       "0                  251.0         15.8263         0.0              1015.13   \n",
       "1                  259.0         15.8263         0.0              1015.63   \n",
       "2                  204.0         14.9569         0.0              1015.94   \n",
       "\n",
       "                       Daily_Summary  \n",
       "0  Partly cloudy throughout the day.  \n",
       "1  Partly cloudy throughout the day.  \n",
       "2  Partly cloudy throughout the day.  "
      ]
     },
     "execution_count": 6,
     "metadata": {},
     "output_type": "execute_result"
    }
   ],
   "source": [
    "ML.head(3)"
   ]
  },
  {
   "cell_type": "code",
   "execution_count": 7,
   "metadata": {},
   "outputs": [
    {
     "name": "stdout",
     "output_type": "stream",
     "text": [
      "<class 'pandas.core.frame.DataFrame'>\n",
      "RangeIndex: 96453 entries, 0 to 96452\n",
      "Data columns (total 12 columns):\n",
      " #   Column                   Non-Null Count  Dtype  \n",
      "---  ------                   --------------  -----  \n",
      " 0   Formatted_Date           96453 non-null  object \n",
      " 1   Forecast                 96453 non-null  object \n",
      " 2   Precipitation_Type       95936 non-null  object \n",
      " 3   Temperature(C)           96453 non-null  float64\n",
      " 4   Apparent_Temperature(C)  96453 non-null  float64\n",
      " 5   Humidity                 96453 non-null  float64\n",
      " 6   Wind_Speed(km/h)         96453 non-null  float64\n",
      " 7   Wind_Bearing(degrees)    96453 non-null  float64\n",
      " 8   Visibility(km)           96453 non-null  float64\n",
      " 9   Loud Cover               96453 non-null  float64\n",
      " 10  Pressure(millibars)      96453 non-null  float64\n",
      " 11  Daily_Summary            96453 non-null  object \n",
      "dtypes: float64(8), object(4)\n",
      "memory usage: 8.8+ MB\n"
     ]
    }
   ],
   "source": [
    "ML.info ()"
   ]
  },
  {
   "cell_type": "code",
   "execution_count": 8,
   "metadata": {},
   "outputs": [
    {
     "name": "stdout",
     "output_type": "stream",
     "text": [
      "Duplicate Rows :\n"
     ]
    },
    {
     "data": {
      "text/html": [
       "<div>\n",
       "<style scoped>\n",
       "    .dataframe tbody tr th:only-of-type {\n",
       "        vertical-align: middle;\n",
       "    }\n",
       "\n",
       "    .dataframe tbody tr th {\n",
       "        vertical-align: top;\n",
       "    }\n",
       "\n",
       "    .dataframe thead th {\n",
       "        text-align: right;\n",
       "    }\n",
       "</style>\n",
       "<table border=\"1\" class=\"dataframe\">\n",
       "  <thead>\n",
       "    <tr style=\"text-align: right;\">\n",
       "      <th></th>\n",
       "      <th>Formatted_Date</th>\n",
       "      <th>Forecast</th>\n",
       "      <th>Precipitation_Type</th>\n",
       "      <th>Temperature(C)</th>\n",
       "      <th>Apparent_Temperature(C)</th>\n",
       "      <th>Humidity</th>\n",
       "      <th>Wind_Speed(km/h)</th>\n",
       "      <th>Wind_Bearing(degrees)</th>\n",
       "      <th>Visibility(km)</th>\n",
       "      <th>Pressure(millibars)</th>\n",
       "      <th>Daily_Summary</th>\n",
       "      <th>Loud Cover</th>\n",
       "    </tr>\n",
       "  </thead>\n",
       "  <tbody>\n",
       "    <tr>\n",
       "      <th>36072</th>\n",
       "      <td>2010-08-02 00:00:00.000 +0200</td>\n",
       "      <td>Clear</td>\n",
       "      <td>rain</td>\n",
       "      <td>18.800000</td>\n",
       "      <td>18.800000</td>\n",
       "      <td>0.93</td>\n",
       "      <td>6.2790</td>\n",
       "      <td>270.0</td>\n",
       "      <td>14.9086</td>\n",
       "      <td>1016.99</td>\n",
       "      <td>Partly cloudy starting in the afternoon contin...</td>\n",
       "      <td>0.0</td>\n",
       "    </tr>\n",
       "    <tr>\n",
       "      <th>36073</th>\n",
       "      <td>2010-08-02 01:00:00.000 +0200</td>\n",
       "      <td>Clear</td>\n",
       "      <td>rain</td>\n",
       "      <td>18.222222</td>\n",
       "      <td>18.222222</td>\n",
       "      <td>0.97</td>\n",
       "      <td>6.2790</td>\n",
       "      <td>291.0</td>\n",
       "      <td>14.9086</td>\n",
       "      <td>1017.09</td>\n",
       "      <td>Partly cloudy starting in the afternoon contin...</td>\n",
       "      <td>0.0</td>\n",
       "    </tr>\n",
       "    <tr>\n",
       "      <th>36074</th>\n",
       "      <td>2010-08-02 02:00:00.000 +0200</td>\n",
       "      <td>Clear</td>\n",
       "      <td>rain</td>\n",
       "      <td>18.072222</td>\n",
       "      <td>18.072222</td>\n",
       "      <td>0.98</td>\n",
       "      <td>11.2700</td>\n",
       "      <td>290.0</td>\n",
       "      <td>6.8425</td>\n",
       "      <td>1013.23</td>\n",
       "      <td>Partly cloudy starting in the afternoon contin...</td>\n",
       "      <td>0.0</td>\n",
       "    </tr>\n",
       "    <tr>\n",
       "      <th>36075</th>\n",
       "      <td>2010-08-02 03:00:00.000 +0200</td>\n",
       "      <td>Clear</td>\n",
       "      <td>rain</td>\n",
       "      <td>16.622222</td>\n",
       "      <td>16.622222</td>\n",
       "      <td>0.99</td>\n",
       "      <td>6.4400</td>\n",
       "      <td>300.0</td>\n",
       "      <td>11.9784</td>\n",
       "      <td>1016.78</td>\n",
       "      <td>Partly cloudy starting in the afternoon contin...</td>\n",
       "      <td>0.0</td>\n",
       "    </tr>\n",
       "    <tr>\n",
       "      <th>36076</th>\n",
       "      <td>2010-08-02 04:00:00.000 +0200</td>\n",
       "      <td>Clear</td>\n",
       "      <td>rain</td>\n",
       "      <td>16.094444</td>\n",
       "      <td>16.094444</td>\n",
       "      <td>0.99</td>\n",
       "      <td>3.0751</td>\n",
       "      <td>280.0</td>\n",
       "      <td>11.9784</td>\n",
       "      <td>1016.67</td>\n",
       "      <td>Partly cloudy starting in the afternoon contin...</td>\n",
       "      <td>0.0</td>\n",
       "    </tr>\n",
       "    <tr>\n",
       "      <th>36077</th>\n",
       "      <td>2010-08-02 05:00:00.000 +0200</td>\n",
       "      <td>Clear</td>\n",
       "      <td>rain</td>\n",
       "      <td>15.955556</td>\n",
       "      <td>15.955556</td>\n",
       "      <td>0.99</td>\n",
       "      <td>3.8801</td>\n",
       "      <td>276.0</td>\n",
       "      <td>9.9820</td>\n",
       "      <td>1016.69</td>\n",
       "      <td>Partly cloudy starting in the afternoon contin...</td>\n",
       "      <td>0.0</td>\n",
       "    </tr>\n",
       "    <tr>\n",
       "      <th>36078</th>\n",
       "      <td>2010-08-02 06:00:00.000 +0200</td>\n",
       "      <td>Clear</td>\n",
       "      <td>rain</td>\n",
       "      <td>17.088889</td>\n",
       "      <td>17.088889</td>\n",
       "      <td>1.00</td>\n",
       "      <td>6.4400</td>\n",
       "      <td>310.0</td>\n",
       "      <td>9.9820</td>\n",
       "      <td>1017.08</td>\n",
       "      <td>Partly cloudy starting in the afternoon contin...</td>\n",
       "      <td>0.0</td>\n",
       "    </tr>\n",
       "    <tr>\n",
       "      <th>36079</th>\n",
       "      <td>2010-08-02 07:00:00.000 +0200</td>\n",
       "      <td>Clear</td>\n",
       "      <td>rain</td>\n",
       "      <td>20.822222</td>\n",
       "      <td>20.822222</td>\n",
       "      <td>0.87</td>\n",
       "      <td>3.2200</td>\n",
       "      <td>300.0</td>\n",
       "      <td>9.9820</td>\n",
       "      <td>1017.27</td>\n",
       "      <td>Partly cloudy starting in the afternoon contin...</td>\n",
       "      <td>0.0</td>\n",
       "    </tr>\n",
       "    <tr>\n",
       "      <th>36080</th>\n",
       "      <td>2010-08-02 08:00:00.000 +0200</td>\n",
       "      <td>Clear</td>\n",
       "      <td>rain</td>\n",
       "      <td>23.405556</td>\n",
       "      <td>23.405556</td>\n",
       "      <td>0.74</td>\n",
       "      <td>1.8837</td>\n",
       "      <td>334.0</td>\n",
       "      <td>9.9820</td>\n",
       "      <td>1017.27</td>\n",
       "      <td>Partly cloudy starting in the afternoon contin...</td>\n",
       "      <td>0.0</td>\n",
       "    </tr>\n",
       "    <tr>\n",
       "      <th>36081</th>\n",
       "      <td>2010-08-02 09:00:00.000 +0200</td>\n",
       "      <td>Clear</td>\n",
       "      <td>rain</td>\n",
       "      <td>26.050000</td>\n",
       "      <td>26.050000</td>\n",
       "      <td>0.59</td>\n",
       "      <td>1.5939</td>\n",
       "      <td>5.0</td>\n",
       "      <td>9.9820</td>\n",
       "      <td>1017.15</td>\n",
       "      <td>Partly cloudy starting in the afternoon contin...</td>\n",
       "      <td>0.0</td>\n",
       "    </tr>\n",
       "    <tr>\n",
       "      <th>36082</th>\n",
       "      <td>2010-08-02 10:00:00.000 +0200</td>\n",
       "      <td>Clear</td>\n",
       "      <td>rain</td>\n",
       "      <td>27.688889</td>\n",
       "      <td>28.077778</td>\n",
       "      <td>0.50</td>\n",
       "      <td>0.2254</td>\n",
       "      <td>338.0</td>\n",
       "      <td>9.9820</td>\n",
       "      <td>1016.68</td>\n",
       "      <td>Partly cloudy starting in the afternoon contin...</td>\n",
       "      <td>0.0</td>\n",
       "    </tr>\n",
       "    <tr>\n",
       "      <th>36083</th>\n",
       "      <td>2010-08-02 11:00:00.000 +0200</td>\n",
       "      <td>Clear</td>\n",
       "      <td>rain</td>\n",
       "      <td>28.561111</td>\n",
       "      <td>29.588889</td>\n",
       "      <td>0.54</td>\n",
       "      <td>3.2039</td>\n",
       "      <td>288.0</td>\n",
       "      <td>10.3523</td>\n",
       "      <td>1016.58</td>\n",
       "      <td>Partly cloudy starting in the afternoon contin...</td>\n",
       "      <td>0.0</td>\n",
       "    </tr>\n",
       "    <tr>\n",
       "      <th>36084</th>\n",
       "      <td>2010-08-02 12:00:00.000 +0200</td>\n",
       "      <td>Clear</td>\n",
       "      <td>rain</td>\n",
       "      <td>28.816667</td>\n",
       "      <td>29.338889</td>\n",
       "      <td>0.49</td>\n",
       "      <td>1.6100</td>\n",
       "      <td>20.0</td>\n",
       "      <td>9.9820</td>\n",
       "      <td>1016.55</td>\n",
       "      <td>Partly cloudy starting in the afternoon contin...</td>\n",
       "      <td>0.0</td>\n",
       "    </tr>\n",
       "    <tr>\n",
       "      <th>36085</th>\n",
       "      <td>2010-08-02 13:00:00.000 +0200</td>\n",
       "      <td>Partly Cloudy</td>\n",
       "      <td>rain</td>\n",
       "      <td>28.866667</td>\n",
       "      <td>29.044444</td>\n",
       "      <td>0.46</td>\n",
       "      <td>2.8175</td>\n",
       "      <td>33.0</td>\n",
       "      <td>9.9820</td>\n",
       "      <td>1015.99</td>\n",
       "      <td>Partly cloudy starting in the afternoon contin...</td>\n",
       "      <td>0.0</td>\n",
       "    </tr>\n",
       "    <tr>\n",
       "      <th>36086</th>\n",
       "      <td>2010-08-02 14:00:00.000 +0200</td>\n",
       "      <td>Partly Cloudy</td>\n",
       "      <td>rain</td>\n",
       "      <td>29.827778</td>\n",
       "      <td>30.338889</td>\n",
       "      <td>0.47</td>\n",
       "      <td>8.0339</td>\n",
       "      <td>267.0</td>\n",
       "      <td>10.3523</td>\n",
       "      <td>1015.50</td>\n",
       "      <td>Partly cloudy starting in the afternoon contin...</td>\n",
       "      <td>0.0</td>\n",
       "    </tr>\n",
       "    <tr>\n",
       "      <th>36087</th>\n",
       "      <td>2010-08-02 15:00:00.000 +0200</td>\n",
       "      <td>Partly Cloudy</td>\n",
       "      <td>rain</td>\n",
       "      <td>30.072222</td>\n",
       "      <td>30.527778</td>\n",
       "      <td>0.46</td>\n",
       "      <td>2.5921</td>\n",
       "      <td>92.0</td>\n",
       "      <td>9.9820</td>\n",
       "      <td>1014.97</td>\n",
       "      <td>Partly cloudy starting in the afternoon contin...</td>\n",
       "      <td>0.0</td>\n",
       "    </tr>\n",
       "    <tr>\n",
       "      <th>36088</th>\n",
       "      <td>2010-08-02 16:00:00.000 +0200</td>\n",
       "      <td>Partly Cloudy</td>\n",
       "      <td>rain</td>\n",
       "      <td>31.066667</td>\n",
       "      <td>31.627778</td>\n",
       "      <td>0.44</td>\n",
       "      <td>1.3846</td>\n",
       "      <td>297.0</td>\n",
       "      <td>9.9820</td>\n",
       "      <td>1014.47</td>\n",
       "      <td>Partly cloudy starting in the afternoon contin...</td>\n",
       "      <td>0.0</td>\n",
       "    </tr>\n",
       "    <tr>\n",
       "      <th>36089</th>\n",
       "      <td>2010-08-02 17:00:00.000 +0200</td>\n",
       "      <td>Partly Cloudy</td>\n",
       "      <td>rain</td>\n",
       "      <td>30.861111</td>\n",
       "      <td>31.361111</td>\n",
       "      <td>0.44</td>\n",
       "      <td>2.2540</td>\n",
       "      <td>325.0</td>\n",
       "      <td>10.3523</td>\n",
       "      <td>1014.08</td>\n",
       "      <td>Partly cloudy starting in the afternoon contin...</td>\n",
       "      <td>0.0</td>\n",
       "    </tr>\n",
       "    <tr>\n",
       "      <th>36090</th>\n",
       "      <td>2010-08-02 18:00:00.000 +0200</td>\n",
       "      <td>Partly Cloudy</td>\n",
       "      <td>rain</td>\n",
       "      <td>29.950000</td>\n",
       "      <td>30.416667</td>\n",
       "      <td>0.46</td>\n",
       "      <td>3.0751</td>\n",
       "      <td>303.0</td>\n",
       "      <td>9.9820</td>\n",
       "      <td>1013.59</td>\n",
       "      <td>Partly cloudy starting in the afternoon contin...</td>\n",
       "      <td>0.0</td>\n",
       "    </tr>\n",
       "    <tr>\n",
       "      <th>36091</th>\n",
       "      <td>2010-08-02 19:00:00.000 +0200</td>\n",
       "      <td>Clear</td>\n",
       "      <td>rain</td>\n",
       "      <td>28.811111</td>\n",
       "      <td>30.616667</td>\n",
       "      <td>0.59</td>\n",
       "      <td>3.2039</td>\n",
       "      <td>351.0</td>\n",
       "      <td>9.9820</td>\n",
       "      <td>1013.19</td>\n",
       "      <td>Partly cloudy starting in the afternoon contin...</td>\n",
       "      <td>0.0</td>\n",
       "    </tr>\n",
       "    <tr>\n",
       "      <th>36092</th>\n",
       "      <td>2010-08-02 20:00:00.000 +0200</td>\n",
       "      <td>Clear</td>\n",
       "      <td>rain</td>\n",
       "      <td>25.250000</td>\n",
       "      <td>25.250000</td>\n",
       "      <td>0.75</td>\n",
       "      <td>2.4955</td>\n",
       "      <td>335.0</td>\n",
       "      <td>10.3523</td>\n",
       "      <td>1013.20</td>\n",
       "      <td>Partly cloudy starting in the afternoon contin...</td>\n",
       "      <td>0.0</td>\n",
       "    </tr>\n",
       "    <tr>\n",
       "      <th>36093</th>\n",
       "      <td>2010-08-02 21:00:00.000 +0200</td>\n",
       "      <td>Clear</td>\n",
       "      <td>rain</td>\n",
       "      <td>22.172222</td>\n",
       "      <td>22.172222</td>\n",
       "      <td>0.87</td>\n",
       "      <td>1.6100</td>\n",
       "      <td>0.0</td>\n",
       "      <td>9.9820</td>\n",
       "      <td>1013.49</td>\n",
       "      <td>Partly cloudy starting in the afternoon contin...</td>\n",
       "      <td>0.0</td>\n",
       "    </tr>\n",
       "    <tr>\n",
       "      <th>36094</th>\n",
       "      <td>2010-08-02 22:00:00.000 +0200</td>\n",
       "      <td>Partly Cloudy</td>\n",
       "      <td>rain</td>\n",
       "      <td>21.061111</td>\n",
       "      <td>21.061111</td>\n",
       "      <td>0.90</td>\n",
       "      <td>0.0000</td>\n",
       "      <td>0.0</td>\n",
       "      <td>11.9784</td>\n",
       "      <td>1013.37</td>\n",
       "      <td>Partly cloudy starting in the afternoon contin...</td>\n",
       "      <td>0.0</td>\n",
       "    </tr>\n",
       "    <tr>\n",
       "      <th>36095</th>\n",
       "      <td>2010-08-02 23:00:00.000 +0200</td>\n",
       "      <td>Clear</td>\n",
       "      <td>rain</td>\n",
       "      <td>20.255556</td>\n",
       "      <td>20.255556</td>\n",
       "      <td>0.92</td>\n",
       "      <td>1.0787</td>\n",
       "      <td>326.0</td>\n",
       "      <td>14.1680</td>\n",
       "      <td>1013.00</td>\n",
       "      <td>Partly cloudy starting in the afternoon contin...</td>\n",
       "      <td>0.0</td>\n",
       "    </tr>\n",
       "  </tbody>\n",
       "</table>\n",
       "</div>"
      ],
      "text/plain": [
       "                      Formatted_Date       Forecast Precipitation_Type  \\\n",
       "36072  2010-08-02 00:00:00.000 +0200          Clear               rain   \n",
       "36073  2010-08-02 01:00:00.000 +0200          Clear               rain   \n",
       "36074  2010-08-02 02:00:00.000 +0200          Clear               rain   \n",
       "36075  2010-08-02 03:00:00.000 +0200          Clear               rain   \n",
       "36076  2010-08-02 04:00:00.000 +0200          Clear               rain   \n",
       "36077  2010-08-02 05:00:00.000 +0200          Clear               rain   \n",
       "36078  2010-08-02 06:00:00.000 +0200          Clear               rain   \n",
       "36079  2010-08-02 07:00:00.000 +0200          Clear               rain   \n",
       "36080  2010-08-02 08:00:00.000 +0200          Clear               rain   \n",
       "36081  2010-08-02 09:00:00.000 +0200          Clear               rain   \n",
       "36082  2010-08-02 10:00:00.000 +0200          Clear               rain   \n",
       "36083  2010-08-02 11:00:00.000 +0200          Clear               rain   \n",
       "36084  2010-08-02 12:00:00.000 +0200          Clear               rain   \n",
       "36085  2010-08-02 13:00:00.000 +0200  Partly Cloudy               rain   \n",
       "36086  2010-08-02 14:00:00.000 +0200  Partly Cloudy               rain   \n",
       "36087  2010-08-02 15:00:00.000 +0200  Partly Cloudy               rain   \n",
       "36088  2010-08-02 16:00:00.000 +0200  Partly Cloudy               rain   \n",
       "36089  2010-08-02 17:00:00.000 +0200  Partly Cloudy               rain   \n",
       "36090  2010-08-02 18:00:00.000 +0200  Partly Cloudy               rain   \n",
       "36091  2010-08-02 19:00:00.000 +0200          Clear               rain   \n",
       "36092  2010-08-02 20:00:00.000 +0200          Clear               rain   \n",
       "36093  2010-08-02 21:00:00.000 +0200          Clear               rain   \n",
       "36094  2010-08-02 22:00:00.000 +0200  Partly Cloudy               rain   \n",
       "36095  2010-08-02 23:00:00.000 +0200          Clear               rain   \n",
       "\n",
       "       Temperature(C)  Apparent_Temperature(C)  Humidity  Wind_Speed(km/h)  \\\n",
       "36072       18.800000                18.800000      0.93            6.2790   \n",
       "36073       18.222222                18.222222      0.97            6.2790   \n",
       "36074       18.072222                18.072222      0.98           11.2700   \n",
       "36075       16.622222                16.622222      0.99            6.4400   \n",
       "36076       16.094444                16.094444      0.99            3.0751   \n",
       "36077       15.955556                15.955556      0.99            3.8801   \n",
       "36078       17.088889                17.088889      1.00            6.4400   \n",
       "36079       20.822222                20.822222      0.87            3.2200   \n",
       "36080       23.405556                23.405556      0.74            1.8837   \n",
       "36081       26.050000                26.050000      0.59            1.5939   \n",
       "36082       27.688889                28.077778      0.50            0.2254   \n",
       "36083       28.561111                29.588889      0.54            3.2039   \n",
       "36084       28.816667                29.338889      0.49            1.6100   \n",
       "36085       28.866667                29.044444      0.46            2.8175   \n",
       "36086       29.827778                30.338889      0.47            8.0339   \n",
       "36087       30.072222                30.527778      0.46            2.5921   \n",
       "36088       31.066667                31.627778      0.44            1.3846   \n",
       "36089       30.861111                31.361111      0.44            2.2540   \n",
       "36090       29.950000                30.416667      0.46            3.0751   \n",
       "36091       28.811111                30.616667      0.59            3.2039   \n",
       "36092       25.250000                25.250000      0.75            2.4955   \n",
       "36093       22.172222                22.172222      0.87            1.6100   \n",
       "36094       21.061111                21.061111      0.90            0.0000   \n",
       "36095       20.255556                20.255556      0.92            1.0787   \n",
       "\n",
       "       Wind_Bearing(degrees)  Visibility(km)  Pressure(millibars)  \\\n",
       "36072                  270.0         14.9086              1016.99   \n",
       "36073                  291.0         14.9086              1017.09   \n",
       "36074                  290.0          6.8425              1013.23   \n",
       "36075                  300.0         11.9784              1016.78   \n",
       "36076                  280.0         11.9784              1016.67   \n",
       "36077                  276.0          9.9820              1016.69   \n",
       "36078                  310.0          9.9820              1017.08   \n",
       "36079                  300.0          9.9820              1017.27   \n",
       "36080                  334.0          9.9820              1017.27   \n",
       "36081                    5.0          9.9820              1017.15   \n",
       "36082                  338.0          9.9820              1016.68   \n",
       "36083                  288.0         10.3523              1016.58   \n",
       "36084                   20.0          9.9820              1016.55   \n",
       "36085                   33.0          9.9820              1015.99   \n",
       "36086                  267.0         10.3523              1015.50   \n",
       "36087                   92.0          9.9820              1014.97   \n",
       "36088                  297.0          9.9820              1014.47   \n",
       "36089                  325.0         10.3523              1014.08   \n",
       "36090                  303.0          9.9820              1013.59   \n",
       "36091                  351.0          9.9820              1013.19   \n",
       "36092                  335.0         10.3523              1013.20   \n",
       "36093                    0.0          9.9820              1013.49   \n",
       "36094                    0.0         11.9784              1013.37   \n",
       "36095                  326.0         14.1680              1013.00   \n",
       "\n",
       "                                           Daily_Summary  Loud Cover  \n",
       "36072  Partly cloudy starting in the afternoon contin...         0.0  \n",
       "36073  Partly cloudy starting in the afternoon contin...         0.0  \n",
       "36074  Partly cloudy starting in the afternoon contin...         0.0  \n",
       "36075  Partly cloudy starting in the afternoon contin...         0.0  \n",
       "36076  Partly cloudy starting in the afternoon contin...         0.0  \n",
       "36077  Partly cloudy starting in the afternoon contin...         0.0  \n",
       "36078  Partly cloudy starting in the afternoon contin...         0.0  \n",
       "36079  Partly cloudy starting in the afternoon contin...         0.0  \n",
       "36080  Partly cloudy starting in the afternoon contin...         0.0  \n",
       "36081  Partly cloudy starting in the afternoon contin...         0.0  \n",
       "36082  Partly cloudy starting in the afternoon contin...         0.0  \n",
       "36083  Partly cloudy starting in the afternoon contin...         0.0  \n",
       "36084  Partly cloudy starting in the afternoon contin...         0.0  \n",
       "36085  Partly cloudy starting in the afternoon contin...         0.0  \n",
       "36086  Partly cloudy starting in the afternoon contin...         0.0  \n",
       "36087  Partly cloudy starting in the afternoon contin...         0.0  \n",
       "36088  Partly cloudy starting in the afternoon contin...         0.0  \n",
       "36089  Partly cloudy starting in the afternoon contin...         0.0  \n",
       "36090  Partly cloudy starting in the afternoon contin...         0.0  \n",
       "36091  Partly cloudy starting in the afternoon contin...         0.0  \n",
       "36092  Partly cloudy starting in the afternoon contin...         0.0  \n",
       "36093  Partly cloudy starting in the afternoon contin...         0.0  \n",
       "36094  Partly cloudy starting in the afternoon contin...         0.0  \n",
       "36095  Partly cloudy starting in the afternoon contin...         0.0  "
      ]
     },
     "execution_count": 8,
     "metadata": {},
     "output_type": "execute_result"
    }
   ],
   "source": [
    "ML1 =pd.DataFrame(ML, columns = ['Formatted_Date', 'Forecast', 'Precipitation_Type', 'Temperature(C)', 'Apparent_Temperature(C)', 'Humidity', 'Wind_Speed(km/h)', 'Wind_Bearing(degrees)', 'Visibility(km)', 'Pressure(millibars)', 'Daily_Summary', 'Loud Cover'])\n",
    "duplicate = ML1[ML1.duplicated()]\n",
    "print(\"Duplicate Rows :\")\n",
    "duplicate"
   ]
  },
  {
   "cell_type": "code",
   "execution_count": 9,
   "metadata": {},
   "outputs": [
    {
     "name": "stdout",
     "output_type": "stream",
     "text": [
      "                      Formatted_Date       Forecast Precipitation_Type  \\\n",
      "0      2006-04-01 00:00:00.000 +0200  Partly Cloudy               rain   \n",
      "1      2006-04-01 01:00:00.000 +0200  Partly Cloudy               rain   \n",
      "2      2006-04-01 02:00:00.000 +0200  Mostly Cloudy               rain   \n",
      "3      2006-04-01 03:00:00.000 +0200  Partly Cloudy               rain   \n",
      "4      2006-04-01 04:00:00.000 +0200  Mostly Cloudy               rain   \n",
      "...                              ...            ...                ...   \n",
      "96448  2016-09-09 19:00:00.000 +0200  Partly Cloudy               rain   \n",
      "96449  2016-09-09 20:00:00.000 +0200  Partly Cloudy               rain   \n",
      "96450  2016-09-09 21:00:00.000 +0200  Partly Cloudy               rain   \n",
      "96451  2016-09-09 22:00:00.000 +0200  Partly Cloudy               rain   \n",
      "96452  2016-09-09 23:00:00.000 +0200  Partly Cloudy               rain   \n",
      "\n",
      "       Temperature(C)  Apparent_Temperature(C)  Humidity  Wind_Speed(km/h)  \\\n",
      "0            9.472222                 7.388889      0.89           14.1197   \n",
      "1            9.355556                 7.227778      0.86           14.2646   \n",
      "2            9.377778                 9.377778      0.89            3.9284   \n",
      "3            8.288889                 5.944444      0.83           14.1036   \n",
      "4            8.755556                 6.977778      0.83           11.0446   \n",
      "...               ...                      ...       ...               ...   \n",
      "96448       26.016667                26.016667      0.43           10.9963   \n",
      "96449       24.583333                24.583333      0.48           10.0947   \n",
      "96450       22.038889                22.038889      0.56            8.9838   \n",
      "96451       21.522222                21.522222      0.60           10.5294   \n",
      "96452       20.438889                20.438889      0.61            5.8765   \n",
      "\n",
      "       Wind_Bearing(degrees)  Visibility(km)  Pressure(millibars)  \\\n",
      "0                      251.0         15.8263              1015.13   \n",
      "1                      259.0         15.8263              1015.63   \n",
      "2                      204.0         14.9569              1015.94   \n",
      "3                      269.0         15.8263              1016.41   \n",
      "4                      259.0         15.8263              1016.51   \n",
      "...                      ...             ...                  ...   \n",
      "96448                   31.0         16.1000              1014.36   \n",
      "96449                   20.0         15.5526              1015.16   \n",
      "96450                   30.0         16.1000              1015.66   \n",
      "96451                   20.0         16.1000              1015.95   \n",
      "96452                   39.0         15.5204              1016.16   \n",
      "\n",
      "                                Daily_Summary  Loud Cover  \n",
      "0           Partly cloudy throughout the day.         0.0  \n",
      "1           Partly cloudy throughout the day.         0.0  \n",
      "2           Partly cloudy throughout the day.         0.0  \n",
      "3           Partly cloudy throughout the day.         0.0  \n",
      "4           Partly cloudy throughout the day.         0.0  \n",
      "...                                       ...         ...  \n",
      "96448  Partly cloudy starting in the morning.         0.0  \n",
      "96449  Partly cloudy starting in the morning.         0.0  \n",
      "96450  Partly cloudy starting in the morning.         0.0  \n",
      "96451  Partly cloudy starting in the morning.         0.0  \n",
      "96452  Partly cloudy starting in the morning.         0.0  \n",
      "\n",
      "[96429 rows x 12 columns]\n"
     ]
    }
   ],
   "source": [
    "ML2 = ML1.drop_duplicates()\n",
    "print(ML2)"
   ]
  },
  {
   "cell_type": "code",
   "execution_count": 10,
   "metadata": {},
   "outputs": [],
   "source": [
    "from sklearn.preprocessing import LabelEncoder\n",
    "label_encoder = LabelEncoder()"
   ]
  },
  {
   "cell_type": "code",
   "execution_count": 11,
   "metadata": {},
   "outputs": [
    {
     "name": "stderr",
     "output_type": "stream",
     "text": [
      "<ipython-input-11-b795a9b12a1e>:1: SettingWithCopyWarning: \n",
      "A value is trying to be set on a copy of a slice from a DataFrame.\n",
      "Try using .loc[row_indexer,col_indexer] = value instead\n",
      "\n",
      "See the caveats in the documentation: https://pandas.pydata.org/pandas-docs/stable/user_guide/indexing.html#returning-a-view-versus-a-copy\n",
      "  ML2['Forecast']= label_encoder.fit_transform(ML2['Forecast'])\n"
     ]
    }
   ],
   "source": [
    "ML2['Forecast']= label_encoder.fit_transform(ML2['Forecast'])"
   ]
  },
  {
   "cell_type": "code",
   "execution_count": 12,
   "metadata": {},
   "outputs": [
    {
     "data": {
      "text/plain": [
       "array([19, 17, 18, 12,  3,  6,  5,  4, 13, 15, 23, 25,  2, 26,  0, 11, 24,\n",
       "        7,  9, 21, 14, 16,  8, 22, 10,  1, 20])"
      ]
     },
     "execution_count": 12,
     "metadata": {},
     "output_type": "execute_result"
    }
   ],
   "source": [
    "ML2['Forecast'].unique()"
   ]
  },
  {
   "cell_type": "code",
   "execution_count": 13,
   "metadata": {},
   "outputs": [
    {
     "data": {
      "text/plain": [
       "Formatted_Date              object\n",
       "Forecast                     int64\n",
       "Precipitation_Type          object\n",
       "Temperature(C)             float64\n",
       "Apparent_Temperature(C)    float64\n",
       "Humidity                   float64\n",
       "Wind_Speed(km/h)           float64\n",
       "Wind_Bearing(degrees)      float64\n",
       "Visibility(km)             float64\n",
       "Pressure(millibars)        float64\n",
       "Daily_Summary               object\n",
       "Loud Cover                 float64\n",
       "dtype: object"
      ]
     },
     "execution_count": 13,
     "metadata": {},
     "output_type": "execute_result"
    }
   ],
   "source": [
    "ML2.dtypes"
   ]
  },
  {
   "cell_type": "code",
   "execution_count": 14,
   "metadata": {},
   "outputs": [],
   "source": [
    "ML3 = ML2.drop([0.  , 1.  ])"
   ]
  },
  {
   "cell_type": "code",
   "execution_count": 15,
   "metadata": {},
   "outputs": [
    {
     "data": {
      "text/html": [
       "<div>\n",
       "<style scoped>\n",
       "    .dataframe tbody tr th:only-of-type {\n",
       "        vertical-align: middle;\n",
       "    }\n",
       "\n",
       "    .dataframe tbody tr th {\n",
       "        vertical-align: top;\n",
       "    }\n",
       "\n",
       "    .dataframe thead th {\n",
       "        text-align: right;\n",
       "    }\n",
       "</style>\n",
       "<table border=\"1\" class=\"dataframe\">\n",
       "  <thead>\n",
       "    <tr style=\"text-align: right;\">\n",
       "      <th></th>\n",
       "      <th>Forecast</th>\n",
       "      <th>Temperature(C)</th>\n",
       "      <th>Apparent_Temperature(C)</th>\n",
       "      <th>Humidity</th>\n",
       "      <th>Wind_Speed(km/h)</th>\n",
       "      <th>Wind_Bearing(degrees)</th>\n",
       "      <th>Visibility(km)</th>\n",
       "      <th>Pressure(millibars)</th>\n",
       "      <th>Loud Cover</th>\n",
       "    </tr>\n",
       "  </thead>\n",
       "  <tbody>\n",
       "    <tr>\n",
       "      <th>count</th>\n",
       "      <td>96427.000000</td>\n",
       "      <td>96427.000000</td>\n",
       "      <td>96427.000000</td>\n",
       "      <td>96427.000000</td>\n",
       "      <td>96427.000000</td>\n",
       "      <td>96427.000000</td>\n",
       "      <td>96427.000000</td>\n",
       "      <td>96427.000000</td>\n",
       "      <td>96427.0</td>\n",
       "    </tr>\n",
       "    <tr>\n",
       "      <th>mean</th>\n",
       "      <td>16.007508</td>\n",
       "      <td>11.929744</td>\n",
       "      <td>10.851781</td>\n",
       "      <td>0.734899</td>\n",
       "      <td>10.812390</td>\n",
       "      <td>187.496106</td>\n",
       "      <td>10.347112</td>\n",
       "      <td>1003.232663</td>\n",
       "      <td>0.0</td>\n",
       "    </tr>\n",
       "    <tr>\n",
       "      <th>std</th>\n",
       "      <td>4.359965</td>\n",
       "      <td>9.550584</td>\n",
       "      <td>10.695842</td>\n",
       "      <td>0.195467</td>\n",
       "      <td>6.913399</td>\n",
       "      <td>107.377095</td>\n",
       "      <td>4.192517</td>\n",
       "      <td>116.985500</td>\n",
       "      <td>0.0</td>\n",
       "    </tr>\n",
       "    <tr>\n",
       "      <th>min</th>\n",
       "      <td>0.000000</td>\n",
       "      <td>-21.822222</td>\n",
       "      <td>-27.716667</td>\n",
       "      <td>0.000000</td>\n",
       "      <td>0.000000</td>\n",
       "      <td>0.000000</td>\n",
       "      <td>0.000000</td>\n",
       "      <td>0.000000</td>\n",
       "      <td>0.0</td>\n",
       "    </tr>\n",
       "    <tr>\n",
       "      <th>25%</th>\n",
       "      <td>17.000000</td>\n",
       "      <td>4.680556</td>\n",
       "      <td>2.311111</td>\n",
       "      <td>0.600000</td>\n",
       "      <td>5.828200</td>\n",
       "      <td>116.000000</td>\n",
       "      <td>8.339800</td>\n",
       "      <td>1011.900000</td>\n",
       "      <td>0.0</td>\n",
       "    </tr>\n",
       "    <tr>\n",
       "      <th>50%</th>\n",
       "      <td>18.000000</td>\n",
       "      <td>12.000000</td>\n",
       "      <td>12.000000</td>\n",
       "      <td>0.780000</td>\n",
       "      <td>9.965900</td>\n",
       "      <td>180.000000</td>\n",
       "      <td>10.046400</td>\n",
       "      <td>1016.450000</td>\n",
       "      <td>0.0</td>\n",
       "    </tr>\n",
       "    <tr>\n",
       "      <th>75%</th>\n",
       "      <td>19.000000</td>\n",
       "      <td>18.838889</td>\n",
       "      <td>18.838889</td>\n",
       "      <td>0.890000</td>\n",
       "      <td>14.135800</td>\n",
       "      <td>290.000000</td>\n",
       "      <td>14.812000</td>\n",
       "      <td>1021.090000</td>\n",
       "      <td>0.0</td>\n",
       "    </tr>\n",
       "    <tr>\n",
       "      <th>max</th>\n",
       "      <td>26.000000</td>\n",
       "      <td>39.905556</td>\n",
       "      <td>39.344444</td>\n",
       "      <td>1.000000</td>\n",
       "      <td>63.852600</td>\n",
       "      <td>359.000000</td>\n",
       "      <td>16.100000</td>\n",
       "      <td>1046.380000</td>\n",
       "      <td>0.0</td>\n",
       "    </tr>\n",
       "  </tbody>\n",
       "</table>\n",
       "</div>"
      ],
      "text/plain": [
       "           Forecast  Temperature(C)  Apparent_Temperature(C)      Humidity  \\\n",
       "count  96427.000000    96427.000000             96427.000000  96427.000000   \n",
       "mean      16.007508       11.929744                10.851781      0.734899   \n",
       "std        4.359965        9.550584                10.695842      0.195467   \n",
       "min        0.000000      -21.822222               -27.716667      0.000000   \n",
       "25%       17.000000        4.680556                 2.311111      0.600000   \n",
       "50%       18.000000       12.000000                12.000000      0.780000   \n",
       "75%       19.000000       18.838889                18.838889      0.890000   \n",
       "max       26.000000       39.905556                39.344444      1.000000   \n",
       "\n",
       "       Wind_Speed(km/h)  Wind_Bearing(degrees)  Visibility(km)  \\\n",
       "count      96427.000000           96427.000000    96427.000000   \n",
       "mean          10.812390             187.496106       10.347112   \n",
       "std            6.913399             107.377095        4.192517   \n",
       "min            0.000000               0.000000        0.000000   \n",
       "25%            5.828200             116.000000        8.339800   \n",
       "50%            9.965900             180.000000       10.046400   \n",
       "75%           14.135800             290.000000       14.812000   \n",
       "max           63.852600             359.000000       16.100000   \n",
       "\n",
       "       Pressure(millibars)  Loud Cover  \n",
       "count         96427.000000     96427.0  \n",
       "mean           1003.232663         0.0  \n",
       "std             116.985500         0.0  \n",
       "min               0.000000         0.0  \n",
       "25%            1011.900000         0.0  \n",
       "50%            1016.450000         0.0  \n",
       "75%            1021.090000         0.0  \n",
       "max            1046.380000         0.0  "
      ]
     },
     "execution_count": 15,
     "metadata": {},
     "output_type": "execute_result"
    }
   ],
   "source": [
    "ML3.describe()"
   ]
  },
  {
   "cell_type": "code",
   "execution_count": 16,
   "metadata": {},
   "outputs": [],
   "source": [
    "#Classification with eight attributes"
   ]
  },
  {
   "cell_type": "code",
   "execution_count": 17,
   "metadata": {},
   "outputs": [],
   "source": [
    "#KNN Classifier"
   ]
  },
  {
   "cell_type": "code",
   "execution_count": 18,
   "metadata": {},
   "outputs": [],
   "source": [
    "X = ML3.iloc[:, [3, 4, 5, 6, 7, 8, 9]]\n",
    "y = ML3.iloc[:, 1]"
   ]
  },
  {
   "cell_type": "code",
   "execution_count": 19,
   "metadata": {},
   "outputs": [],
   "source": [
    "from sklearn.model_selection import train_test_split\n",
    "X_train, X_test, y_train, y_test = train_test_split(X, y, test_size = 0.20)"
   ]
  },
  {
   "cell_type": "code",
   "execution_count": 20,
   "metadata": {},
   "outputs": [
    {
     "data": {
      "text/plain": [
       "KNeighborsClassifier(n_neighbors=3)"
      ]
     },
     "execution_count": 20,
     "metadata": {},
     "output_type": "execute_result"
    }
   ],
   "source": [
    "from sklearn.neighbors import KNeighborsClassifier\n",
    "import seaborn as sns\n",
    "knn = KNeighborsClassifier()\n",
    "knn = KNeighborsClassifier(n_neighbors = 3)\n",
    "knn.fit(X_train, y_train)"
   ]
  },
  {
   "cell_type": "code",
   "execution_count": 21,
   "metadata": {},
   "outputs": [],
   "source": [
    "y_pred = knn.predict(X_test)"
   ]
  },
  {
   "cell_type": "code",
   "execution_count": 22,
   "metadata": {},
   "outputs": [
    {
     "data": {
      "text/plain": [
       "<matplotlib.collections.PathCollection at 0x7fa83cbe5d90>"
      ]
     },
     "execution_count": 22,
     "metadata": {},
     "output_type": "execute_result"
    },
    {
     "data": {
      "image/png": "[encoded data removed]",
      "text/plain": [
       "<Figure size 432x288 with 1 Axes>"
      ]
     },
     "metadata": {
      "needs_background": "light"
     },
     "output_type": "display_data"
    }
   ],
   "source": [
    "plt.scatter(y_test, y_pred)"
   ]
  },
  {
   "cell_type": "code",
   "execution_count": 23,
   "metadata": {},
   "outputs": [
    {
     "data": {
      "text/plain": [
       "array([[-0.08093475,  0.02820313,  0.27663902, ...,  0.22696833,\n",
       "        -0.0873114 ,  0.06536939],\n",
       "       [-0.32312059, -0.18821638,  1.34663607, ..., -1.74838206,\n",
       "        -1.37948528, -8.40590987],\n",
       "       [ 1.58706944,  1.49902537, -1.76145061, ..., -0.2389162 ,\n",
       "        -0.0873114 ,  0.09018259],\n",
       "       ...,\n",
       "       [-0.09893897,  0.01211439, -1.76145061, ...,  1.0469251 ,\n",
       "         0.20583849,  0.08129678],\n",
       "       [-1.53463059, -1.72235559,  0.58235246, ..., -0.34141079,\n",
       "        -2.00435743, -8.40590987],\n",
       "       [-0.43404984, -0.6013337 ,  0.12378229, ..., -0.45322308,\n",
       "        -0.07188246,  0.16462221]])"
      ]
     },
     "execution_count": 23,
     "metadata": {},
     "output_type": "execute_result"
    }
   ],
   "source": [
    "from sklearn.preprocessing import StandardScaler \n",
    "st_x= StandardScaler()\n",
    "st_x.fit_transform(X_test)"
   ]
  },
  {
   "cell_type": "code",
   "execution_count": 24,
   "metadata": {},
   "outputs": [
    {
     "data": {
      "text/plain": [
       "KNeighborsClassifier(n_neighbors=3)"
      ]
     },
     "execution_count": 24,
     "metadata": {},
     "output_type": "execute_result"
    }
   ],
   "source": [
    "from sklearn.neighbors import KNeighborsClassifier\n",
    "import seaborn as sns\n",
    "knn = KNeighborsClassifier()\n",
    "knn = KNeighborsClassifier(n_neighbors = 3)\n",
    "knn.fit(X_test, y_test)"
   ]
  },
  {
   "cell_type": "code",
   "execution_count": 25,
   "metadata": {},
   "outputs": [],
   "source": [
    "y_pred = knn.predict(X_test)"
   ]
  },
  {
   "cell_type": "code",
   "execution_count": 26,
   "metadata": {},
   "outputs": [
    {
     "data": {
      "text/plain": [
       "<matplotlib.collections.PathCollection at 0x7fa83ecbf490>"
      ]
     },
     "execution_count": 26,
     "metadata": {},
     "output_type": "execute_result"
    },
    {
     "data": {
      "image/png": "[encoded data removed]",
      "text/plain": [
       "<Figure size 432x288 with 1 Axes>"
      ]
     },
     "metadata": {
      "needs_background": "light"
     },
     "output_type": "display_data"
    }
   ],
   "source": [
    "plt.scatter(y_test, y_pred)"
   ]
  },
  {
   "cell_type": "code",
   "execution_count": 27,
   "metadata": {},
   "outputs": [
    {
     "name": "stdout",
     "output_type": "stream",
     "text": [
      "('Test accuracy: ', 0.6774344083791352)\n",
      "('Train accuracy: ', 0.4110135984755189)\n"
     ]
    }
   ],
   "source": [
    "print((\"Test accuracy: \", knn.score(X_test, y_test)))\n",
    "print((\"Train accuracy: \", knn.score(X_train, y_train)))"
   ]
  },
  {
   "cell_type": "code",
   "execution_count": 28,
   "metadata": {},
   "outputs": [
    {
     "name": "stdout",
     "output_type": "stream",
     "text": [
      "Confusion Matrix:\n",
      "[[  12    0    0    0    0    1    0    0    0    0    0    0    0    0\n",
      "     0    0    0    0    1    0    0    0    0    0    0]\n",
      " [   0    1    0    0    0    0    0    0    0    0    0    0    0    0\n",
      "     0    0    0    0    0    0    0    0    0    0    0]\n",
      " [   0    0    8    0    0    0    0    0    0    0    0    0    1    0\n",
      "     0    0    0    0    0    0    0    0    0    0    0]\n",
      " [   3    1    0   74    7    1    1    0    0    0    0    0    0    0\n",
      "     0    0    0    7    1    0    0    0    0    0    0]\n",
      " [   1    0    3   15   68    2    0    0    0    0    0    0    0    0\n",
      "     0    0    0    4    6    0    0    0    0    0    0]\n",
      " [   2    0    0   14    4   52    0    0    0    0    0    0    0    0\n",
      "     0    0    0    2    0    5    0    0    0    0    0]\n",
      " [   0    0    0    0    0    4 1591    0    0    0    0    0   26    0\n",
      "     0    0    0  145   53  339    0    0    0    0    0]\n",
      " [   0    0    0    0    0    0    0    0    0    0    0    0    0    0\n",
      "     0    0    0    0    0    0    0    0    0    0    1]\n",
      " [   0    0    0    0    0    0    1    0    5    0    0    0    0    0\n",
      "     0    0    0    1    2    1    0    0    0    0    0]\n",
      " [   0    0    0    0    0    0    4    0    0    2    0    0    0    0\n",
      "     0    0    0    0    0    2    0    0    0    0    0]\n",
      " [   0    0    0    0    0    0    1    0    0    0    2    0    0    0\n",
      "     0    0    0    1    0    2    0    0    0    0    0]\n",
      " [   0    0    0    0    0    0    3    0    0    0    0    6    0    0\n",
      "     0    0    0    1    0    5    0    0    0    0    0]\n",
      " [   0    0    2    0    1    0   61    0    1    0    0    0 1263    0\n",
      "     0    0    0   17   75    8    0    0    0    0    0]\n",
      " [   0    0    0    0    0    0    1    0    0    0    0    0    0    6\n",
      "     0    0    0    4    0    1    0    0    0    0    0]\n",
      " [   0    0    0    0    0    0    0    0    0    0    0    0    0    0\n",
      "     1    0    0    0    0    0    0    0    0    0    0]\n",
      " [   0    0    0    0    0    0    0    0    0    0    0    0    0    0\n",
      "     0    2    0    1    0    0    0    0    0    0    0]\n",
      " [   0    0    0    0    0    0    1    0    1    0    0    0    0    0\n",
      "     0    0    4    0    2    1    0    0    0    0    0]\n",
      " [   1    0    0    9    7    4  632    0    1    0    0    1   77    2\n",
      "     0    1    1 3806  310  761    0    0    0    0    0]\n",
      " [   1    0    2    2   11    3  291    0    2    1    0    3  143    3\n",
      "     0    0    2  820 1852  210    0    0    0    0    0]\n",
      " [   2    0    0    4    3    4  706    0    3    0    2    3   76    5\n",
      "     1    2    3 1072  159 4288    0    0    0    0    0]\n",
      " [   0    0    0    0    0    0    0    0    0    0    0    0    3    0\n",
      "     0    0    0    0    1    0    0    0    0    0    0]\n",
      " [   0    0    0    1    0    0    0    0    0    0    0    0    0    0\n",
      "     0    0    0    0    0    0    0    2    0    0    0]\n",
      " [   0    0    0    2    0    2    0    0    0    0    0    0    0    0\n",
      "     0    0    0    0    0    0    0    0    1    0    1]\n",
      " [   0    0    0    1    4    1    0    0    0    0    0    0    0    0\n",
      "     0    0    0    0    0    0    0    0    0    1    1]\n",
      " [   0    0    0    2    1    2    0    0    0    0    0    0    0    0\n",
      "     0    0    0    1    0    0    0    0    1    0   18]]\n",
      "Classification Report:\n",
      "              precision    recall  f1-score   support\n",
      "\n",
      "           0       0.55      0.86      0.67        14\n",
      "           1       0.50      1.00      0.67         1\n",
      "           2       0.53      0.89      0.67         9\n",
      "           3       0.60      0.78      0.68        95\n",
      "           4       0.64      0.69      0.66        99\n",
      "           5       0.68      0.66      0.67        79\n",
      "           6       0.48      0.74      0.58      2158\n",
      "           7       0.00      0.00      0.00         1\n",
      "           8       0.38      0.50      0.43        10\n",
      "           9       0.67      0.25      0.36         8\n",
      "          10       0.50      0.33      0.40         6\n",
      "          11       0.46      0.40      0.43        15\n",
      "          12       0.79      0.88      0.84      1428\n",
      "          13       0.38      0.50      0.43        12\n",
      "          14       0.50      1.00      0.67         1\n",
      "          15       0.40      0.67      0.50         3\n",
      "          16       0.40      0.44      0.42         9\n",
      "          17       0.65      0.68      0.66      5613\n",
      "          18       0.75      0.55      0.64      3346\n",
      "          19       0.76      0.68      0.72      6333\n",
      "          20       0.00      0.00      0.00         4\n",
      "          21       1.00      0.67      0.80         3\n",
      "          24       0.50      0.17      0.25         6\n",
      "          25       1.00      0.12      0.22         8\n",
      "          26       0.86      0.72      0.78        25\n",
      "\n",
      "    accuracy                           0.68     19286\n",
      "   macro avg       0.56      0.57      0.53     19286\n",
      "weighted avg       0.70      0.68      0.68     19286\n",
      "\n",
      "Accuracy: 67.74344083791351 %\n"
     ]
    },
    {
     "name": "stderr",
     "output_type": "stream",
     "text": [
      "/Users/manoj/opt/anaconda3/lib/python3.8/site-packages/sklearn/metrics/_classification.py:1221: UndefinedMetricWarning: Precision and F-score are ill-defined and being set to 0.0 in labels with no predicted samples. Use `zero_division` parameter to control this behavior.\n",
      "  _warn_prf(average, modifier, msg_start, len(result))\n"
     ]
    }
   ],
   "source": [
    "from sklearn.metrics import classification_report, confusion_matrix, accuracy_score\n",
    "result = confusion_matrix(y_test, y_pred)\n",
    "print(\"Confusion Matrix:\")\n",
    "print(result)\n",
    "result1 = classification_report(y_test, y_pred)\n",
    "print(\"Classification Report:\",)\n",
    "print (result1)\n",
    "result2 = accuracy_score(y_test,y_pred)\n",
    "print(\"Accuracy:\",result2*100,\"%\")"
   ]
  },
  {
   "cell_type": "code",
   "execution_count": 29,
   "metadata": {},
   "outputs": [
    {
     "name": "stdout",
     "output_type": "stream",
     "text": [
      "77141\n",
      "277\n",
      "277\n"
     ]
    }
   ],
   "source": [
    "from sklearn.model_selection import cross_val_score\n",
    "print(X_train.shape[0])\n",
    "print (int(np.sqrt(X_train.shape[0])))\n",
    "maxK = int(np.sqrt(X_train.shape[0]))\n",
    "print(maxK)"
   ]
  },
  {
   "cell_type": "code",
   "execution_count": 30,
   "metadata": {},
   "outputs": [],
   "source": [
    "error_rate = []\n",
    "for i in range(1,40):\n",
    "    knn = KNeighborsClassifier(n_neighbors=i)\n",
    "    knn.fit(X_train, y_train)\n",
    "    pred_i = knn.predict(X_test)\n",
    "    error_rate.append(np.mean(pred_i != y_test))"
   ]
  },
  {
   "cell_type": "code",
   "execution_count": 31,
   "metadata": {},
   "outputs": [
    {
     "data": {
      "text/plain": [
       "Text(0, 0.5, 'Mean Error')"
      ]
     },
     "execution_count": 31,
     "metadata": {},
     "output_type": "execute_result"
    },
    {
     "data": {
      "image/png": "[encoded data removed]",
      "text/plain": [
       "<Figure size 864x432 with 1 Axes>"
      ]
     },
     "metadata": {
      "needs_background": "light"
     },
     "output_type": "display_data"
    }
   ],
   "source": [
    "plt.figure(figsize=(12, 6))\n",
    "plt.plot(range(1, 40), error_rate, color='red', linestyle='dashed', marker='o', markerfacecolor='blue', markersize=10)\n",
    "plt.title('Error Rate K Value')\n",
    "plt.xlabel('K Value')\n",
    "plt.ylabel('Mean Error')"
   ]
  },
  {
   "cell_type": "code",
   "execution_count": 32,
   "metadata": {},
   "outputs": [],
   "source": [
    "#SVM Classifier"
   ]
  },
  {
   "cell_type": "code",
   "execution_count": 33,
   "metadata": {},
   "outputs": [],
   "source": [
    "X = ML3.iloc[:, [3, 4, 5, 6, 7, 8, 9]]\n",
    "y = ML3.iloc[:, 1]"
   ]
  },
  {
   "cell_type": "code",
   "execution_count": 34,
   "metadata": {},
   "outputs": [],
   "source": [
    "from sklearn.model_selection import train_test_split\n",
    "X_train, X_test, y_train, y_test = train_test_split(X, y, test_size = 0.20)"
   ]
  },
  {
   "cell_type": "code",
   "execution_count": 35,
   "metadata": {},
   "outputs": [
    {
     "data": {
      "text/plain": [
       "SVC(kernel='linear')"
      ]
     },
     "execution_count": 35,
     "metadata": {},
     "output_type": "execute_result"
    }
   ],
   "source": [
    "from sklearn.svm import SVC\n",
    "svclassifier = SVC(kernel='linear')\n",
    "svclassifier.fit(X_train, y_train)"
   ]
  },
  {
   "cell_type": "code",
   "execution_count": 36,
   "metadata": {},
   "outputs": [],
   "source": [
    "y_pred = svclassifier.predict(X_test)"
   ]
  },
  {
   "cell_type": "code",
   "execution_count": 37,
   "metadata": {},
   "outputs": [
    {
     "data": {
      "text/plain": [
       "<matplotlib.collections.PathCollection at 0x7fa8106d0d30>"
      ]
     },
     "execution_count": 37,
     "metadata": {},
     "output_type": "execute_result"
    },
    {
     "data": {
      "image/png": "[encoded data removed]",
      "text/plain": [
       "<Figure size 432x288 with 1 Axes>"
      ]
     },
     "metadata": {
      "needs_background": "light"
     },
     "output_type": "display_data"
    }
   ],
   "source": [
    "plt.scatter(y_test, y_pred)"
   ]
  },
  {
   "cell_type": "code",
   "execution_count": 38,
   "metadata": {},
   "outputs": [
    {
     "data": {
      "text/plain": [
       "array([[0.62028717, 0.64942328, 0.96      , ..., 0.78551532, 0.62      ,\n",
       "        0.96670426],\n",
       "       [0.57647059, 0.60809158, 0.65      , ..., 0.6545961 , 0.966     ,\n",
       "        0.96937059],\n",
       "       [0.60213062, 0.6322964 , 0.55      , ..., 0.33426184, 0.7       ,\n",
       "        0.97316462],\n",
       "       ...,\n",
       "       [0.37174618, 0.36368403, 0.88      , ..., 0.50417827, 0.744     ,\n",
       "        0.97732181],\n",
       "       [0.58425197, 0.61543167, 0.81      , ..., 0.10027855, 0.598     ,\n",
       "        0.96883541],\n",
       "       [0.46567855, 0.50358266, 0.96      , ..., 0.34261838, 0.128     ,\n",
       "        0.97832527]])"
      ]
     },
     "execution_count": 38,
     "metadata": {},
     "output_type": "execute_result"
    }
   ],
   "source": [
    "from sklearn.preprocessing import MinMaxScaler \n",
    "st_x= MinMaxScaler()\n",
    "st_x.fit_transform(X_test)"
   ]
  },
  {
   "cell_type": "code",
   "execution_count": 39,
   "metadata": {},
   "outputs": [
    {
     "data": {
      "text/plain": [
       "SVC(kernel='linear')"
      ]
     },
     "execution_count": 39,
     "metadata": {},
     "output_type": "execute_result"
    }
   ],
   "source": [
    "from sklearn.svm import SVC\n",
    "svclassifier = SVC(kernel='linear')\n",
    "svclassifier.fit(X_test, y_test)"
   ]
  },
  {
   "cell_type": "code",
   "execution_count": 40,
   "metadata": {},
   "outputs": [],
   "source": [
    "y_pred = knn.predict(X_test)"
   ]
  },
  {
   "cell_type": "code",
   "execution_count": 41,
   "metadata": {},
   "outputs": [
    {
     "data": {
      "text/plain": [
       "<matplotlib.collections.PathCollection at 0x7fa8105548b0>"
      ]
     },
     "execution_count": 41,
     "metadata": {},
     "output_type": "execute_result"
    },
    {
     "data": {
      "image/png": "[encoded data removed]",
      "text/plain": [
       "<Figure size 432x288 with 1 Axes>"
      ]
     },
     "metadata": {
      "needs_background": "light"
     },
     "output_type": "display_data"
    }
   ],
   "source": [
    "plt.scatter(y_test, y_pred)"
   ]
  },
  {
   "cell_type": "code",
   "execution_count": 42,
   "metadata": {},
   "outputs": [
    {
     "name": "stdout",
     "output_type": "stream",
     "text": [
      "('Test accuracy: ', 0.5110442808254693)\n",
      "('Train accuracy: ', 0.50810852853865)\n"
     ]
    }
   ],
   "source": [
    "print((\"Test accuracy: \", knn.score(X_test, y_test)))\n",
    "print((\"Train accuracy: \", knn.score(X_train, y_train)))"
   ]
  },
  {
   "cell_type": "code",
   "execution_count": 43,
   "metadata": {},
   "outputs": [
    {
     "name": "stdout",
     "output_type": "stream",
     "text": [
      "Confusion Matrix:\n",
      "[[   0    0    0    1    0    6    0    0    0    0    0    0    0    0\n",
      "     0    0    2    0    3    0    0    0    0    0]\n",
      " [   0    1    0    1    1    0    0    0    0    0    0    1    0    0\n",
      "     0    0    1    1    0    0    0    0    0    0]\n",
      " [   0    0   28   15   12    1    0    0    0    0    0    0    0    0\n",
      "     0    0   28    8    8    0    0    0    0    0]\n",
      " [   0    0   12   36    2    1    0    0    0    0    0    0    0    0\n",
      "     0    0   19   34    5    0    0    0    0    0]\n",
      " [   0    0   11    4   27    2    0    0    0    0    0    0    0    0\n",
      "     0    0   10    0   14    0    0    0    0    0]\n",
      " [   0    0    0    0    0  389    0    0    0    0    0   92    0    0\n",
      "     0    0  476  136 1088    0    0    0    0    0]\n",
      " [   0    0    0    0    0    0    0    0    0    0    0    0    0    0\n",
      "     0    0    0    0    0    0    0    0    0    1]\n",
      " [   0    0    0    0    0    0    0    0    0    0    0    1    0    0\n",
      "     0    0    3    3    1    0    0    0    0    0]\n",
      " [   0    0    0    0    0    0    0    0    0    0    0    0    0    0\n",
      "     0    0    0    0    4    0    0    0    0    0]\n",
      " [   0    0    0    0    0    0    0    0    0    0    0    0    0    0\n",
      "     0    0    0    0    1    0    0    0    0    0]\n",
      " [   0    0    0    0    0    0    0    0    0    0    0    0    0    0\n",
      "     0    0    1    0   17    0    0    0    0    0]\n",
      " [   0    0    0    0    0   20    0    0    0    0    0 1155    0    0\n",
      "     0    0   27  192   15    0    0    0    0    0]\n",
      " [   0    0    0    0    0    1    0    0    0    0    0    0    0    0\n",
      "     0    0    3    0    3    0    0    0    0    0]\n",
      " [   0    0    0    0    0    0    0    0    0    0    0    0    0    0\n",
      "     0    0    1    0    2    0    0    0    0    0]\n",
      " [   0    0    0    0    0    0    0    0    0    0    0    0    0    0\n",
      "     0    0    2    0    2    0    0    0    0    0]\n",
      " [   0    0    0    0    0    0    0    0    0    0    0    2    0    0\n",
      "     0    0    3    7    2    0    0    0    0    0]\n",
      " [   0    0    1    1    0  129    0    0    0    0    0  101    0    0\n",
      "     0    0 2786  568 1980    0    0    0    0    0]\n",
      " [   0    0    0    1    0   71    0    0    0    0    0  203    0    0\n",
      "     0    0 1169 1336  569    0    0    0    0    0]\n",
      " [   0    0    1    1    1  190    0    0    0    0    0   88    0    0\n",
      "     0    0 1682  336 4095    0    0    0    0    0]\n",
      " [   0    0    0    0    0    0    0    0    0    0    0    2    0    0\n",
      "     0    0    0    1    0    0    0    0    0    0]\n",
      " [   0    0    0    1    0    0    0    0    0    0    0    0    0    0\n",
      "     0    0    0    0    0    0    0    0    0    0]\n",
      " [   0    0    2    0    3    0    0    0    0    0    0    0    0    0\n",
      "     0    0    0    0    0    0    0    0    0    0]\n",
      " [   0    0    0    9    1    0    0    0    0    0    0    0    0    0\n",
      "     0    0    0    0    0    0    0    0    0    0]\n",
      " [   0    0    1    1    7    0    0    0    0    0    0    0    0    0\n",
      "     0    0    1    0    0    0    0    0    0    3]]\n",
      "Classification Report:\n",
      "              precision    recall  f1-score   support\n",
      "\n",
      "           0       0.00      0.00      0.00        12\n",
      "           2       1.00      0.17      0.29         6\n",
      "           3       0.50      0.28      0.36       100\n",
      "           4       0.51      0.33      0.40       109\n",
      "           5       0.50      0.40      0.44        68\n",
      "           6       0.48      0.18      0.26      2181\n",
      "           7       0.00      0.00      0.00         1\n",
      "           8       0.00      0.00      0.00         8\n",
      "           9       0.00      0.00      0.00         4\n",
      "          10       0.00      0.00      0.00         1\n",
      "          11       0.00      0.00      0.00        18\n",
      "          12       0.70      0.82      0.76      1409\n",
      "          13       0.00      0.00      0.00         7\n",
      "          14       0.00      0.00      0.00         3\n",
      "          15       0.00      0.00      0.00         4\n",
      "          16       0.00      0.00      0.00        14\n",
      "          17       0.45      0.50      0.47      5566\n",
      "          18       0.51      0.40      0.45      3349\n",
      "          19       0.52      0.64      0.58      6394\n",
      "          20       0.00      0.00      0.00         3\n",
      "          21       0.00      0.00      0.00         1\n",
      "          24       0.00      0.00      0.00         5\n",
      "          25       0.00      0.00      0.00        10\n",
      "          26       0.75      0.23      0.35        13\n",
      "\n",
      "    accuracy                           0.51     19286\n",
      "   macro avg       0.25      0.16      0.18     19286\n",
      "weighted avg       0.51      0.51      0.50     19286\n",
      "\n",
      "Accuracy: 51.104428082546924 %\n"
     ]
    },
    {
     "name": "stderr",
     "output_type": "stream",
     "text": [
      "/Users/manoj/opt/anaconda3/lib/python3.8/site-packages/sklearn/metrics/_classification.py:1221: UndefinedMetricWarning: Precision and F-score are ill-defined and being set to 0.0 in labels with no predicted samples. Use `zero_division` parameter to control this behavior.\n",
      "  _warn_prf(average, modifier, msg_start, len(result))\n"
     ]
    }
   ],
   "source": [
    "from sklearn.metrics import classification_report, confusion_matrix, accuracy_score\n",
    "result = confusion_matrix(y_test, y_pred)\n",
    "print(\"Confusion Matrix:\")\n",
    "print(result)\n",
    "result1 = classification_report(y_test, y_pred)\n",
    "print(\"Classification Report:\",)\n",
    "print (result1)\n",
    "result2 = accuracy_score(y_test,y_pred)\n",
    "print(\"Accuracy:\",result2*100,\"%\")"
   ]
  },
  {
   "cell_type": "code",
   "execution_count": 44,
   "metadata": {},
   "outputs": [],
   "source": [
    "# Random forest Classifier"
   ]
  },
  {
   "cell_type": "code",
   "execution_count": 45,
   "metadata": {},
   "outputs": [],
   "source": [
    "X = ML3.iloc[:, [3, 4, 5, 6, 7, 8, 9]]\n",
    "y = ML3.iloc[:, 1]"
   ]
  },
  {
   "cell_type": "code",
   "execution_count": 46,
   "metadata": {},
   "outputs": [],
   "source": [
    "from sklearn.model_selection import train_test_split\n",
    "X_train, X_test, y_train, y_test = train_test_split(X, y, test_size = 0.20)"
   ]
  },
  {
   "cell_type": "code",
   "execution_count": 47,
   "metadata": {},
   "outputs": [
    {
     "data": {
      "text/plain": [
       "RandomForestClassifier()"
      ]
     },
     "execution_count": 47,
     "metadata": {},
     "output_type": "execute_result"
    }
   ],
   "source": [
    "from sklearn.ensemble import RandomForestClassifier\n",
    "clf=RandomForestClassifier(n_estimators=100)\n",
    "clf.fit(X_train,y_train)"
   ]
  },
  {
   "cell_type": "code",
   "execution_count": 48,
   "metadata": {},
   "outputs": [],
   "source": [
    "y_pred = clf.predict(X_test)"
   ]
  },
  {
   "cell_type": "code",
   "execution_count": 49,
   "metadata": {},
   "outputs": [
    {
     "data": {
      "text/plain": [
       "array([18, 19, 17, ..., 19, 18, 17])"
      ]
     },
     "execution_count": 49,
     "metadata": {},
     "output_type": "execute_result"
    }
   ],
   "source": [
    "y_pred"
   ]
  },
  {
   "cell_type": "code",
   "execution_count": 50,
   "metadata": {},
   "outputs": [
    {
     "data": {
      "text/plain": [
       "<matplotlib.collections.PathCollection at 0x7fa7e0930280>"
      ]
     },
     "execution_count": 50,
     "metadata": {},
     "output_type": "execute_result"
    },
    {
     "data": {
      "image/png": "[encoded data removed]",
      "text/plain": [
       "<Figure size 432x288 with 1 Axes>"
      ]
     },
     "metadata": {
      "needs_background": "light"
     },
     "output_type": "display_data"
    }
   ],
   "source": [
    "plt.scatter(y_test, y_pred)"
   ]
  },
  {
   "cell_type": "code",
   "execution_count": 51,
   "metadata": {},
   "outputs": [
    {
     "data": {
      "text/plain": [
       "array([[0.60143043, 0.62662035, 0.79      , ..., 0.4178273 , 0.615     ,\n",
       "        0.96979718],\n",
       "       [0.67295189, 0.691858  , 0.68      , ..., 0.41504178, 1.        ,\n",
       "        0.9703611 ],\n",
       "       [0.6487089 , 0.66974498, 0.56      , ..., 0.1281337 , 0.644     ,\n",
       "        0.96084147],\n",
       "       ...,\n",
       "       [0.345718  , 0.32839109, 0.92      , ..., 0.50417827, 0.62      ,\n",
       "        0.97047579],\n",
       "       [0.5526658 , 0.58214013, 0.72      , ..., 0.91922006, 0.62      ,\n",
       "        0.96764667],\n",
       "       [0.68168308, 0.69982208, 0.7       , ..., 0.16713092, 0.62      ,\n",
       "        0.96549615]])"
      ]
     },
     "execution_count": 51,
     "metadata": {},
     "output_type": "execute_result"
    }
   ],
   "source": [
    "from sklearn.preprocessing import MinMaxScaler \n",
    "st_x= MinMaxScaler()\n",
    "st_x.fit_transform(X_test)"
   ]
  },
  {
   "cell_type": "code",
   "execution_count": 52,
   "metadata": {},
   "outputs": [
    {
     "data": {
      "text/plain": [
       "RandomForestClassifier()"
      ]
     },
     "execution_count": 52,
     "metadata": {},
     "output_type": "execute_result"
    }
   ],
   "source": [
    "from sklearn.ensemble import RandomForestClassifier\n",
    "clf=RandomForestClassifier(n_estimators=100)\n",
    "clf.fit(X_test,y_test)"
   ]
  },
  {
   "cell_type": "code",
   "execution_count": 53,
   "metadata": {},
   "outputs": [],
   "source": [
    "y_pred = knn.predict(X_test)"
   ]
  },
  {
   "cell_type": "code",
   "execution_count": 54,
   "metadata": {},
   "outputs": [
    {
     "data": {
      "text/plain": [
       "<matplotlib.collections.PathCollection at 0x7fa7b2e87ca0>"
      ]
     },
     "execution_count": 54,
     "metadata": {},
     "output_type": "execute_result"
    },
    {
     "data": {
      "image/png": "[encoded data removed]",
      "text/plain": [
       "<Figure size 432x288 with 1 Axes>"
      ]
     },
     "metadata": {
      "needs_background": "light"
     },
     "output_type": "display_data"
    }
   ],
   "source": [
    "plt.scatter(y_test, y_pred)"
   ]
  },
  {
   "cell_type": "code",
   "execution_count": 55,
   "metadata": {},
   "outputs": [
    {
     "name": "stdout",
     "output_type": "stream",
     "text": [
      "('Test accuracy: ', 1.0)\n",
      "('Train accuracy: ', 0.5457149894349308)\n"
     ]
    }
   ],
   "source": [
    "print((\"Test accuracy: \", clf.score(X_test, y_test)))\n",
    "print((\"Train accuracy: \", clf.score(X_train, y_train)))"
   ]
  },
  {
   "cell_type": "code",
   "execution_count": 56,
   "metadata": {},
   "outputs": [
    {
     "name": "stdout",
     "output_type": "stream",
     "text": [
      "Confusion Matrix:\n",
      "[[   0    0    0    1    0    0   10    0    0    0    0    0    0    0\n",
      "     0    0    4    1    0    0    0    0    0    0    0]\n",
      " [   0    0    0    0    0    0    0    0    0    0    0    0    0    0\n",
      "     0    0    1    0    0    0    0    0    0    0    0]\n",
      " [   0    0    1    0    1    0    0    0    0    0    0    2    0    0\n",
      "     0    0    2    1    0    0    0    0    0    0    0]\n",
      " [   0    0    0   29   14   16    1    0    0    0    0    0    0    0\n",
      "     0    0   21    3    7    0    0    0    0    0    0]\n",
      " [   0    0    0    4   41    6    0    0    0    0    0    0    0    0\n",
      "     0    0   23   23    4    0    0    0    0    0    0]\n",
      " [   0    0    0   13    5   29    3    0    0    0    0    0    0    0\n",
      "     0    0   16    0   19    0    0    0    0    0    0]\n",
      " [   0    0    0    0    0    0  390    0    0    0    0   74    0    0\n",
      "     0    0  463  121 1147    0    0    0    0    0    0]\n",
      " [   0    0    0    0    0    0    0    0    0    0    0    1    0    0\n",
      "     0    0    1    2    2    0    0    0    0    0    0]\n",
      " [   0    0    0    0    0    0    0    0    0    0    0    0    0    0\n",
      "     0    0    0    0    4    0    0    0    0    0    0]\n",
      " [   0    0    0    0    0    0    0    0    0    0    0    0    0    0\n",
      "     0    0    0    0    3    0    0    0    0    0    0]\n",
      " [   0    0    0    0    0    0    0    0    0    0    0    0    0    0\n",
      "     0    0    2    0   17    0    0    0    0    0    0]\n",
      " [   0    0    0    0    0    0   21    0    0    0    0 1146    0    0\n",
      "     0    0   30  181   13    0    0    0    0    0    0]\n",
      " [   0    0    0    0    0    0    1    0    0    0    0    0    0    0\n",
      "     0    0    2    0    4    0    0    0    0    0    0]\n",
      " [   0    0    0    0    0    0    0    0    0    0    0    0    0    0\n",
      "     0    0    0    0    1    0    0    0    0    0    0]\n",
      " [   0    0    0    0    0    0    0    0    0    0    0    0    0    0\n",
      "     0    0    2    0    2    0    0    0    0    0    0]\n",
      " [   0    0    0    0    0    0    0    0    0    0    0    2    0    0\n",
      "     0    0    5    5    0    0    0    0    0    0    0]\n",
      " [   0    0    0    1    3    0  136    0    0    0    0   77    0    0\n",
      "     0    0 2732  583 2103    0    0    0    0    0    0]\n",
      " [   0    0    0    0    1    0   75    0    0    0    0  209    0    0\n",
      "     0    0 1128 1302  575    0    0    0    0    0    0]\n",
      " [   0    0    0    0    1    0  172    0    0    0    0   91    0    0\n",
      "     0    0 1658  331 4126    0    0    0    0    0    0]\n",
      " [   0    0    0    0    0    0    0    0    0    0    0    1    0    0\n",
      "     0    0    0    2    0    0    0    0    0    0    0]\n",
      " [   0    0    0    0    0    0    1    0    0    0    0    0    0    0\n",
      "     0    0    0    0    0    0    0    0    0    0    0]\n",
      " [   0    0    0    0    0    0    0    0    0    0    0    0    0    0\n",
      "     0    0    1    0    0    0    0    0    0    0    0]\n",
      " [   0    0    0    4    1    2    0    0    0    0    0    0    0    0\n",
      "     0    0    0    0    0    0    0    0    0    0    2]\n",
      " [   0    0    0    1    6    1    0    0    0    0    0    0    0    0\n",
      "     0    0    0    0    0    0    0    0    0    0    0]\n",
      " [   0    0    0    2    1    7    1    0    0    0    0    0    0    0\n",
      "     0    0    0    0    0    0    0    0    0    0    6]]\n",
      "Classification Report:\n",
      "              precision    recall  f1-score   support\n",
      "\n",
      "           0       0.00      0.00      0.00        16\n",
      "           1       0.00      0.00      0.00         1\n",
      "           2       1.00      0.14      0.25         7\n",
      "           3       0.53      0.32      0.40        91\n",
      "           4       0.55      0.41      0.47       101\n",
      "           5       0.48      0.34      0.40        85\n",
      "           6       0.48      0.18      0.26      2195\n",
      "           8       0.00      0.00      0.00         6\n",
      "           9       0.00      0.00      0.00         4\n",
      "          10       0.00      0.00      0.00         3\n",
      "          11       0.00      0.00      0.00        19\n",
      "          12       0.71      0.82      0.77      1391\n",
      "          13       0.00      0.00      0.00         7\n",
      "          14       0.00      0.00      0.00         1\n",
      "          15       0.00      0.00      0.00         4\n",
      "          16       0.00      0.00      0.00        12\n",
      "          17       0.45      0.48      0.47      5635\n",
      "          18       0.51      0.40      0.45      3290\n",
      "          19       0.51      0.65      0.57      6379\n",
      "          20       0.00      0.00      0.00         3\n",
      "          21       0.00      0.00      0.00         1\n",
      "          23       0.00      0.00      0.00         1\n",
      "          24       0.00      0.00      0.00         9\n",
      "          25       0.00      0.00      0.00         8\n",
      "          26       0.75      0.35      0.48        17\n",
      "\n",
      "    accuracy                           0.51     19286\n",
      "   macro avg       0.24      0.16      0.18     19286\n",
      "weighted avg       0.50      0.51      0.49     19286\n",
      "\n",
      "Accuracy: 50.82443223063362 %\n"
     ]
    },
    {
     "name": "stderr",
     "output_type": "stream",
     "text": [
      "/Users/manoj/opt/anaconda3/lib/python3.8/site-packages/sklearn/metrics/_classification.py:1221: UndefinedMetricWarning: Precision and F-score are ill-defined and being set to 0.0 in labels with no predicted samples. Use `zero_division` parameter to control this behavior.\n",
      "  _warn_prf(average, modifier, msg_start, len(result))\n"
     ]
    }
   ],
   "source": [
    "from sklearn.metrics import classification_report, confusion_matrix, accuracy_score\n",
    "result = confusion_matrix(y_test, y_pred)\n",
    "print(\"Confusion Matrix:\")\n",
    "print(result)\n",
    "result1 = classification_report(y_test, y_pred)\n",
    "print(\"Classification Report:\",)\n",
    "print (result1)\n",
    "result2 = accuracy_score(y_test,y_pred)\n",
    "print(\"Accuracy:\",result2*100,\"%\")"
   ]
  },
  {
   "cell_type": "code",
   "execution_count": null,
   "metadata": {},
   "outputs": [],
   "source": []
  }
 ],
 "metadata": {
  "kernelspec": {
   "display_name": "Python 3",
   "language": "python",
   "name": "python3"
  },
  "language_info": {
   "codemirror_mode": {
    "name": "ipython",
    "version": 3
   },
   "file_extension": ".py",
   "mimetype": "text/x-python",
   "name": "python",
   "nbconvert_exporter": "python",
   "pygments_lexer": "ipython3",
   "version": "3.8.3"
  }
 },
 "nbformat": 4,
 "nbformat_minor": 4
}
