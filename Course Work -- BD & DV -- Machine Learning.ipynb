{
 "cells": [
  {
   "cell_type": "code",
   "execution_count": 16,
   "metadata": {},
   "outputs": [],
   "source": [
    "from pyspark.sql import SparkSession\n",
    "from pyspark.ml.regression import LinearRegression\n",
    "from pyspark.ml.feature import VectorAssembler\n",
    "from pyspark.sql.functions import corr\n",
    "spark = SparkSession.builder.appName('lrex').getOrCreate()"
   ]
  },
  {
   "cell_type": "code",
   "execution_count": 17,
   "metadata": {},
   "outputs": [],
   "source": [
    "dtFrame = spark.read.csv(path='/Users/manoj/desktop/cleaneddata.csv', header = True, inferSchema = True)"
   ]
  },
  {
   "cell_type": "code",
   "execution_count": 18,
   "metadata": {},
   "outputs": [
    {
     "name": "stdout",
     "output_type": "stream",
     "text": [
      "(30162, 10)\n"
     ]
    }
   ],
   "source": [
    "print((dtFrame.count(), len(dtFrame.columns)))"
   ]
  },
  {
   "cell_type": "code",
   "execution_count": 19,
   "metadata": {},
   "outputs": [
    {
     "name": "stdout",
     "output_type": "stream",
     "text": [
      "root\n",
      " |-- Age: integer (nullable = true)\n",
      " |-- Sector: string (nullable = true)\n",
      " |-- Educational_Qualification: string (nullable = true)\n",
      " |-- Marital_Status: string (nullable = true)\n",
      " |-- Occupation: string (nullable = true)\n",
      " |-- Relationship: string (nullable = true)\n",
      " |-- Race: string (nullable = true)\n",
      " |-- Gender: string (nullable = true)\n",
      " |-- Country: string (nullable = true)\n",
      " |-- Income: integer (nullable = true)\n",
      "\n"
     ]
    }
   ],
   "source": [
    "dtFrame.printSchema()"
   ]
  },
  {
   "cell_type": "code",
   "execution_count": 37,
   "metadata": {},
   "outputs": [
    {
     "name": "stdout",
     "output_type": "stream",
     "text": [
      "+-------+------------------+-----------+-------------------------+--------------+----------------+------------+------------------+------+----------+-------------------+\n",
      "|summary|               Age|     Sector|Educational_Qualification|Marital_Status|      Occupation|Relationship|              Race|Gender|   Country|             Income|\n",
      "+-------+------------------+-----------+-------------------------+--------------+----------------+------------+------------------+------+----------+-------------------+\n",
      "|  count|             30162|      30162|                    30162|         30162|           30162|       30162|             30162| 30162|     30162|              30162|\n",
      "|   mean|38.437901995888865|       null|                     null|          null|            null|        null|              null|  null|      null|0.24892248524633645|\n",
      "| stddev|13.134664776856031|       null|                     null|          null|            null|        null|              null|  null|      null| 0.4323959763009978|\n",
      "|    min|                17|Federal-gov|                     10th|      Divorced|    Adm-clerical|     Husband|Amer-Indian-Eskimo|Female|  Cambodia|                  0|\n",
      "|    max|                90|Without-pay|             Some-college|       Widowed|Transport-moving|        Wife|             White|  Male|Yugoslavia|                  1|\n",
      "+-------+------------------+-----------+-------------------------+--------------+----------------+------------+------------------+------+----------+-------------------+\n",
      "\n"
     ]
    }
   ],
   "source": [
    "dfFrame1 = dtFrame.describe().show(5)"
   ]
  },
  {
   "cell_type": "code",
   "execution_count": 38,
   "metadata": {},
   "outputs": [
    {
     "name": "stdout",
     "output_type": "stream",
     "text": [
      "+-------------------+\n",
      "|  corr(Age, Income)|\n",
      "+-------------------+\n",
      "|0.24199813626611658|\n",
      "+-------------------+\n",
      "\n"
     ]
    }
   ],
   "source": [
    "dtFrame1.select(corr('Age','Income')).show()"
   ]
  },
  {
   "cell_type": "code",
   "execution_count": 29,
   "metadata": {},
   "outputs": [],
   "source": [
    "assembler = VectorAssembler(inputCols=['Age'], outputCol='features')\n",
    "dtFrame2 = assembler.transform(dtFrame)"
   ]
  },
  {
   "cell_type": "code",
   "execution_count": 31,
   "metadata": {},
   "outputs": [],
   "source": [
    "dtFrame2 = dtFrame2.select(['features','Income'])"
   ]
  },
  {
   "cell_type": "code",
   "execution_count": 32,
   "metadata": {},
   "outputs": [],
   "source": [
    "lr = LinearRegression(maxIter=10, labelCol='Income')\n",
    "lrModel = lr.fit(dtFrame2)"
   ]
  },
  {
   "cell_type": "code",
   "execution_count": 33,
   "metadata": {},
   "outputs": [
    {
     "name": "stdout",
     "output_type": "stream",
     "text": [
      "Intercept: -0.057298075321775326\n",
      "Coefficient: [0.00796663]\n"
     ]
    }
   ],
   "source": [
    "print(f'Intercept: {lrModel.intercept}\\nCoefficient: {lrModel.coefficients.values}')"
   ]
  },
  {
   "cell_type": "code",
   "execution_count": 34,
   "metadata": {},
   "outputs": [],
   "source": [
    "modelsummary = lrModel.summary"
   ]
  },
  {
   "cell_type": "code",
   "execution_count": 35,
   "metadata": {},
   "outputs": [
    {
     "name": "stdout",
     "output_type": "stream",
     "text": [
      "Explained Variance: 0.01094896157178559\n",
      "R Squared: 0.058563097956275234\n",
      "Std. Error: [0.00018392577341383085, 0.007471068558553936]\n",
      "Root Mean Squared Err: 0.4195367922046183\n",
      "Mean Absolute Err: 0.35202224002668153\n",
      "Mean Squared Err: 0.17601112001334107\n",
      "P-value: [0.0, 1.7763568394002505e-14]\n",
      "+--------------------+\n",
      "|           residuals|\n",
      "+--------------------+\n",
      "| -0.5959656217777912|\n",
      "|-0.37289996910964657|\n",
      "|-0.26933377322800794|\n",
      "|-0.21356736006097177|\n",
      "|-0.24543388187070675|\n",
      "+--------------------+\n",
      "only showing top 5 rows\n",
      "\n",
      "Num Iterations: 1\n",
      "Objective History: [0.0]\n"
     ]
    }
   ],
   "source": [
    "print(f'Explained Variance: {modelsummary.explainedVariance}\\nR Squared: {modelsummary.r2}')\n",
    "print(f'Std. Error: {modelsummary.coefficientStandardErrors}\\nRoot Mean Squared Err: {modelsummary.rootMeanSquaredError}')\n",
    "print(f'Mean Absolute Err: {modelsummary.meanAbsoluteError}\\nMean Squared Err: {modelsummary.meanSquaredError}')\n",
    "print(f'P-value: {modelsummary.pValues}')\n",
    "modelsummary.residuals.show(5)\n",
    "print(f'Num Iterations: {modelsummary.totalIterations}\\nObjective History: {modelsummary.objectiveHistory}')"
   ]
  },
  {
   "cell_type": "code",
   "execution_count": 36,
   "metadata": {},
   "outputs": [
    {
     "name": "stdout",
     "output_type": "stream",
     "text": [
      "+--------+------+-------------------+\n",
      "|features|Income|         prediction|\n",
      "+--------+------+-------------------+\n",
      "|  [82.0]|   0.0| 0.5959656217777912|\n",
      "|  [54.0]|   0.0|0.37289996910964657|\n",
      "|  [41.0]|   0.0|0.26933377322800794|\n",
      "|  [34.0]|   0.0|0.21356736006097177|\n",
      "|  [38.0]|   0.0|0.24543388187070675|\n",
      "+--------+------+-------------------+\n",
      "only showing top 5 rows\n",
      "\n"
     ]
    }
   ],
   "source": [
    "modelsummary.predictions.show(5)"
   ]
  }
 ],
 "metadata": {
  "kernelspec": {
   "display_name": "Python 3",
   "language": "python",
   "name": "python3"
  },
  "language_info": {
   "codemirror_mode": {
    "name": "ipython",
    "version": 3
   },
   "file_extension": ".py",
   "mimetype": "text/x-python",
   "name": "python",
   "nbconvert_exporter": "python",
   "pygments_lexer": "ipython3",
   "version": "3.8.3"
  }
 },
 "nbformat": 4,
 "nbformat_minor": 4
}
